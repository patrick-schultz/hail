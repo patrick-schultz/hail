{
 "cells": [
  {
   "cell_type": "code",
   "execution_count": 3,
   "metadata": {
    "slideshow": {
     "slide_type": "slide"
    }
   },
   "outputs": [
    {
     "data": {
      "text/html": [
       "\n",
       "    <div class=\"bk-root\">\n",
       "        <a href=\"https://bokeh.pydata.org\" target=\"_blank\" class=\"bk-logo bk-logo-small bk-logo-notebook\"></a>\n",
       "        <span id=\"a6ce05a5-209e-4648-8dc5-ad3a62fca756\">Loading BokehJS ...</span>\n",
       "    </div>"
      ]
     },
     "metadata": {},
     "output_type": "display_data"
    },
    {
     "data": {
      "application/javascript": [
       "\n",
       "(function(root) {\n",
       "  function now() {\n",
       "    return new Date();\n",
       "  }\n",
       "\n",
       "  var force = true;\n",
       "\n",
       "  if (typeof (root._bokeh_onload_callbacks) === \"undefined\" || force === true) {\n",
       "    root._bokeh_onload_callbacks = [];\n",
       "    root._bokeh_is_loading = undefined;\n",
       "  }\n",
       "\n",
       "  var JS_MIME_TYPE = 'application/javascript';\n",
       "  var HTML_MIME_TYPE = 'text/html';\n",
       "  var EXEC_MIME_TYPE = 'application/vnd.bokehjs_exec.v0+json';\n",
       "  var CLASS_NAME = 'output_bokeh rendered_html';\n",
       "\n",
       "  /**\n",
       "   * Render data to the DOM node\n",
       "   */\n",
       "  function render(props, node) {\n",
       "    var script = document.createElement(\"script\");\n",
       "    node.appendChild(script);\n",
       "  }\n",
       "\n",
       "  /**\n",
       "   * Handle when an output is cleared or removed\n",
       "   */\n",
       "  function handleClearOutput(event, handle) {\n",
       "    var cell = handle.cell;\n",
       "\n",
       "    var id = cell.output_area._bokeh_element_id;\n",
       "    var server_id = cell.output_area._bokeh_server_id;\n",
       "    // Clean up Bokeh references\n",
       "    if (id !== undefined) {\n",
       "      Bokeh.index[id].model.document.clear();\n",
       "      delete Bokeh.index[id];\n",
       "    }\n",
       "\n",
       "    if (server_id !== undefined) {\n",
       "      // Clean up Bokeh references\n",
       "      var cmd = \"from bokeh.io.state import curstate; print(curstate().uuid_to_server['\" + server_id + \"'].get_sessions()[0].document.roots[0]._id)\";\n",
       "      cell.notebook.kernel.execute(cmd, {\n",
       "        iopub: {\n",
       "          output: function(msg) {\n",
       "            var element_id = msg.content.text.trim();\n",
       "            Bokeh.index[element_id].model.document.clear();\n",
       "            delete Bokeh.index[element_id];\n",
       "          }\n",
       "        }\n",
       "      });\n",
       "      // Destroy server and session\n",
       "      var cmd = \"import bokeh.io.notebook as ion; ion.destroy_server('\" + server_id + \"')\";\n",
       "      cell.notebook.kernel.execute(cmd);\n",
       "    }\n",
       "  }\n",
       "\n",
       "  /**\n",
       "   * Handle when a new output is added\n",
       "   */\n",
       "  function handleAddOutput(event, handle) {\n",
       "    var output_area = handle.output_area;\n",
       "    var output = handle.output;\n",
       "\n",
       "    // limit handleAddOutput to display_data with EXEC_MIME_TYPE content only\n",
       "    if ((output.output_type != \"display_data\") || (!output.data.hasOwnProperty(EXEC_MIME_TYPE))) {\n",
       "      return\n",
       "    }\n",
       "\n",
       "    var toinsert = output_area.element.find(\".\" + CLASS_NAME.split(' ')[0]);\n",
       "\n",
       "    if (output.metadata[EXEC_MIME_TYPE][\"id\"] !== undefined) {\n",
       "      toinsert[0].firstChild.textContent = output.data[JS_MIME_TYPE];\n",
       "      // store reference to embed id on output_area\n",
       "      output_area._bokeh_element_id = output.metadata[EXEC_MIME_TYPE][\"id\"];\n",
       "    }\n",
       "    if (output.metadata[EXEC_MIME_TYPE][\"server_id\"] !== undefined) {\n",
       "      var bk_div = document.createElement(\"div\");\n",
       "      bk_div.innerHTML = output.data[HTML_MIME_TYPE];\n",
       "      var script_attrs = bk_div.children[0].attributes;\n",
       "      for (var i = 0; i < script_attrs.length; i++) {\n",
       "        toinsert[0].firstChild.setAttribute(script_attrs[i].name, script_attrs[i].value);\n",
       "      }\n",
       "      // store reference to server id on output_area\n",
       "      output_area._bokeh_server_id = output.metadata[EXEC_MIME_TYPE][\"server_id\"];\n",
       "    }\n",
       "  }\n",
       "\n",
       "  function register_renderer(events, OutputArea) {\n",
       "\n",
       "    function append_mime(data, metadata, element) {\n",
       "      // create a DOM node to render to\n",
       "      var toinsert = this.create_output_subarea(\n",
       "        metadata,\n",
       "        CLASS_NAME,\n",
       "        EXEC_MIME_TYPE\n",
       "      );\n",
       "      this.keyboard_manager.register_events(toinsert);\n",
       "      // Render to node\n",
       "      var props = {data: data, metadata: metadata[EXEC_MIME_TYPE]};\n",
       "      render(props, toinsert[0]);\n",
       "      element.append(toinsert);\n",
       "      return toinsert\n",
       "    }\n",
       "\n",
       "    /* Handle when an output is cleared or removed */\n",
       "    events.on('clear_output.CodeCell', handleClearOutput);\n",
       "    events.on('delete.Cell', handleClearOutput);\n",
       "\n",
       "    /* Handle when a new output is added */\n",
       "    events.on('output_added.OutputArea', handleAddOutput);\n",
       "\n",
       "    /**\n",
       "     * Register the mime type and append_mime function with output_area\n",
       "     */\n",
       "    OutputArea.prototype.register_mime_type(EXEC_MIME_TYPE, append_mime, {\n",
       "      /* Is output safe? */\n",
       "      safe: true,\n",
       "      /* Index of renderer in `output_area.display_order` */\n",
       "      index: 0\n",
       "    });\n",
       "  }\n",
       "\n",
       "  // register the mime type if in Jupyter Notebook environment and previously unregistered\n",
       "  if (root.Jupyter !== undefined) {\n",
       "    var events = require('base/js/events');\n",
       "    var OutputArea = require('notebook/js/outputarea').OutputArea;\n",
       "\n",
       "    if (OutputArea.prototype.mime_types().indexOf(EXEC_MIME_TYPE) == -1) {\n",
       "      register_renderer(events, OutputArea);\n",
       "    }\n",
       "  }\n",
       "\n",
       "  \n",
       "  if (typeof (root._bokeh_timeout) === \"undefined\" || force === true) {\n",
       "    root._bokeh_timeout = Date.now() + 5000;\n",
       "    root._bokeh_failed_load = false;\n",
       "  }\n",
       "\n",
       "  var NB_LOAD_WARNING = {'data': {'text/html':\n",
       "     \"<div style='background-color: #fdd'>\\n\"+\n",
       "     \"<p>\\n\"+\n",
       "     \"BokehJS does not appear to have successfully loaded. If loading BokehJS from CDN, this \\n\"+\n",
       "     \"may be due to a slow or bad network connection. Possible fixes:\\n\"+\n",
       "     \"</p>\\n\"+\n",
       "     \"<ul>\\n\"+\n",
       "     \"<li>re-rerun `output_notebook()` to attempt to load from CDN again, or</li>\\n\"+\n",
       "     \"<li>use INLINE resources instead, as so:</li>\\n\"+\n",
       "     \"</ul>\\n\"+\n",
       "     \"<code>\\n\"+\n",
       "     \"from bokeh.resources import INLINE\\n\"+\n",
       "     \"output_notebook(resources=INLINE)\\n\"+\n",
       "     \"</code>\\n\"+\n",
       "     \"</div>\"}};\n",
       "\n",
       "  function display_loaded() {\n",
       "    var el = document.getElementById(\"a6ce05a5-209e-4648-8dc5-ad3a62fca756\");\n",
       "    if (el != null) {\n",
       "      el.textContent = \"BokehJS is loading...\";\n",
       "    }\n",
       "    if (root.Bokeh !== undefined) {\n",
       "      if (el != null) {\n",
       "        el.textContent = \"BokehJS \" + root.Bokeh.version + \" successfully loaded.\";\n",
       "      }\n",
       "    } else if (Date.now() < root._bokeh_timeout) {\n",
       "      setTimeout(display_loaded, 100)\n",
       "    }\n",
       "  }\n",
       "\n",
       "\n",
       "  function run_callbacks() {\n",
       "    try {\n",
       "      root._bokeh_onload_callbacks.forEach(function(callback) { callback() });\n",
       "    }\n",
       "    finally {\n",
       "      delete root._bokeh_onload_callbacks\n",
       "    }\n",
       "    console.info(\"Bokeh: all callbacks have finished\");\n",
       "  }\n",
       "\n",
       "  function load_libs(js_urls, callback) {\n",
       "    root._bokeh_onload_callbacks.push(callback);\n",
       "    if (root._bokeh_is_loading > 0) {\n",
       "      console.log(\"Bokeh: BokehJS is being loaded, scheduling callback at\", now());\n",
       "      return null;\n",
       "    }\n",
       "    if (js_urls == null || js_urls.length === 0) {\n",
       "      run_callbacks();\n",
       "      return null;\n",
       "    }\n",
       "    console.log(\"Bokeh: BokehJS not loaded, scheduling load and callback at\", now());\n",
       "    root._bokeh_is_loading = js_urls.length;\n",
       "    for (var i = 0; i < js_urls.length; i++) {\n",
       "      var url = js_urls[i];\n",
       "      var s = document.createElement('script');\n",
       "      s.src = url;\n",
       "      s.async = false;\n",
       "      s.onreadystatechange = s.onload = function() {\n",
       "        root._bokeh_is_loading--;\n",
       "        if (root._bokeh_is_loading === 0) {\n",
       "          console.log(\"Bokeh: all BokehJS libraries loaded\");\n",
       "          run_callbacks()\n",
       "        }\n",
       "      };\n",
       "      s.onerror = function() {\n",
       "        console.warn(\"failed to load library \" + url);\n",
       "      };\n",
       "      console.log(\"Bokeh: injecting script tag for BokehJS library: \", url);\n",
       "      document.getElementsByTagName(\"head\")[0].appendChild(s);\n",
       "    }\n",
       "  };var element = document.getElementById(\"a6ce05a5-209e-4648-8dc5-ad3a62fca756\");\n",
       "  if (element == null) {\n",
       "    console.log(\"Bokeh: ERROR: autoload.js configured with elementid 'a6ce05a5-209e-4648-8dc5-ad3a62fca756' but no matching script tag was found. \")\n",
       "    return false;\n",
       "  }\n",
       "\n",
       "  var js_urls = [\"https://cdn.pydata.org/bokeh/release/bokeh-0.12.13.min.js\", \"https://cdn.pydata.org/bokeh/release/bokeh-widgets-0.12.13.min.js\", \"https://cdn.pydata.org/bokeh/release/bokeh-tables-0.12.13.min.js\", \"https://cdn.pydata.org/bokeh/release/bokeh-gl-0.12.13.min.js\"];\n",
       "\n",
       "  var inline_js = [\n",
       "    function(Bokeh) {\n",
       "      Bokeh.set_log_level(\"info\");\n",
       "    },\n",
       "    \n",
       "    function(Bokeh) {\n",
       "      \n",
       "    },\n",
       "    function(Bokeh) {\n",
       "      console.log(\"Bokeh: injecting CSS: https://cdn.pydata.org/bokeh/release/bokeh-0.12.13.min.css\");\n",
       "      Bokeh.embed.inject_css(\"https://cdn.pydata.org/bokeh/release/bokeh-0.12.13.min.css\");\n",
       "      console.log(\"Bokeh: injecting CSS: https://cdn.pydata.org/bokeh/release/bokeh-widgets-0.12.13.min.css\");\n",
       "      Bokeh.embed.inject_css(\"https://cdn.pydata.org/bokeh/release/bokeh-widgets-0.12.13.min.css\");\n",
       "      console.log(\"Bokeh: injecting CSS: https://cdn.pydata.org/bokeh/release/bokeh-tables-0.12.13.min.css\");\n",
       "      Bokeh.embed.inject_css(\"https://cdn.pydata.org/bokeh/release/bokeh-tables-0.12.13.min.css\");\n",
       "    }\n",
       "  ];\n",
       "\n",
       "  function run_inline_js() {\n",
       "    \n",
       "    if ((root.Bokeh !== undefined) || (force === true)) {\n",
       "      for (var i = 0; i < inline_js.length; i++) {\n",
       "        inline_js[i].call(root, root.Bokeh);\n",
       "      }if (force === true) {\n",
       "        display_loaded();\n",
       "      }} else if (Date.now() < root._bokeh_timeout) {\n",
       "      setTimeout(run_inline_js, 100);\n",
       "    } else if (!root._bokeh_failed_load) {\n",
       "      console.log(\"Bokeh: BokehJS failed to load within specified timeout.\");\n",
       "      root._bokeh_failed_load = true;\n",
       "    } else if (force !== true) {\n",
       "      var cell = $(document.getElementById(\"a6ce05a5-209e-4648-8dc5-ad3a62fca756\")).parents('.cell').data().cell;\n",
       "      cell.output_area.append_execute_result(NB_LOAD_WARNING)\n",
       "    }\n",
       "\n",
       "  }\n",
       "\n",
       "  if (root._bokeh_is_loading === 0) {\n",
       "    console.log(\"Bokeh: BokehJS loaded, going straight to plotting\");\n",
       "    run_inline_js();\n",
       "  } else {\n",
       "    load_libs(js_urls, function() {\n",
       "      console.log(\"Bokeh: BokehJS plotting callback run at\", now());\n",
       "      run_inline_js();\n",
       "    });\n",
       "  }\n",
       "}(window));"
      ],
      "application/vnd.bokehjs_load.v0+json": "\n(function(root) {\n  function now() {\n    return new Date();\n  }\n\n  var force = true;\n\n  if (typeof (root._bokeh_onload_callbacks) === \"undefined\" || force === true) {\n    root._bokeh_onload_callbacks = [];\n    root._bokeh_is_loading = undefined;\n  }\n\n  \n\n  \n  if (typeof (root._bokeh_timeout) === \"undefined\" || force === true) {\n    root._bokeh_timeout = Date.now() + 5000;\n    root._bokeh_failed_load = false;\n  }\n\n  var NB_LOAD_WARNING = {'data': {'text/html':\n     \"<div style='background-color: #fdd'>\\n\"+\n     \"<p>\\n\"+\n     \"BokehJS does not appear to have successfully loaded. If loading BokehJS from CDN, this \\n\"+\n     \"may be due to a slow or bad network connection. Possible fixes:\\n\"+\n     \"</p>\\n\"+\n     \"<ul>\\n\"+\n     \"<li>re-rerun `output_notebook()` to attempt to load from CDN again, or</li>\\n\"+\n     \"<li>use INLINE resources instead, as so:</li>\\n\"+\n     \"</ul>\\n\"+\n     \"<code>\\n\"+\n     \"from bokeh.resources import INLINE\\n\"+\n     \"output_notebook(resources=INLINE)\\n\"+\n     \"</code>\\n\"+\n     \"</div>\"}};\n\n  function display_loaded() {\n    var el = document.getElementById(\"a6ce05a5-209e-4648-8dc5-ad3a62fca756\");\n    if (el != null) {\n      el.textContent = \"BokehJS is loading...\";\n    }\n    if (root.Bokeh !== undefined) {\n      if (el != null) {\n        el.textContent = \"BokehJS \" + root.Bokeh.version + \" successfully loaded.\";\n      }\n    } else if (Date.now() < root._bokeh_timeout) {\n      setTimeout(display_loaded, 100)\n    }\n  }\n\n\n  function run_callbacks() {\n    try {\n      root._bokeh_onload_callbacks.forEach(function(callback) { callback() });\n    }\n    finally {\n      delete root._bokeh_onload_callbacks\n    }\n    console.info(\"Bokeh: all callbacks have finished\");\n  }\n\n  function load_libs(js_urls, callback) {\n    root._bokeh_onload_callbacks.push(callback);\n    if (root._bokeh_is_loading > 0) {\n      console.log(\"Bokeh: BokehJS is being loaded, scheduling callback at\", now());\n      return null;\n    }\n    if (js_urls == null || js_urls.length === 0) {\n      run_callbacks();\n      return null;\n    }\n    console.log(\"Bokeh: BokehJS not loaded, scheduling load and callback at\", now());\n    root._bokeh_is_loading = js_urls.length;\n    for (var i = 0; i < js_urls.length; i++) {\n      var url = js_urls[i];\n      var s = document.createElement('script');\n      s.src = url;\n      s.async = false;\n      s.onreadystatechange = s.onload = function() {\n        root._bokeh_is_loading--;\n        if (root._bokeh_is_loading === 0) {\n          console.log(\"Bokeh: all BokehJS libraries loaded\");\n          run_callbacks()\n        }\n      };\n      s.onerror = function() {\n        console.warn(\"failed to load library \" + url);\n      };\n      console.log(\"Bokeh: injecting script tag for BokehJS library: \", url);\n      document.getElementsByTagName(\"head\")[0].appendChild(s);\n    }\n  };var element = document.getElementById(\"a6ce05a5-209e-4648-8dc5-ad3a62fca756\");\n  if (element == null) {\n    console.log(\"Bokeh: ERROR: autoload.js configured with elementid 'a6ce05a5-209e-4648-8dc5-ad3a62fca756' but no matching script tag was found. \")\n    return false;\n  }\n\n  var js_urls = [\"https://cdn.pydata.org/bokeh/release/bokeh-0.12.13.min.js\", \"https://cdn.pydata.org/bokeh/release/bokeh-widgets-0.12.13.min.js\", \"https://cdn.pydata.org/bokeh/release/bokeh-tables-0.12.13.min.js\", \"https://cdn.pydata.org/bokeh/release/bokeh-gl-0.12.13.min.js\"];\n\n  var inline_js = [\n    function(Bokeh) {\n      Bokeh.set_log_level(\"info\");\n    },\n    \n    function(Bokeh) {\n      \n    },\n    function(Bokeh) {\n      console.log(\"Bokeh: injecting CSS: https://cdn.pydata.org/bokeh/release/bokeh-0.12.13.min.css\");\n      Bokeh.embed.inject_css(\"https://cdn.pydata.org/bokeh/release/bokeh-0.12.13.min.css\");\n      console.log(\"Bokeh: injecting CSS: https://cdn.pydata.org/bokeh/release/bokeh-widgets-0.12.13.min.css\");\n      Bokeh.embed.inject_css(\"https://cdn.pydata.org/bokeh/release/bokeh-widgets-0.12.13.min.css\");\n      console.log(\"Bokeh: injecting CSS: https://cdn.pydata.org/bokeh/release/bokeh-tables-0.12.13.min.css\");\n      Bokeh.embed.inject_css(\"https://cdn.pydata.org/bokeh/release/bokeh-tables-0.12.13.min.css\");\n    }\n  ];\n\n  function run_inline_js() {\n    \n    if ((root.Bokeh !== undefined) || (force === true)) {\n      for (var i = 0; i < inline_js.length; i++) {\n        inline_js[i].call(root, root.Bokeh);\n      }if (force === true) {\n        display_loaded();\n      }} else if (Date.now() < root._bokeh_timeout) {\n      setTimeout(run_inline_js, 100);\n    } else if (!root._bokeh_failed_load) {\n      console.log(\"Bokeh: BokehJS failed to load within specified timeout.\");\n      root._bokeh_failed_load = true;\n    } else if (force !== true) {\n      var cell = $(document.getElementById(\"a6ce05a5-209e-4648-8dc5-ad3a62fca756\")).parents('.cell').data().cell;\n      cell.output_area.append_execute_result(NB_LOAD_WARNING)\n    }\n\n  }\n\n  if (root._bokeh_is_loading === 0) {\n    console.log(\"Bokeh: BokehJS loaded, going straight to plotting\");\n    run_inline_js();\n  } else {\n    load_libs(js_urls, function() {\n      console.log(\"Bokeh: BokehJS plotting callback run at\", now());\n      run_inline_js();\n    });\n  }\n}(window));"
     },
     "metadata": {},
     "output_type": "display_data"
    }
   ],
   "source": [
    "import numpy as np\n",
    "from scipy.stats import gaussian_kde, gamma, beta, gmean, norm\n",
    "import pprint\n",
    "from bokeh.plotting import figure, show\n",
    "from bokeh.io import push_notebook\n",
    "from bokeh.models import ColumnDataSource\n",
    "from ipywidgets import interact\n",
    "import hail as hl\n",
    "hl.plot.output_notebook()"
   ]
  },
  {
   "cell_type": "code",
   "execution_count": null,
   "metadata": {},
   "outputs": [],
   "source": [
    "import plotly.plotly as py\n",
    "from plotly.offline import iplot, init_notebook_mode\n",
    "import plotly.graph_objs as go\n",
    "init_notebook_mode(connected=True)"
   ]
  },
  {
   "cell_type": "code",
   "execution_count": null,
   "metadata": {},
   "outputs": [],
   "source": [
    "mt = hl.utils.range_matrix_table(100000, 100, n_partitions=1)\n",
    "mt = mt.annotate_entries(k = mt.col_idx).cache()"
   ]
  },
  {
   "cell_type": "code",
   "execution_count": null,
   "metadata": {},
   "outputs": [],
   "source": [
    "mt2 = mt.annotate_rows(med = hl.agg.approx_quantiles(mt.k, 0.5))\n",
    "%timeit mt2.aggregate_rows(hl.agg.mean(mt2.med))"
   ]
  },
  {
   "cell_type": "code",
   "execution_count": null,
   "metadata": {},
   "outputs": [],
   "source": [
    "t = hl.utils.range_table(100000, n_partitions=1)\n",
    "t = t.annotate(array = hl.range(0, 100)).cache()"
   ]
  },
  {
   "cell_type": "code",
   "execution_count": null,
   "metadata": {},
   "outputs": [],
   "source": [
    "t2 = t.annotate(med = hl.median(t.array))\n",
    "%timeit t2.aggregate(hl.agg.mean(t2.med))"
   ]
  },
  {
   "cell_type": "code",
   "execution_count": null,
   "metadata": {},
   "outputs": [],
   "source": [
    "t = hl.utils.range_table(10000000, n_partitions=8)\n",
    "t = t.annotate(k = hl.rand_gamma(9,.5))\n",
    "data = t.aggregate(hl.agg.approx_cdf(t.k, k=50))\n",
    "\n",
    "p = [go.Scatter(x = [*data.values, data.values[-1]], y = data.ranks, mode = 'lines', line=dict(shape='hv'))]\n",
    "iplot(p)"
   ]
  },
  {
   "cell_type": "markdown",
   "metadata": {},
   "source": [
    "New `hl.plot.cdf` and `hl.plot.pdf` aim to be easy to use black boxes."
   ]
  },
  {
   "cell_type": "code",
   "execution_count": null,
   "metadata": {
    "slideshow": {
     "slide_type": "slide"
    }
   },
   "outputs": [],
   "source": [
    "t = hl.utils.range_table(10000000, n_partitions=8)\n",
    "t = t.annotate(k = hl.rand_gamma(9,.5))\n",
    "\n",
    "hl.plot.show(hl.plot.cdf(t.k))"
   ]
  },
  {
   "cell_type": "code",
   "execution_count": null,
   "metadata": {},
   "outputs": [],
   "source": [
    "p = hl.plot.cdf(t.k, k=50)\n",
    "x_d = np.linspace(0, 15, 1000)\n",
    "p.line(x=x_d, y=gamma.cdf(x_d, 9, scale=.5), color='green', line_width=2)\n",
    "hl.plot.show(p)"
   ]
  },
  {
   "cell_type": "code",
   "execution_count": null,
   "metadata": {},
   "outputs": [],
   "source": [
    "(p, i) = hl.plot.pdf(t.k, interactive=True)\n",
    "hl.plot.show(p, interact=i)"
   ]
  },
  {
   "cell_type": "markdown",
   "metadata": {},
   "source": [
    "Rather than passing a Hail expression like `t.k` to the plotting functions, you can also perform the `hl.agg.approx_cdf` aggregation yourself, and pass the result to `hl.plot.{cdf, pdf, histogram}`."
   ]
  },
  {
   "cell_type": "code",
   "execution_count": null,
   "metadata": {},
   "outputs": [],
   "source": [
    "data = t.aggregate(hl.agg.approx_cdf(t.k, k=350))\n",
    "print(len(data.values))\n",
    "(p, i) = hl.plot.pdf(data, interactive=True)\n",
    "x_d = np.linspace(data.values[0], data.values[-1], 1000)\n",
    "p.line(x=x_d, y=gamma.pdf(x_d, 9, scale=.5), color='green', line_width=2)\n",
    "hl.plot.show(p, interact=i)"
   ]
  },
  {
   "cell_type": "markdown",
   "metadata": {},
   "source": [
    "The PDF is smoothing using a variable bandwidth kernel density estimator. For comparison, here is a fixed bandwidth estimator."
   ]
  },
  {
   "cell_type": "code",
   "execution_count": null,
   "metadata": {},
   "outputs": [],
   "source": [
    "from scipy.stats import gaussian_kde\n",
    "values = np.array(data.values)\n",
    "weights = np.diff(data.ranks)\n",
    "kde = gaussian_kde(values, .05, weights)\n",
    "x_d = np.linspace(values[0], values[-1], 1000)\n",
    "p = figure()\n",
    "p.line(x=x_d, y=gamma.pdf(x_d, 9, scale=.5), color='green', line_width=2)\n",
    "l = p.line(x_d, kde(x_d), line_width=2, line_color='black')\n",
    "\n",
    "handle = show(p, notebook_handle=True)\n",
    "\n",
    "def update(smoothing=.05):\n",
    "    kde = gaussian_kde(values, smoothing, weights)\n",
    "    l.data_source.data = {'x': x_d, 'y': kde(x_d)}\n",
    "    push_notebook(handle)\n",
    "    \n",
    "interact(update, smoothing=(.001, .2, .0005))"
   ]
  },
  {
   "cell_type": "markdown",
   "metadata": {},
   "source": [
    "Finally, without any smoothing..."
   ]
  },
  {
   "cell_type": "code",
   "execution_count": null,
   "metadata": {},
   "outputs": [],
   "source": [
    "data = t.aggregate(hl.agg.approx_cdf(t.k, k=350))\n",
    "p = figure()\n",
    "hist, edges = np.histogram(data.values, data.values, weights=np.diff(data.ranks), density=True)\n",
    "p.quad(bottom=0, top=hist, left=edges[:-1], right=edges[1:])\n",
    "x_d = np.linspace(data.values[0], data.values[-1], 1000)\n",
    "p.line(x=x_d, y=gamma.pdf(x_d, 9, scale=.5), color='green', line_width=2)\n",
    "show(p)"
   ]
  },
  {
   "cell_type": "code",
   "execution_count": null,
   "metadata": {},
   "outputs": [],
   "source": [
    "hl.plot.show(hl.plot.histogram(t.k))"
   ]
  },
  {
   "cell_type": "code",
   "execution_count": null,
   "metadata": {},
   "outputs": [],
   "source": [
    "(p, i) = hl.plot.histogram(data, interactive=True)\n",
    "hl.plot.show(p, interact=i)"
   ]
  },
  {
   "cell_type": "markdown",
   "metadata": {},
   "source": [
    "A demonstration of the improvement over sampling:"
   ]
  },
  {
   "cell_type": "code",
   "execution_count": null,
   "metadata": {},
   "outputs": [],
   "source": [
    "n = 100000\n",
    "t = hl.utils.range_table(n, n_partitions=8)\n",
    "t = t.annotate(k = hl.rand_gamma(9,.5), s = hl.rand_unif(0, 1))\n",
    "t = t.key_by(t.s)\n",
    "\n",
    "samp_size = 2000\n",
    "sample = t.aggregate(hl.agg.take(t.k, samp_size))\n",
    "\n",
    "weights = np.full(samp_size, n / samp_size)\n",
    "values = np.array(sample)\n",
    "slope = 1 / 15\n",
    "\n",
    "smoothing = .5\n",
    "\n",
    "def f(x, prev, smoothing=smoothing):\n",
    "    inv_scale = (np.sqrt(n * slope) / smoothing) * np.sqrt(prev / weights)\n",
    "    diff = x[:, np.newaxis] - values\n",
    "    grid = (3 / (4 * n)) * weights * np.maximum(0, inv_scale - np.power(diff, 2) * np.power(inv_scale, 3))\n",
    "    return np.sum(grid, axis=1)\n",
    "\n",
    "round1 = f(values, np.full(len(values), slope))\n",
    "x_d = np.linspace(0, 15, 1000)\n",
    "final = f(x_d, round1)\n",
    "\n",
    "p = figure()\n",
    "l = p.line(x_d, final, line_width=2, line_color='black')\n",
    "\n",
    "handle = show(p, notebook_handle=True)\n",
    "\n",
    "def update(smoothing=smoothing):\n",
    "    final = f(x_d, round1, smoothing)\n",
    "    l.data_source.data = {'x': x_d, 'y': final}\n",
    "    push_notebook(handle)\n",
    "    \n",
    "interact(update, smoothing=(.02, .8, .005))"
   ]
  },
  {
   "cell_type": "markdown",
   "metadata": {},
   "source": [
    "This function computes the Kolmogorov-Smirnov divergence and the total variation distance between the aproximated CDF and the true one, assuming a uniform distribution."
   ]
  },
  {
   "cell_type": "code",
   "execution_count": null,
   "metadata": {},
   "outputs": [],
   "source": [
    "def compute_errors(cdf):\n",
    "    values = np.array(cdf['values'])\n",
    "    ranks = np.array(cdf['ranks'])\n",
    "    n = ranks[-1]\n",
    "    grid = np.linspace(0, n, 500, endpoint=False).astype('int')[1:]\n",
    "    if grid[-1] == n:\n",
    "        grid[-1] = n - 1\n",
    "    indices = np.searchsorted(ranks, grid)\n",
    "    \n",
    "    errors = np.abs(values[indices] - grid)\n",
    "    return (np.mean(errors) / n, np.max(errors) / n)"
   ]
  },
  {
   "cell_type": "code",
   "execution_count": null,
   "metadata": {},
   "outputs": [],
   "source": [
    "t = hl.utils.range_table(10 ** 6, n_partitions=8)\n",
    "t = t.annotate(k = hl.rand_unif(0, 1))\n",
    "t = t.key_by(t.k).cache()"
   ]
  },
  {
   "cell_type": "code",
   "execution_count": null,
   "metadata": {},
   "outputs": [],
   "source": [
    "cdf = t.aggregate(hl.agg.approx_cdf(t.idx, k=100))\n",
    "\n",
    "(avg, max) = compute_errors(cdf)\n",
    "print(f\"avg error: {avg}\")\n",
    "print(f\"max error: {max}\")\n",
    "print(f\"sample size: {len(cdf.values)}\")\n",
    "print(f\"space(MB): {len(cdf.values) * 4 / (2 ** 20)}\")"
   ]
  },
  {
   "cell_type": "code",
   "execution_count": null,
   "metadata": {},
   "outputs": [],
   "source": [
    "samp_size = 2000\n",
    "sample = t.aggregate(hl.agg.take(t.idx, samp_size))\n",
    "cdf = {'values': np.sort(sample), 'ranks': np.linspace(0, 1000000, samp_size)}\n",
    "(avg, max) = compute_errors(cdf)\n",
    "print(f\"avg error: {avg}\")\n",
    "print(f\"max error: {max}\")\n",
    "print(f\"sample size: {samp_size}\")"
   ]
  },
  {
   "cell_type": "code",
   "execution_count": null,
   "metadata": {
    "scrolled": true
   },
   "outputs": [],
   "source": [
    "from bokeh.models import HoverTool\n",
    "p = figure(\n",
    "    y_axis_label='Avg. Error',\n",
    "    y_axis_type='log',\n",
    "    x_axis_label='Space(MB)',\n",
    "    x_axis_type='log')\n",
    "kll_sizes = [10, 31, 100, 316, 1000, 3160, 10000]\n",
    "reps = 5\n",
    "cdfs = [[t.aggregate(hl.agg.approx_cdf(t.idx, size)) for i in range(reps)] for size in kll_sizes]\n",
    "kll_space = [len(cdf[0].values) * 4 / (2 ** 20) for cdf in cdfs]\n",
    "kll_avg_err = [np.mean([compute_errors(cdf[i])[0] for i in range(reps)]) for cdf in cdfs]\n",
    "p.circle(\n",
    "    x = kll_space,\n",
    "    y = kll_avg_err,\n",
    "    legend = 'KLL',\n",
    "    color= 'red',\n",
    "    size = 7)\n",
    "p.line(x = kll_space, y = kll_avg_err, color = 'red')\n",
    "mrl_space =   [.00044, .00085, .002, .015,  .035,  .222]\n",
    "mrl_avg_err = [.0148,  .01,    .004, .0005, .00026, .000027]\n",
    "p.circle(\n",
    "    x = mrl_space,\n",
    "    y = mrl_avg_err,\n",
    "    legend = 'MRL',\n",
    "    color='green',\n",
    "    size = 7)\n",
    "p.line(x = mrl_space, y = mrl_avg_err, color = 'green')\n",
    "p.add_tools(HoverTool(tooltips=[(\"size\", \"$x\"), (\"err\", \"$y\")], mode='vline'))\n",
    "show(p)"
   ]
  },
  {
   "cell_type": "code",
   "execution_count": null,
   "metadata": {},
   "outputs": [],
   "source": [
    "p = figure(\n",
    "    y_axis_label='sample size',\n",
    "    y_axis_type='log',\n",
    "    x_axis_label='1/error',\n",
    "    x_axis_type='log')\n",
    "sample_sizes = [100, 316, 1000, 3160, 10000, 31600, 100000]\n",
    "p.circle(\n",
    "    x = [1 / compute_errors({'values': np.sort(t.aggregate(hl.agg.take(t.idx, size))), 'ranks': np.linspace(0, 1000000, size)})[1] for size in sample_sizes],\n",
    "    y = sample_sizes,\n",
    "    legend = 'sampling',\n",
    "    size = 10)\n",
    "kll_sizes = [10, 31, 100, 316, 1000, 3160, 10000]\n",
    "cdfs = [t.aggregate(hl.agg.approx_cdf(t.idx, size)) for size in kll_sizes]\n",
    "p.circle(\n",
    "    x = [1 / compute_errors(cdf)[1] for cdf in cdfs],\n",
    "    y = [len(cdf.values) for cdf in cdfs],\n",
    "    legend = 'KLL',\n",
    "    color='green',\n",
    "    size = 10)\n",
    "show(p)"
   ]
  },
  {
   "cell_type": "code",
   "execution_count": null,
   "metadata": {},
   "outputs": [],
   "source": [
    "t = t = hl.utils.range_table(1000000, n_partitions=8)\n",
    "t = t.annotate(k = hl.rand_unif(0, 1))\n",
    "%timeit t.aggregate(hl.agg.approx_cdf(t.k))"
   ]
  },
  {
   "cell_type": "code",
   "execution_count": null,
   "metadata": {},
   "outputs": [],
   "source": [
    "t = t = hl.utils.range_table(1000000, n_partitions=8)\n",
    "t = t.annotate(k = hl.rand_unif(0, 1))\n",
    "%timeit t.aggregate(hl.agg.sum(t.k))"
   ]
  },
  {
   "cell_type": "code",
   "execution_count": null,
   "metadata": {},
   "outputs": [],
   "source": [
    "n = 1500000\n",
    "cn = [31504, 5691, 1899, 639, 217, 71, 28, 7, 3, 1]\n",
    "k = 8\n",
    "d = .0001\n",
    "c1 = np.sum([cn[l] * (2 ** (l - 1)) for l in range(len(cn))])\n",
    "c2 = np.sum([cn[l] * np.power((2 ** l) - (2 ** k), 2) for l in range(k + 1, len(cn))])\n",
    "c = c1 + c2\n",
    "b = (2 ** k) / 3\n",
    "e = b + np.sqrt(b * b - 2 * c / np.log(d))\n",
    "np.log(1 / d) * e / n"
   ]
  },
  {
   "cell_type": "code",
   "execution_count": null,
   "metadata": {},
   "outputs": [],
   "source": [
    "e = .0009479\n",
    "np.exp((-1 / 2) * np.power(e * n, 2) / (c +  e * n * b ))"
   ]
  },
  {
   "cell_type": "code",
   "execution_count": 9,
   "metadata": {},
   "outputs": [],
   "source": [
    "def f(min_x, max_x, x, y, e):\n",
    "    new_y = np.full_like(x, 0)\n",
    "    keep = np.full_like(x, False, dtype=np.bool_)\n",
    "    \n",
    "    fx = min_x\n",
    "    fy = 0\n",
    "    dx = float(x[0] - fx)\n",
    "    um = (y[0] + e - fy) / dx\n",
    "    lm = (y[1] - e - fy) / dx\n",
    "    li = 0\n",
    "    ui = 0\n",
    "    j = 1\n",
    "    # loop vars: li, ui, j, fx, fy, lm=(y[li+1]-e-fy)/(x[li]-fx), um=(y[ui]+e-fy)/(x[ui]-fx)\n",
    "    while j < len(x):\n",
    "        dx = float(x[j] - fx)\n",
    "        if (y[j] + e - fy) / dx < lm:\n",
    "            fx = x[li]\n",
    "            fy = y[li+1] - e\n",
    "            new_y[li] = fy\n",
    "            keep[li] = True\n",
    "            j = li + 1\n",
    "            li = j\n",
    "            ui = j\n",
    "            dx = float(x[j] - fx)\n",
    "            um = (y[ui] + e - fy) / dx\n",
    "            lm = (y[li+1] - e - fy) / dx\n",
    "        elif (y[j+1] - e - fy) / dx > um:\n",
    "            fx = x[ui]\n",
    "            fy = y[ui] + e\n",
    "            new_y[ui] = fy\n",
    "            keep[ui] = True\n",
    "            j = ui + 1\n",
    "            li = j\n",
    "            ui = j\n",
    "            dx = float(x[j] - fx)\n",
    "            um = (y[ui] + e - fy) / dx\n",
    "            lm = (y[li+1] - e - fy) / dx\n",
    "        elif (y[j] + e - fy) / dx < um:\n",
    "            ui = j\n",
    "            um = (y[j] + e - fy) / dx\n",
    "        elif (y[j+1] - e - fy) / dx > lm:\n",
    "            li = j\n",
    "            lm = (y[j+1] - e - fy) / dx\n",
    "        j += 1\n",
    "    dx = float(max_x - fx)\n",
    "    dy = 1 - fy\n",
    "    if dy / dx < lm:\n",
    "        new_y[li] = y[li+1] - e\n",
    "        keep[li] = True\n",
    "    elif dy / dx > um:\n",
    "        new_y[ui] = y[ui] + e\n",
    "        keep[ui] = True\n",
    "    return new_y, keep"
   ]
  },
  {
   "cell_type": "code",
   "execution_count": null,
   "metadata": {},
   "outputs": [],
   "source": [
    "fx = cdf.values[0]\n",
    "fy = 0\n",
    "dx = x[0] - fx\n",
    "um = (y[0] + e - fy) / dx\n",
    "lm = (y[1] - e - fy) / dx\n",
    "li = 0\n",
    "ui = 0\n",
    "j = 1\n",
    "\n",
    "dx = x[j] - fx\n",
    "dy = y[j] - fy\n",
    "\n",
    "(y[j] + e - fy) / dx < lm"
   ]
  },
  {
   "cell_type": "code",
   "execution_count": null,
   "metadata": {},
   "outputs": [],
   "source": [
    "p = figure()\n",
    "p.circle(x=x, y=y[:-1]+e)\n",
    "p.circle(x=x, y=y[1:]-e)\n",
    "show(p)"
   ]
  },
  {
   "cell_type": "code",
   "execution_count": 10,
   "metadata": {},
   "outputs": [
    {
     "data": {
      "text/html": [
       "\n",
       "<div class=\"bk-root\">\n",
       "    <div class=\"bk-plotdiv\" id=\"2ce8e022-aeb2-44a8-8378-56b7ea7bcc39\"></div>\n",
       "</div>"
      ]
     },
     "metadata": {},
     "output_type": "display_data"
    },
    {
     "data": {
      "application/javascript": [
       "(function(root) {\n",
       "  function embed_document(root) {\n",
       "    \n",
       "  var docs_json = {\"a7c48e5a-3f2d-479f-a125-2fa5748405bf\":{\"roots\":{\"references\":[{\"attributes\":{},\"id\":\"c528ef4e-50da-431e-af0c-642ac97ed282\",\"type\":\"BasicTickFormatter\"},{\"attributes\":{\"callback\":null},\"id\":\"a2a5dd8e-296f-4238-ae95-c53458de5c6b\",\"type\":\"DataRange1d\"},{\"attributes\":{\"callback\":null,\"column_names\":[\"x\",\"y\"],\"data\":{\"x\":{\"__ndarray__\":\"sTBwFGMS9T+mJnnvuCn1P4cvC6OJAPY/yHSlpoDT+D/N5DLA+/v4P85eGIUZ7/4/qKZ/lxKjAECcpTmwWEQBQBt2rPRcaAJAM9VTmASqAkDRywp4f2wDQKxiTx/5ugNAZI34EKnpA0BgbPCU1GYEQHUT1For1gRA6dSsBXMbBUCAmbI3LqsFQJvQniH0jQZAIOh6l2K7BkAKW5OCd8sGQMiuuZnyGAdAEcbIjV1dB0Cnlx/ZtnsHQABG6PU8FQhA1+VtKcslCECyHjIwxp4IQDdE1y7JxQhAq6ptR0IcCUC5Iu/mDq0JQI7Hj8o53AlAdVJEojngCUBI8Gv5nCYKQKS7OogJPQpA0r5ThhGRCkD2mFhk0pMKQKmPl5EqAwtAWrNZKn+EC0DHLq3/cbMLQETqekMAwwtATZNhnAUDDEDJPpTIpx4MQEoWjnqkYAxAYDzYpP64DEDh+aVL8zQNQDMpax3iNQ1ASqU2DUVIDUAKCBIToqINQMks3HP/3Q1Avxet3jk2DkBrxRKvclAOQDfHkBTfcA5AHnj0i+eQDkCcwLNuHPYOQNAd8zOiIQ9AMg/ua0Q5D0ANTot4zJYPQHPEDZKU+A9ASsnaonIAEEAAL6jTZB0QQCG/123eHxBA8Ya/1+VIEEBs7EEO+G0QQNMXLzxocRBApsRaZOWjEEBqOPZ9Sa0QQKr5nQHyxxBAm8GCddj6EEDJPDursBcRQC99NE+MPxFALa7A/XFREUDgOaMHf3ERQGxLufvfeBFAHCs1u2yhEUD1cxy/WrERQI2Zu+WPzhFAwKUUzSTPEUA9vt8iafgRQAplPlXRExJAY/C2t/Q5EkDng1UwT0sSQK5aWcyTixJAxARpc3yiEkDASLMfZLoSQE2OJrxt7xJA0YdR2B37EkBnEoXqy0gTQB4sWiV9ThNAYiedyxhlE0ABN+7oZYkTQN4U6xO5rhNAMnARYW3PE0AP6r3tG/gTQLX9uaVwBBRA+bNxesM+FECC23CErVwUQL4J/lUgZxRAq99awmKcFEBj37dbQrYUQMRgQ6GNxBRAD1FohR0MFUCE2j9LUhgVQJr45ODlaBVAih1RQJGEFUBwozqmuJ8VQO125DDH2RVA4bHbrnL9FUBbHQCowA8WQIReiWkjUBZAXcPMSiJ1FkAAHotANYcWQHinjJzKthZAe03ZNjPfFkA4xfQT1xwXQK0Twa6lOBdAGTOC69+FF0BynQyicNAXQCZTybO/+BdA31rWf/VnGEBdWG8UKpYYQPMD6DTolxhANslNqnQqGUAXJfRloUAZQPDHlpfRWRlAbWLPB0zDGUDNZ5Ah5c4ZQAdIKj+gkhpATx5l0KiWGkAatLV4RvEaQABeNdws2xtAV/kh6KWZHEB4VJeokVQdQLuY4GKPVR1ACpDceq4kHkATfCliMCIgQDde7C3COiBAthsmvLIwIUCd9JOBZckhQA==\",\"dtype\":\"float64\",\"shape\":[137]},\"y\":{\"__ndarray__\":\"AGnjiLX4dD+Pn3HhQEh2P8t5qkNuhns/61JcVfZdkT8JwHgGDf2TPyctlbcjnJY/0HADPj+MoD9fp5GWytuhP5uByvj3Gac/11sDWyVYrD9mkpGzsKetP1E25QrvcrE/b6MBvAUStD+3vkhoy7m0P9UrZRniWLc/85iByvj3uT86tMh2vp+6P1gh5SfVPr0/do4B2evdvz/fVKTC2ELAP26LMhtkksE/EhlW8UbmwT+2pnnHKTrCP0XdByC1icM/1BOWeEDZxD9jSiTRyyjGPwbYR6eufMY/lQ7W/znMxz8kRWRYxRvJP7N78rBQa8o/VwkWhzO/yj/mP6Tfvg7MP3V2MjhKXs0/GQRWDi2yzT+9kXnkDwbOP0zIBz2bVc8/bv/KSpNS0D+1GhL3WPrQP4fhI2JKJNE/zvxqDhDM0T8WGLK61XPSP+jewyXHndI/L/oK0oxF0z93FVJ+Uu3TP0ncY+lDF9Q/kPeqlQm/1D9ivrwA++jUP6rZA63AkNU/8fRKWYY41j/Du1zEd2LWPwrXo3A9Ctc/UvLqHAOy1z8kufyH9NvXP2vUQzS6g9g/PZtVn6ut2D+FtpxLcVXZP8zR4/c2/dk/FO0qpPyk2j/mszwP7s7aP7h6Tnrf+No//5WVJqWg2z9HsdzSakjcPxh47j1cctw/YJM16iEa3T+ornyW58HdP3l1jgHZ690/wZDVrZ6T3j8IrBxaZDvfP9pyLsVVZd8/Ece6uI0G4D+1VN6OcFrgP1jiAWVTruA/wcWKGkzD4D9lU67wLhfhP842N6YnLOE/csRafAqA4T/bp+MxA5XhP381Bwjm6OE/IsMq3sg84j+LprOTwVHiPy8012mkpeI/08H6P4f54j88pYP1fw7jP98yp8tiYuM/g8DKoUW24z/so1NXPsvjP5Axdy0hH+Q/+RQA4xk05D+doiO5/IfkP0AwR4/f2+Q/qRPQRNjw5D9NofMau0TlP7aEfNCzWeU/WhKgppat5T/9n8N8eQHmP6Et51JcVeY/ChFwCFVq5j+unpPeN77mPxeCHJQw0+Y/uw9AahMn5z8k88gfDDznP8eA7PXuj+c/aw4QzNHj5z8PnDOitDfoP3h/vFetTOg/HA3gLZCg6D+/mgMEc/ToPyh+jLlrCek/zAuwj05d6T817zhFR3LpP9l8XBsqxuk/QmDl0CLb6T/l7QinBS/qP07RkVz+Q+o/8l61MuGX6j+W7NgIxOvqP//PYb68AOs/o12FlJ9U6z9G66hqgqjrP6/OMSB7ves/U1xV9l0R7D/36XjMQGXsP2DNAYI5euw/A1slWBzO7D+n6Egu/yHtPxDM0eP3Nu0/tFn1udqK7T8dPX5v05/tP8HKoUW28+0/ZFjFG5lH7j8I5ujxe5vuP6xzDMhe7+4/FVeVfVcE7z+55LhTOljvPyLIQQkzbe8/xVVl3xXB7z8uOe6UDtbvPw==\",\"dtype\":\"float64\",\"shape\":[137]}}},\"id\":\"823c1738-97fa-425f-8628-276492037a96\",\"type\":\"ColumnDataSource\"},{\"attributes\":{\"callback\":null,\"column_names\":[\"x\",\"y\"],\"data\":{\"x\":{\"__ndarray__\":\"sTBwFGMS9T/OXhiFGe/+P5ylObBYRAFAG3as9FxoAkDRywp4f2wDQKxiTx/5ugNAYGzwlNRmBEB1E9RaK9YEQJvQniH0jQZAAEbo9TwVCEDX5W0pyyUIQDdE1y7JxQhAq6ptR0IcCUC5Iu/mDq0JQI7Hj8o53AlAdVJEojngCUBI8Gv5nCYKQNK+U4YRkQpA9phYZNKTCkCpj5eRKgMLQFqzWSp/hAtAyT6UyKceDEBKFo56pGAMQGA82KT+uAxA4fmlS/M0DUAzKWsd4jUNQEqlNg1FSA1ACggSE6KiDUDJLNxz/90NQGvFEq9yUA5AN8eQFN9wDkCcwLNuHPYOQHPEDZKU+A9ASsnaonIAEEAAL6jTZB0QQCG/123eHxBA8Ya/1+VIEEBs7EEO+G0QQNMXLzxocRBApsRaZOWjEEBqOPZ9Sa0QQKr5nQHyxxBAm8GCddj6EEAvfTRPjD8RQC2uwP1xURFA4DmjB39xEUBsS7n733gRQBwrNbtsoRFAjZm75Y/OEUDApRTNJM8RQD2+3yJp+BFACmU+VdETEkCuWlnMk4sSQNGHUdgd+xJAZxKF6stIE0AeLFolfU4TQGInncsYZRNAATfu6GWJE0AycBFhbc8TQPmzcXrDPhRAgttwhK1cFEC+Cf5VIGcUQKvfWsJinBRAD1FohR0MFUCE2j9LUhgVQJr45ODlaBVAih1RQJGEFUDtduQwx9kVQOGx265y/RVAhF6JaSNQFkDfWtZ/9WcYQF1YbxQqlhhA8wPoNOiXGEA2yU2qdCoZQG1izwdMwxlAzWeQIeXOGUAHSCo/oJIaQE8eZdColhpAGrS1eEbxGkAAXjXcLNsbQFf5IeilmRxAeFSXqJFUHUC7mOBij1UdQAqQ3HquJB5AE3wpYjAiIEA3XuwtwjogQLYbJryyMCFA\",\"dtype\":\"float64\",\"shape\":[87]},\"y\":{\"__ndarray__\":\"AGnjiLX4dD8nLZW3I5yWP1+nkZbK26E/m4HK+PcZpz9mkpGzsKetP0825QrvcrE/t75IaMu5tD/TK2UZ4li3P1gh5SfVPr0/Rd0HILWJwz/TE5Z4QNnEPwbYR6eufMY/lA7W/znMxz8kRWRYxRvJP7N78rBQa8o/VgkWhzO/yj/lP6Tfvg7MPxkEVg4tss0/vJF55A8Gzj9LyAc9m1XPP27/ykqTUtA/oMN8eQH20T/n3sMlx53SPy/6CtKMRdM/dxVSflLt0z9I3GPpQxfUPxqjdVQ1QdQ/Yr68APvo1D+p2QOtwJDVP8O7XMR3YtY/CtejcD0K1z8kufyH9NvXP8zR4/c2/dk/npj1Yign2j/mszwP7s7aP7d6Tnrf+No//5WVJqWg2z9HsdzSakjcPxh47j1cctw/YJM16iEa3T8xWkdVE0TdP3l1jgHZ690/wJDVrZ6T3j/aci7FVWXfPxHHuriNBuA/tVTejnBa4D8dOGdEaW/gP8HFihpMw+A/zjY3pics4T83GsBbIEHhP9un4zEDleE/fjUHCObo4T8vNNdppKXiP0gWMIFbd+M/7KNTVz7L4z9Vh9wMN+DjP/kUAOMZNOQ/nKIjufyH5D+pE9BE2PDkP1oSoKaWreU//Z/DfHkB5j9mg0wychbmPwoRcAhVauY/uw9AahMn5z8j88gfDDznP8eA7PXuj+c/aw4QzNHj5z94f7xXrUzoPxsN4C2QoOg/KH6MuWsJ6T+jXYWUn1TrP0brqGqCqOs/r84xIHu96z9TXFX2XRHsPwNbJVgczuw/bD6uDRXj7D8QzNHj9zbtP3mvWpnwS+0/HT1+b9Of7T/ByqFFtvPtP2RYxRuZR+4/CObo8Xub7j9xyXGndLDuPxVXlX1XBO8/ueS4UzpY7z8hyEEJM23vP4qryr4rgu8/\",\"dtype\":\"float64\",\"shape\":[87]}}},\"id\":\"5a3680d5-0269-4530-8e65-a3e3f58308d7\",\"type\":\"ColumnDataSource\"},{\"attributes\":{\"source\":{\"id\":\"97226cc9-d76e-4c44-ac14-468b0f3a8bff\",\"type\":\"ColumnDataSource\"}},\"id\":\"d478c59e-74f7-41d1-8f87-d07d715c8c42\",\"type\":\"CDSView\"},{\"attributes\":{\"fill_alpha\":{\"value\":0.1},\"fill_color\":{\"value\":\"#1f77b4\"},\"line_alpha\":{\"value\":0.1},\"line_color\":{\"value\":\"#1f77b4\"},\"x\":{\"field\":\"x\"},\"y\":{\"field\":\"y\"}},\"id\":\"6b8bb18e-d105-4f0e-bf53-b32256d85bb2\",\"type\":\"Circle\"},{\"attributes\":{\"line_width\":2,\"x\":{\"field\":\"x\"},\"y\":{\"field\":\"y\"}},\"id\":\"ed250ff6-6743-4012-840f-bd6992537fc6\",\"type\":\"Line\"},{\"attributes\":{\"data_source\":{\"id\":\"5a3680d5-0269-4530-8e65-a3e3f58308d7\",\"type\":\"ColumnDataSource\"},\"glyph\":{\"id\":\"160595c9-e617-4b08-b488-8b7a55362201\",\"type\":\"Circle\"},\"hover_glyph\":null,\"muted_glyph\":null,\"nonselection_glyph\":{\"id\":\"6b8bb18e-d105-4f0e-bf53-b32256d85bb2\",\"type\":\"Circle\"},\"selection_glyph\":null,\"view\":{\"id\":\"679d01ca-af07-4d25-8b5a-ce5875ce7337\",\"type\":\"CDSView\"}},\"id\":\"1f6ad77e-34ad-46cb-b0f0-c6688b11764b\",\"type\":\"GlyphRenderer\"},{\"attributes\":{},\"id\":\"91c94544-d889-414a-a3e1-dd15d1c37d8c\",\"type\":\"BasicTicker\"},{\"attributes\":{\"source\":{\"id\":\"5a3680d5-0269-4530-8e65-a3e3f58308d7\",\"type\":\"ColumnDataSource\"}},\"id\":\"679d01ca-af07-4d25-8b5a-ce5875ce7337\",\"type\":\"CDSView\"},{\"attributes\":{\"fill_color\":{\"value\":\"#1f77b4\"},\"line_color\":{\"value\":\"#1f77b4\"},\"x\":{\"field\":\"x\"},\"y\":{\"field\":\"y\"}},\"id\":\"0403d525-afaa-417c-ba8a-7af4847dbfd3\",\"type\":\"Circle\"},{\"attributes\":{\"plot\":{\"id\":\"b9867258-8878-4027-9db6-310844f11334\",\"subtype\":\"Figure\",\"type\":\"Plot\"},\"ticker\":{\"id\":\"91c94544-d889-414a-a3e1-dd15d1c37d8c\",\"type\":\"BasicTicker\"}},\"id\":\"4a3cf4b2-5427-47fd-bf38-c35a969ba9cb\",\"type\":\"Grid\"},{\"attributes\":{\"fill_color\":{\"value\":\"red\"},\"line_color\":{\"value\":\"red\"},\"x\":{\"field\":\"x\"},\"y\":{\"field\":\"y\"}},\"id\":\"160595c9-e617-4b08-b488-8b7a55362201\",\"type\":\"Circle\"},{\"attributes\":{\"fill_alpha\":{\"value\":0.1},\"fill_color\":{\"value\":\"#1f77b4\"},\"line_alpha\":{\"value\":0.1},\"line_color\":{\"value\":\"#1f77b4\"},\"x\":{\"field\":\"x\"},\"y\":{\"field\":\"y\"}},\"id\":\"992b9808-f22f-43c9-88c8-b650741d9445\",\"type\":\"Circle\"},{\"attributes\":{\"overlay\":{\"id\":\"f56d5856-bc97-4540-8c22-c99210b21231\",\"type\":\"BoxAnnotation\"}},\"id\":\"5e60296c-c5a8-4636-a964-815d11f9f1aa\",\"type\":\"BoxZoomTool\"},{\"attributes\":{},\"id\":\"df146556-e158-439b-a400-f95f2eea365e\",\"type\":\"SaveTool\"},{\"attributes\":{\"data_source\":{\"id\":\"823c1738-97fa-425f-8628-276492037a96\",\"type\":\"ColumnDataSource\"},\"glyph\":{\"id\":\"0403d525-afaa-417c-ba8a-7af4847dbfd3\",\"type\":\"Circle\"},\"hover_glyph\":null,\"muted_glyph\":null,\"nonselection_glyph\":{\"id\":\"992b9808-f22f-43c9-88c8-b650741d9445\",\"type\":\"Circle\"},\"selection_glyph\":null,\"view\":{\"id\":\"a3f854b2-e3e4-4a88-ad56-0b30d5c315e1\",\"type\":\"CDSView\"}},\"id\":\"6d3bb9d2-e37f-4f9e-b2d8-126b4db5ccb2\",\"type\":\"GlyphRenderer\"},{\"attributes\":{\"bottom_units\":\"screen\",\"fill_alpha\":{\"value\":0.5},\"fill_color\":{\"value\":\"lightgrey\"},\"left_units\":\"screen\",\"level\":\"overlay\",\"line_alpha\":{\"value\":1.0},\"line_color\":{\"value\":\"black\"},\"line_dash\":[4,4],\"line_width\":{\"value\":2},\"plot\":null,\"render_mode\":\"css\",\"right_units\":\"screen\",\"top_units\":\"screen\"},\"id\":\"f56d5856-bc97-4540-8c22-c99210b21231\",\"type\":\"BoxAnnotation\"},{\"attributes\":{},\"id\":\"656dfb6f-c3bd-49de-be56-e689b0256aa7\",\"type\":\"LinearScale\"},{\"attributes\":{\"source\":{\"id\":\"823c1738-97fa-425f-8628-276492037a96\",\"type\":\"ColumnDataSource\"}},\"id\":\"a3f854b2-e3e4-4a88-ad56-0b30d5c315e1\",\"type\":\"CDSView\"},{\"attributes\":{},\"id\":\"f65c628d-8ab1-4971-bd77-8c031658df20\",\"type\":\"WheelZoomTool\"},{\"attributes\":{},\"id\":\"d455de51-0252-46df-9847-6461c3c76a2a\",\"type\":\"PanTool\"},{\"attributes\":{\"formatter\":{\"id\":\"c528ef4e-50da-431e-af0c-642ac97ed282\",\"type\":\"BasicTickFormatter\"},\"plot\":{\"id\":\"b9867258-8878-4027-9db6-310844f11334\",\"subtype\":\"Figure\",\"type\":\"Plot\"},\"ticker\":{\"id\":\"32747661-aae2-4304-a831-cf4c2d09111c\",\"type\":\"BasicTicker\"}},\"id\":\"816111a1-04ab-404e-9add-a45385d09966\",\"type\":\"LinearAxis\"},{\"attributes\":{\"below\":[{\"id\":\"38742186-fe02-4a35-b65f-55a1495512a9\",\"type\":\"LinearAxis\"}],\"left\":[{\"id\":\"816111a1-04ab-404e-9add-a45385d09966\",\"type\":\"LinearAxis\"}],\"renderers\":[{\"id\":\"38742186-fe02-4a35-b65f-55a1495512a9\",\"type\":\"LinearAxis\"},{\"id\":\"4a3cf4b2-5427-47fd-bf38-c35a969ba9cb\",\"type\":\"Grid\"},{\"id\":\"816111a1-04ab-404e-9add-a45385d09966\",\"type\":\"LinearAxis\"},{\"id\":\"c5f4056d-95a5-4ec6-9a0f-2790da449e74\",\"type\":\"Grid\"},{\"id\":\"f56d5856-bc97-4540-8c22-c99210b21231\",\"type\":\"BoxAnnotation\"},{\"id\":\"6d3bb9d2-e37f-4f9e-b2d8-126b4db5ccb2\",\"type\":\"GlyphRenderer\"},{\"id\":\"8d49f19c-74dc-4215-8ab0-fe627bd6f1b6\",\"type\":\"GlyphRenderer\"},{\"id\":\"1f6ad77e-34ad-46cb-b0f0-c6688b11764b\",\"type\":\"GlyphRenderer\"},{\"id\":\"44f44651-e00a-40c6-a821-2d4c8ef93ec3\",\"type\":\"GlyphRenderer\"}],\"title\":{\"id\":\"561b1840-ca6c-4898-8278-a412ca593d77\",\"type\":\"Title\"},\"toolbar\":{\"id\":\"f7a0f2dc-bc56-434f-8242-616106247344\",\"type\":\"Toolbar\"},\"x_range\":{\"id\":\"a2a5dd8e-296f-4238-ae95-c53458de5c6b\",\"type\":\"DataRange1d\"},\"x_scale\":{\"id\":\"9ba17c82-0aa4-4ee7-8604-d6c1aaf9e0af\",\"type\":\"LinearScale\"},\"y_range\":{\"id\":\"3fa591e7-aa97-40a2-8238-c7ae387a9215\",\"type\":\"DataRange1d\"},\"y_scale\":{\"id\":\"656dfb6f-c3bd-49de-be56-e689b0256aa7\",\"type\":\"LinearScale\"}},\"id\":\"b9867258-8878-4027-9db6-310844f11334\",\"subtype\":\"Figure\",\"type\":\"Plot\"},{\"attributes\":{\"source\":{\"id\":\"168ad73b-02ca-487e-9b80-2d1540168e0a\",\"type\":\"ColumnDataSource\"}},\"id\":\"f98482eb-5f00-486a-b0eb-2ea74c24a65f\",\"type\":\"CDSView\"},{\"attributes\":{\"line_alpha\":0.1,\"line_color\":\"#1f77b4\",\"line_width\":2,\"x\":{\"field\":\"x\"},\"y\":{\"field\":\"y\"}},\"id\":\"fd111202-7fe7-4af7-b4c8-e968a8ecc173\",\"type\":\"Line\"},{\"attributes\":{\"formatter\":{\"id\":\"bb3294ba-2c65-490d-bc88-49a45f20babe\",\"type\":\"BasicTickFormatter\"},\"plot\":{\"id\":\"b9867258-8878-4027-9db6-310844f11334\",\"subtype\":\"Figure\",\"type\":\"Plot\"},\"ticker\":{\"id\":\"91c94544-d889-414a-a3e1-dd15d1c37d8c\",\"type\":\"BasicTicker\"}},\"id\":\"38742186-fe02-4a35-b65f-55a1495512a9\",\"type\":\"LinearAxis\"},{\"attributes\":{\"dimension\":1,\"plot\":{\"id\":\"b9867258-8878-4027-9db6-310844f11334\",\"subtype\":\"Figure\",\"type\":\"Plot\"},\"ticker\":{\"id\":\"32747661-aae2-4304-a831-cf4c2d09111c\",\"type\":\"BasicTicker\"}},\"id\":\"c5f4056d-95a5-4ec6-9a0f-2790da449e74\",\"type\":\"Grid\"},{\"attributes\":{},\"id\":\"714d4f37-d468-4bd3-8d22-81216de05cf7\",\"type\":\"ResetTool\"},{\"attributes\":{},\"id\":\"32747661-aae2-4304-a831-cf4c2d09111c\",\"type\":\"BasicTicker\"},{\"attributes\":{\"data_source\":{\"id\":\"168ad73b-02ca-487e-9b80-2d1540168e0a\",\"type\":\"ColumnDataSource\"},\"glyph\":{\"id\":\"ed250ff6-6743-4012-840f-bd6992537fc6\",\"type\":\"Line\"},\"hover_glyph\":null,\"muted_glyph\":null,\"nonselection_glyph\":{\"id\":\"fd111202-7fe7-4af7-b4c8-e968a8ecc173\",\"type\":\"Line\"},\"selection_glyph\":null,\"view\":{\"id\":\"f98482eb-5f00-486a-b0eb-2ea74c24a65f\",\"type\":\"CDSView\"}},\"id\":\"44f44651-e00a-40c6-a821-2d4c8ef93ec3\",\"type\":\"GlyphRenderer\"},{\"attributes\":{\"callback\":null,\"column_names\":[\"x\",\"y\"],\"data\":{\"x\":{\"__ndarray__\":\"sTBwFGMS9T+mJnnvuCn1P4cvC6OJAPY/yHSlpoDT+D/N5DLA+/v4P85eGIUZ7/4/qKZ/lxKjAECcpTmwWEQBQBt2rPRcaAJAM9VTmASqAkDRywp4f2wDQKxiTx/5ugNAZI34EKnpA0BgbPCU1GYEQHUT1For1gRA6dSsBXMbBUCAmbI3LqsFQJvQniH0jQZAIOh6l2K7BkAKW5OCd8sGQMiuuZnyGAdAEcbIjV1dB0Cnlx/ZtnsHQABG6PU8FQhA1+VtKcslCECyHjIwxp4IQDdE1y7JxQhAq6ptR0IcCUC5Iu/mDq0JQI7Hj8o53AlAdVJEojngCUBI8Gv5nCYKQKS7OogJPQpA0r5ThhGRCkD2mFhk0pMKQKmPl5EqAwtAWrNZKn+EC0DHLq3/cbMLQETqekMAwwtATZNhnAUDDEDJPpTIpx4MQEoWjnqkYAxAYDzYpP64DEDh+aVL8zQNQDMpax3iNQ1ASqU2DUVIDUAKCBIToqINQMks3HP/3Q1Avxet3jk2DkBrxRKvclAOQDfHkBTfcA5AHnj0i+eQDkCcwLNuHPYOQNAd8zOiIQ9AMg/ua0Q5D0ANTot4zJYPQHPEDZKU+A9ASsnaonIAEEAAL6jTZB0QQCG/123eHxBA8Ya/1+VIEEBs7EEO+G0QQNMXLzxocRBApsRaZOWjEEBqOPZ9Sa0QQKr5nQHyxxBAm8GCddj6EEDJPDursBcRQC99NE+MPxFALa7A/XFREUDgOaMHf3ERQGxLufvfeBFAHCs1u2yhEUD1cxy/WrERQI2Zu+WPzhFAwKUUzSTPEUA9vt8iafgRQAplPlXRExJAY/C2t/Q5EkDng1UwT0sSQK5aWcyTixJAxARpc3yiEkDASLMfZLoSQE2OJrxt7xJA0YdR2B37EkBnEoXqy0gTQB4sWiV9ThNAYiedyxhlE0ABN+7oZYkTQN4U6xO5rhNAMnARYW3PE0AP6r3tG/gTQLX9uaVwBBRA+bNxesM+FECC23CErVwUQL4J/lUgZxRAq99awmKcFEBj37dbQrYUQMRgQ6GNxBRAD1FohR0MFUCE2j9LUhgVQJr45ODlaBVAih1RQJGEFUBwozqmuJ8VQO125DDH2RVA4bHbrnL9FUBbHQCowA8WQIReiWkjUBZAXcPMSiJ1FkAAHotANYcWQHinjJzKthZAe03ZNjPfFkA4xfQT1xwXQK0Twa6lOBdAGTOC69+FF0BynQyicNAXQCZTybO/+BdA31rWf/VnGEBdWG8UKpYYQPMD6DTolxhANslNqnQqGUAXJfRloUAZQPDHlpfRWRlAbWLPB0zDGUDNZ5Ah5c4ZQAdIKj+gkhpATx5l0KiWGkAatLV4RvEaQABeNdws2xtAV/kh6KWZHEB4VJeokVQdQLuY4GKPVR1ACpDceq4kHkATfCliMCIgQDde7C3COiBAthsmvLIwIUCd9JOBZckhQA==\",\"dtype\":\"float64\",\"shape\":[137]},\"y\":{\"__ndarray__\":\"cTJVMCqpc79qsDic+dVsv6x5qkNuhns/EhcOhGQBgz9O8UbmkT+IPx8tlbcjnJY/PpqxaDo7mT9bp5GWytuhP5eByvj3Gac/JrhYUYNpqD9ikpGzsKetP0825QrvcrE/l1Est7Qasj+1vkhoy7m0P9MrZRniWLc/GkesxacAuD84tMh2vp+6P1Yh5SfVPr0/njws1JrmvT/eVKTC2ELAP4Lix5i7lsA/JnDrbp7qwD+1pnnHKTrCP0TdByC1icM/0xOWeEDZxD92oblOIy3FPwXYR6eufMY/lA7W/znMxz8jRWRYxRvJP8fShy6ob8k/VgkWhzO/yj/lP6Tfvg7MP4nNx7WhYsw/LVvri4S2zD+8kXnkDwbOP0vIBz2bVc8/bf/KSpNS0D8/xty1hHzQP4bhI2JKJNE/zvxqDhDM0T+gw3x5AfbRP+fewyXHndI/L/oK0oxF0z8BwRw9fm/TP0jcY+lDF9Q/GqN1VDVB1D9ivrwA++jUP6nZA63AkNU/e6AVGLK61T/Cu1zEd2LWPwrXo3A9Ctc/3J212y401z8jufyH9NvXP/V/DvPlBdg/PZtVn6ut2D+EtpxLcVXZP8zR4/c2/dk/npj1Yign2j9wXwfOGVHaP7d6Tnrf+No//5WVJqWg2z/QXKeRlsrbPxh47j1cctw/YJM16iEa3T8xWkdVE0TdP3l1jgHZ690/wJDVrZ6T3j+SV+cYkL3eP9pyLsVVZd8/Ece6uI0G4D+0VN6OcFrgPx04Z0Rpb+A/wcWKGkzD4D8qqRPQRNjgP842N6YnLOE/NxrAWyBB4T/bp+MxA5XhP341Bwjm6OE/5xiQvd794T+LprOTwVHiPy8012mkpeI/mBdgH5264j87pYP1fw7jP98yp8tiYuM/SBYwgVt34z/so1NXPsvjP1WH3Aw34OM/+RQA4xk05D+coiO5/IfkPwWGrG71nOQ/qRPQRNjw5D8S91j60AXlP7aEfNCzWeU/WRKgppat5T/9n8N8eQHmP2aDTDJyFuY/ChFwCFVq5j9z9Pi9TX/mPxeCHJQw0+Y/gGWlSSno5j8j88gfDDznP8eA7PXuj+c/aw4QzNHj5z/U8ZiByvjnP3h/vFetTOg/Gw3gLZCg6D+E8GjjiLXoPyh+jLlrCek/kWEVb2Qe6T817zhFR3LpP57Swfo/h+k/QWDl0CLb6T+qQ26GG/DpP07RkVz+Q+o/8l61MuGX6j9bQj7o2azqP//PYb68AOs/ol2FlJ9U6z8LQQ5KmGnrP6/OMSB7ves/U1xV9l0R7D+8P96rVibsP1/NAYI5euw/A1slWBzO7D9sPq4NFePsPxDM0eP3Nu0/ea9amfBL7T8dPX5v05/tP8DKoUW28+0/ZFjFG5lH7j8I5ujxe5vuP3HJcad0sO4/FVeVfVcE7z9+Oh4zUBnvPyHIQQkzbe8/iqvKviuC7z8uOe6UDtbvPw==\",\"dtype\":\"float64\",\"shape\":[137]}}},\"id\":\"97226cc9-d76e-4c44-ac14-468b0f3a8bff\",\"type\":\"ColumnDataSource\"},{\"attributes\":{},\"id\":\"994911fc-c5ba-4483-9124-aa45ddb7d0b9\",\"type\":\"HelpTool\"},{\"attributes\":{},\"id\":\"9ba17c82-0aa4-4ee7-8604-d6c1aaf9e0af\",\"type\":\"LinearScale\"},{\"attributes\":{\"fill_alpha\":{\"value\":0.1},\"fill_color\":{\"value\":\"#1f77b4\"},\"line_alpha\":{\"value\":0.1},\"line_color\":{\"value\":\"#1f77b4\"},\"x\":{\"field\":\"x\"},\"y\":{\"field\":\"y\"}},\"id\":\"9fbeb870-ef50-4d31-b81b-aa8313e310a8\",\"type\":\"Circle\"},{\"attributes\":{},\"id\":\"bb3294ba-2c65-490d-bc88-49a45f20babe\",\"type\":\"BasicTickFormatter\"},{\"attributes\":{\"plot\":null,\"text\":\"\"},\"id\":\"561b1840-ca6c-4898-8278-a412ca593d77\",\"type\":\"Title\"},{\"attributes\":{\"callback\":null,\"column_names\":[\"x\",\"y\"],\"data\":{\"x\":[0.6631496185795496,1.3169890211457125,1.9333739470511548,2.1583722846596185,2.3009585490351703,2.4279775026602484,2.466295475587989,2.5502101550933247,2.6045748802156887,2.819313299807687,3.0103701793202617,3.0184539066947127,3.0965751323169814,3.1387982921927082,3.2095010797241597,3.2325321030738854,3.2344849278545618,3.268854092222714,3.3208342069918695,3.322178634599477,3.3765460371377753,3.439695673811383,3.514968459152304,3.547188718281892,3.5903294447412435,3.650854674341858,3.6513101862266466,3.66028795550361,3.70441069506433,3.73339739337607,3.789281242142058,3.805112991970329,3.870171418057067,3.996377125783107,4.000437302211433,4.028704936161148,4.031121937077644,4.07118928057183,4.107391569875386,4.110749187826474,4.16005474857335,4.1692256623774515,4.195259118334812,4.244966350656251,4.312058675364184,4.3295364045002716,4.360836142861871,4.36804192846726,4.407641339416639,4.451720799994644,4.452288822541448,4.492588562875935,4.519353229459066,4.63630599303603,4.745231037117223,4.821090378162444,4.826649268749888,4.848727399317655,4.884177817859155,4.952565685929629,5.061292565526849,5.090505666149399,5.1007092891981625,5.1527204864468485,5.261831364147169,5.273751426479638,5.352439416861808,5.379460339499369,5.462673915809984,5.497507793578252,5.578260087022162,6.101522443254651,6.146644896789522,6.148346735631082,6.291460667607955,6.440719720871681,6.452045940817652,6.643189417796754,6.6471283494680184,6.735620390024474,6.964038315541529,7.150046946595771,7.332586893307159,7.333554787596024,7.5358218381043205,8.066775386394545,8.11476272116043,8.595113639499555,14.32247747458657],\"y\":[0,0.005120000000000013,0.022080000000000013,0.034880000000000015,0.045120000000000014,0.05792000000000001,0.06815999999999998,0.08096000000000002,0.09119999999999999,0.11424000000000001,0.15264000000000003,0.16288,0.17568,0.18591999999999997,0.19616,0.2064,0.20895999999999998,0.21919999999999998,0.232,0.23456,0.2448,0.25504000000000004,0.28064,0.29087999999999997,0.30112,0.31136,0.31392,0.31648,0.32672,0.33696,0.34976,0.36,0.3728,0.40608,0.40864,0.41888000000000003,0.42144,0.43168,0.44192000000000004,0.44448,0.45472,0.45727999999999996,0.46752,0.47775999999999996,0.49056,0.5008,0.51104,0.5136,0.52384,0.53664,0.5392,0.54944,0.55968,0.58272,0.60832,0.61856,0.62112,0.63136,0.6416,0.6544,0.67744,0.68768,0.69024,0.70048,0.72352,0.72608,0.73632,0.74656,0.75936,0.7696,0.7824,0.8540800000000001,0.86432,0.86688,0.87712,0.90016,0.90272,0.91296,0.91552,0.92576,0.936,0.94624,0.95648,0.95904,0.96928,0.9795200000000001,0.98208,0.98464,1]}},\"id\":\"168ad73b-02ca-487e-9b80-2d1540168e0a\",\"type\":\"ColumnDataSource\"},{\"attributes\":{\"fill_color\":{\"value\":\"green\"},\"line_color\":{\"value\":\"green\"},\"x\":{\"field\":\"x\"},\"y\":{\"field\":\"y\"}},\"id\":\"0698f070-154e-44e9-bf4a-6b7e2d4bfe0c\",\"type\":\"Circle\"},{\"attributes\":{\"active_drag\":\"auto\",\"active_inspect\":\"auto\",\"active_scroll\":\"auto\",\"active_tap\":\"auto\",\"tools\":[{\"id\":\"d455de51-0252-46df-9847-6461c3c76a2a\",\"type\":\"PanTool\"},{\"id\":\"f65c628d-8ab1-4971-bd77-8c031658df20\",\"type\":\"WheelZoomTool\"},{\"id\":\"5e60296c-c5a8-4636-a964-815d11f9f1aa\",\"type\":\"BoxZoomTool\"},{\"id\":\"df146556-e158-439b-a400-f95f2eea365e\",\"type\":\"SaveTool\"},{\"id\":\"714d4f37-d468-4bd3-8d22-81216de05cf7\",\"type\":\"ResetTool\"},{\"id\":\"994911fc-c5ba-4483-9124-aa45ddb7d0b9\",\"type\":\"HelpTool\"}]},\"id\":\"f7a0f2dc-bc56-434f-8242-616106247344\",\"type\":\"Toolbar\"},{\"attributes\":{\"callback\":null},\"id\":\"3fa591e7-aa97-40a2-8238-c7ae387a9215\",\"type\":\"DataRange1d\"},{\"attributes\":{\"data_source\":{\"id\":\"97226cc9-d76e-4c44-ac14-468b0f3a8bff\",\"type\":\"ColumnDataSource\"},\"glyph\":{\"id\":\"0698f070-154e-44e9-bf4a-6b7e2d4bfe0c\",\"type\":\"Circle\"},\"hover_glyph\":null,\"muted_glyph\":null,\"nonselection_glyph\":{\"id\":\"9fbeb870-ef50-4d31-b81b-aa8313e310a8\",\"type\":\"Circle\"},\"selection_glyph\":null,\"view\":{\"id\":\"d478c59e-74f7-41d1-8f87-d07d715c8c42\",\"type\":\"CDSView\"}},\"id\":\"8d49f19c-74dc-4215-8ab0-fe627bd6f1b6\",\"type\":\"GlyphRenderer\"}],\"root_ids\":[\"b9867258-8878-4027-9db6-310844f11334\"]},\"title\":\"Bokeh Application\",\"version\":\"0.12.13\"}};\n",
       "  var render_items = [{\"docid\":\"a7c48e5a-3f2d-479f-a125-2fa5748405bf\",\"elementid\":\"2ce8e022-aeb2-44a8-8378-56b7ea7bcc39\",\"modelid\":\"b9867258-8878-4027-9db6-310844f11334\",\"notebook_comms_target\":\"10239f8f-e05b-4a32-acf8-e64b9ec95a15\"}];\n",
       "  root.Bokeh.embed.embed_items_notebook(docs_json, render_items);\n",
       "\n",
       "  }\n",
       "  if (root.Bokeh !== undefined) {\n",
       "    embed_document(root);\n",
       "  } else {\n",
       "    var attempts = 0;\n",
       "    var timer = setInterval(function(root) {\n",
       "      if (root.Bokeh !== undefined) {\n",
       "        embed_document(root);\n",
       "        clearInterval(timer);\n",
       "      }\n",
       "      attempts++;\n",
       "      if (attempts > 100) {\n",
       "        console.log(\"Bokeh: ERROR: Unable to run BokehJS code because BokehJS library is missing\")\n",
       "        clearInterval(timer);\n",
       "      }\n",
       "    }, 10, root)\n",
       "  }\n",
       "})(window);"
      ],
      "application/vnd.bokehjs_exec.v0+json": ""
     },
     "metadata": {
      "application/vnd.bokehjs_exec.v0+json": {
       "id": "b9867258-8878-4027-9db6-310844f11334"
      }
     },
     "output_type": "display_data"
    },
    {
     "data": {
      "application/vnd.jupyter.widget-view+json": {
       "model_id": "5f3d01a1aac64bbca4ae2778f8b922fe",
       "version_major": 2,
       "version_minor": 0
      },
      "text/plain": [
       "interactive(children=(FloatSlider(value=0.005120000000000013, description='smoothing', max=0.05, min=0.0051200…"
      ]
     },
     "metadata": {},
     "output_type": "display_data"
    },
    {
     "data": {
      "text/plain": [
       "(<function __main__.update(smoothing=0.005120000000000013)>,\n",
       " 0.005120000000000013)"
      ]
     },
     "execution_count": 10,
     "metadata": {},
     "output_type": "execute_result"
    }
   ],
   "source": [
    "t = hl.utils.range_table(100000, n_partitions=8)\n",
    "t = t.annotate(k = hl.rand_gamma(9,.5))\n",
    "cdf = t.aggregate(hl.agg.approx_cdf(t.k, k=50))\n",
    "y = np.array(cdf.ranks[1:-1]) / cdf.ranks[-1]\n",
    "x = np.array(cdf.values[1:-1])\n",
    "min_x = cdf.values[0]\n",
    "max_x = cdf.values[-1]\n",
    "min_e = np.max(y[1:] - y[:-1]) / 2.0\n",
    "e = min_e\n",
    "\n",
    "p = figure()\n",
    "c1 = p.circle(x=x, y=y[:-1]+e)\n",
    "c2 = p.circle(x=x, y=y[1:]-e, color='green')\n",
    "new_y, keep = f(min_x, max_x, x, y, e)\n",
    "c3 = p.circle(x=x[keep], y=new_y[keep], color='red')\n",
    "l = p.line(x=[cdf.values[0], *x[keep], cdf.values[-1]], y=[0, *new_y[keep], 1], line_width=2, color='black')\n",
    "\n",
    "def update(smoothing=min_e):\n",
    "    new_y, keep = f(min_x, max_x, x, y, smoothing)\n",
    "    new_data = {'x': [cdf.values[0], *x[keep], cdf.values[-1]], 'y': [0, *new_y[keep], 1]}\n",
    "    l.data_source.data = new_data\n",
    "    c1.data_source.data = {'x': x, 'y': y[:-1]+smoothing}\n",
    "    c2.data_source.data = {'x': x, 'y': y[1:]-smoothing}\n",
    "    c3.data_source.data = {'x': x[keep], 'y': new_y[keep]}\n",
    "    push_notebook(handle)\n",
    "\n",
    "handle = show(p, notebook_handle=True)\n",
    "interact(update, smoothing=(min_e, .05, .00001)), min_e"
   ]
  },
  {
   "cell_type": "code",
   "execution_count": null,
   "metadata": {},
   "outputs": [],
   "source": [
    "t = hl.utils.range_table(100000, n_partitions=8)\n",
    "t = t.annotate(k = hl.rand_gamma(9,.5))\n",
    "cdf = t.aggregate(hl.agg.approx_cdf(t.k, k=50))\n",
    "y = np.array(cdf.ranks[1:-1]) / cdf.ranks[-1]\n",
    "x = np.array(cdf.values[1:-1])\n",
    "e = .002\n",
    "\n",
    "p = figure()\n",
    "new_y, keep = f(x, y, e)\n",
    "slopes = np.diff([0, *new_y[keep], 1]) / np.diff([cdf.values[0], *x[keep], cdf.values[-1]])\n",
    "q = p.quad(left=[cdf.values[0], *x[keep]], right=[*x[keep], cdf.values[-1]], bottom=0, top=slopes)\n",
    "p.line(x=x_d, y=gamma.pdf(x_d, 9, scale=.5), color='green', line_width=2)\n",
    "\n",
    "def update(smoothing=e):\n",
    "    new_y, keep = f(x, y, smoothing)\n",
    "    slopes = np.diff([0, *new_y[keep], 1]) / np.diff([cdf.values[0], *x[keep], cdf.values[-1]])\n",
    "    new_data = {'left': [cdf.values[0], *x[keep]], 'right': [*x[keep], cdf.values[-1]], 'bottom': np.full(len(slopes), 0), 'top': slopes}\n",
    "    q.data_source.data = new_data\n",
    "    push_notebook(handle)\n",
    "\n",
    "handle = show(p, notebook_handle=True)\n",
    "interact(update, smoothing=(.001, .05, .00001))"
   ]
  },
  {
   "cell_type": "code",
   "execution_count": null,
   "metadata": {},
   "outputs": [],
   "source": [
    "help(np.diff)"
   ]
  },
  {
   "cell_type": "code",
   "execution_count": null,
   "metadata": {},
   "outputs": [],
   "source": []
  }
 ],
 "metadata": {
  "kernelspec": {
   "display_name": "Python 3",
   "language": "python",
   "name": "python3"
  },
  "language_info": {
   "codemirror_mode": {
    "name": "ipython",
    "version": 3
   },
   "file_extension": ".py",
   "mimetype": "text/x-python",
   "name": "python",
   "nbconvert_exporter": "python",
   "pygments_lexer": "ipython3",
   "version": "3.6.7"
  }
 },
 "nbformat": 4,
 "nbformat_minor": 2
}
