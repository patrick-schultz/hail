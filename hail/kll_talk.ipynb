{
 "cells": [
  {
   "cell_type": "code",
   "execution_count": 1,
   "metadata": {
    "slideshow": {
     "slide_type": "slide"
    }
   },
   "outputs": [
    {
     "data": {
      "text/html": [
       "\n",
       "    <div class=\"bk-root\">\n",
       "        <a href=\"https://bokeh.pydata.org\" target=\"_blank\" class=\"bk-logo bk-logo-small bk-logo-notebook\"></a>\n",
       "        <span id=\"cda21e94-bcbd-4c04-bd79-c17cbe01b1ff\">Loading BokehJS ...</span>\n",
       "    </div>"
      ]
     },
     "metadata": {},
     "output_type": "display_data"
    },
    {
     "data": {
      "application/javascript": [
       "\n",
       "(function(root) {\n",
       "  function now() {\n",
       "    return new Date();\n",
       "  }\n",
       "\n",
       "  var force = true;\n",
       "\n",
       "  if (typeof (root._bokeh_onload_callbacks) === \"undefined\" || force === true) {\n",
       "    root._bokeh_onload_callbacks = [];\n",
       "    root._bokeh_is_loading = undefined;\n",
       "  }\n",
       "\n",
       "  var JS_MIME_TYPE = 'application/javascript';\n",
       "  var HTML_MIME_TYPE = 'text/html';\n",
       "  var EXEC_MIME_TYPE = 'application/vnd.bokehjs_exec.v0+json';\n",
       "  var CLASS_NAME = 'output_bokeh rendered_html';\n",
       "\n",
       "  /**\n",
       "   * Render data to the DOM node\n",
       "   */\n",
       "  function render(props, node) {\n",
       "    var script = document.createElement(\"script\");\n",
       "    node.appendChild(script);\n",
       "  }\n",
       "\n",
       "  /**\n",
       "   * Handle when an output is cleared or removed\n",
       "   */\n",
       "  function handleClearOutput(event, handle) {\n",
       "    var cell = handle.cell;\n",
       "\n",
       "    var id = cell.output_area._bokeh_element_id;\n",
       "    var server_id = cell.output_area._bokeh_server_id;\n",
       "    // Clean up Bokeh references\n",
       "    if (id !== undefined) {\n",
       "      Bokeh.index[id].model.document.clear();\n",
       "      delete Bokeh.index[id];\n",
       "    }\n",
       "\n",
       "    if (server_id !== undefined) {\n",
       "      // Clean up Bokeh references\n",
       "      var cmd = \"from bokeh.io.state import curstate; print(curstate().uuid_to_server['\" + server_id + \"'].get_sessions()[0].document.roots[0]._id)\";\n",
       "      cell.notebook.kernel.execute(cmd, {\n",
       "        iopub: {\n",
       "          output: function(msg) {\n",
       "            var element_id = msg.content.text.trim();\n",
       "            Bokeh.index[element_id].model.document.clear();\n",
       "            delete Bokeh.index[element_id];\n",
       "          }\n",
       "        }\n",
       "      });\n",
       "      // Destroy server and session\n",
       "      var cmd = \"import bokeh.io.notebook as ion; ion.destroy_server('\" + server_id + \"')\";\n",
       "      cell.notebook.kernel.execute(cmd);\n",
       "    }\n",
       "  }\n",
       "\n",
       "  /**\n",
       "   * Handle when a new output is added\n",
       "   */\n",
       "  function handleAddOutput(event, handle) {\n",
       "    var output_area = handle.output_area;\n",
       "    var output = handle.output;\n",
       "\n",
       "    // limit handleAddOutput to display_data with EXEC_MIME_TYPE content only\n",
       "    if ((output.output_type != \"display_data\") || (!output.data.hasOwnProperty(EXEC_MIME_TYPE))) {\n",
       "      return\n",
       "    }\n",
       "\n",
       "    var toinsert = output_area.element.find(\".\" + CLASS_NAME.split(' ')[0]);\n",
       "\n",
       "    if (output.metadata[EXEC_MIME_TYPE][\"id\"] !== undefined) {\n",
       "      toinsert[0].firstChild.textContent = output.data[JS_MIME_TYPE];\n",
       "      // store reference to embed id on output_area\n",
       "      output_area._bokeh_element_id = output.metadata[EXEC_MIME_TYPE][\"id\"];\n",
       "    }\n",
       "    if (output.metadata[EXEC_MIME_TYPE][\"server_id\"] !== undefined) {\n",
       "      var bk_div = document.createElement(\"div\");\n",
       "      bk_div.innerHTML = output.data[HTML_MIME_TYPE];\n",
       "      var script_attrs = bk_div.children[0].attributes;\n",
       "      for (var i = 0; i < script_attrs.length; i++) {\n",
       "        toinsert[0].firstChild.setAttribute(script_attrs[i].name, script_attrs[i].value);\n",
       "      }\n",
       "      // store reference to server id on output_area\n",
       "      output_area._bokeh_server_id = output.metadata[EXEC_MIME_TYPE][\"server_id\"];\n",
       "    }\n",
       "  }\n",
       "\n",
       "  function register_renderer(events, OutputArea) {\n",
       "\n",
       "    function append_mime(data, metadata, element) {\n",
       "      // create a DOM node to render to\n",
       "      var toinsert = this.create_output_subarea(\n",
       "        metadata,\n",
       "        CLASS_NAME,\n",
       "        EXEC_MIME_TYPE\n",
       "      );\n",
       "      this.keyboard_manager.register_events(toinsert);\n",
       "      // Render to node\n",
       "      var props = {data: data, metadata: metadata[EXEC_MIME_TYPE]};\n",
       "      render(props, toinsert[0]);\n",
       "      element.append(toinsert);\n",
       "      return toinsert\n",
       "    }\n",
       "\n",
       "    /* Handle when an output is cleared or removed */\n",
       "    events.on('clear_output.CodeCell', handleClearOutput);\n",
       "    events.on('delete.Cell', handleClearOutput);\n",
       "\n",
       "    /* Handle when a new output is added */\n",
       "    events.on('output_added.OutputArea', handleAddOutput);\n",
       "\n",
       "    /**\n",
       "     * Register the mime type and append_mime function with output_area\n",
       "     */\n",
       "    OutputArea.prototype.register_mime_type(EXEC_MIME_TYPE, append_mime, {\n",
       "      /* Is output safe? */\n",
       "      safe: true,\n",
       "      /* Index of renderer in `output_area.display_order` */\n",
       "      index: 0\n",
       "    });\n",
       "  }\n",
       "\n",
       "  // register the mime type if in Jupyter Notebook environment and previously unregistered\n",
       "  if (root.Jupyter !== undefined) {\n",
       "    var events = require('base/js/events');\n",
       "    var OutputArea = require('notebook/js/outputarea').OutputArea;\n",
       "\n",
       "    if (OutputArea.prototype.mime_types().indexOf(EXEC_MIME_TYPE) == -1) {\n",
       "      register_renderer(events, OutputArea);\n",
       "    }\n",
       "  }\n",
       "\n",
       "  \n",
       "  if (typeof (root._bokeh_timeout) === \"undefined\" || force === true) {\n",
       "    root._bokeh_timeout = Date.now() + 5000;\n",
       "    root._bokeh_failed_load = false;\n",
       "  }\n",
       "\n",
       "  var NB_LOAD_WARNING = {'data': {'text/html':\n",
       "     \"<div style='background-color: #fdd'>\\n\"+\n",
       "     \"<p>\\n\"+\n",
       "     \"BokehJS does not appear to have successfully loaded. If loading BokehJS from CDN, this \\n\"+\n",
       "     \"may be due to a slow or bad network connection. Possible fixes:\\n\"+\n",
       "     \"</p>\\n\"+\n",
       "     \"<ul>\\n\"+\n",
       "     \"<li>re-rerun `output_notebook()` to attempt to load from CDN again, or</li>\\n\"+\n",
       "     \"<li>use INLINE resources instead, as so:</li>\\n\"+\n",
       "     \"</ul>\\n\"+\n",
       "     \"<code>\\n\"+\n",
       "     \"from bokeh.resources import INLINE\\n\"+\n",
       "     \"output_notebook(resources=INLINE)\\n\"+\n",
       "     \"</code>\\n\"+\n",
       "     \"</div>\"}};\n",
       "\n",
       "  function display_loaded() {\n",
       "    var el = document.getElementById(\"cda21e94-bcbd-4c04-bd79-c17cbe01b1ff\");\n",
       "    if (el != null) {\n",
       "      el.textContent = \"BokehJS is loading...\";\n",
       "    }\n",
       "    if (root.Bokeh !== undefined) {\n",
       "      if (el != null) {\n",
       "        el.textContent = \"BokehJS \" + root.Bokeh.version + \" successfully loaded.\";\n",
       "      }\n",
       "    } else if (Date.now() < root._bokeh_timeout) {\n",
       "      setTimeout(display_loaded, 100)\n",
       "    }\n",
       "  }\n",
       "\n",
       "\n",
       "  function run_callbacks() {\n",
       "    try {\n",
       "      root._bokeh_onload_callbacks.forEach(function(callback) { callback() });\n",
       "    }\n",
       "    finally {\n",
       "      delete root._bokeh_onload_callbacks\n",
       "    }\n",
       "    console.info(\"Bokeh: all callbacks have finished\");\n",
       "  }\n",
       "\n",
       "  function load_libs(js_urls, callback) {\n",
       "    root._bokeh_onload_callbacks.push(callback);\n",
       "    if (root._bokeh_is_loading > 0) {\n",
       "      console.log(\"Bokeh: BokehJS is being loaded, scheduling callback at\", now());\n",
       "      return null;\n",
       "    }\n",
       "    if (js_urls == null || js_urls.length === 0) {\n",
       "      run_callbacks();\n",
       "      return null;\n",
       "    }\n",
       "    console.log(\"Bokeh: BokehJS not loaded, scheduling load and callback at\", now());\n",
       "    root._bokeh_is_loading = js_urls.length;\n",
       "    for (var i = 0; i < js_urls.length; i++) {\n",
       "      var url = js_urls[i];\n",
       "      var s = document.createElement('script');\n",
       "      s.src = url;\n",
       "      s.async = false;\n",
       "      s.onreadystatechange = s.onload = function() {\n",
       "        root._bokeh_is_loading--;\n",
       "        if (root._bokeh_is_loading === 0) {\n",
       "          console.log(\"Bokeh: all BokehJS libraries loaded\");\n",
       "          run_callbacks()\n",
       "        }\n",
       "      };\n",
       "      s.onerror = function() {\n",
       "        console.warn(\"failed to load library \" + url);\n",
       "      };\n",
       "      console.log(\"Bokeh: injecting script tag for BokehJS library: \", url);\n",
       "      document.getElementsByTagName(\"head\")[0].appendChild(s);\n",
       "    }\n",
       "  };var element = document.getElementById(\"cda21e94-bcbd-4c04-bd79-c17cbe01b1ff\");\n",
       "  if (element == null) {\n",
       "    console.log(\"Bokeh: ERROR: autoload.js configured with elementid 'cda21e94-bcbd-4c04-bd79-c17cbe01b1ff' but no matching script tag was found. \")\n",
       "    return false;\n",
       "  }\n",
       "\n",
       "  var js_urls = [\"https://cdn.pydata.org/bokeh/release/bokeh-0.12.13.min.js\", \"https://cdn.pydata.org/bokeh/release/bokeh-widgets-0.12.13.min.js\", \"https://cdn.pydata.org/bokeh/release/bokeh-tables-0.12.13.min.js\", \"https://cdn.pydata.org/bokeh/release/bokeh-gl-0.12.13.min.js\"];\n",
       "\n",
       "  var inline_js = [\n",
       "    function(Bokeh) {\n",
       "      Bokeh.set_log_level(\"info\");\n",
       "    },\n",
       "    \n",
       "    function(Bokeh) {\n",
       "      \n",
       "    },\n",
       "    function(Bokeh) {\n",
       "      console.log(\"Bokeh: injecting CSS: https://cdn.pydata.org/bokeh/release/bokeh-0.12.13.min.css\");\n",
       "      Bokeh.embed.inject_css(\"https://cdn.pydata.org/bokeh/release/bokeh-0.12.13.min.css\");\n",
       "      console.log(\"Bokeh: injecting CSS: https://cdn.pydata.org/bokeh/release/bokeh-widgets-0.12.13.min.css\");\n",
       "      Bokeh.embed.inject_css(\"https://cdn.pydata.org/bokeh/release/bokeh-widgets-0.12.13.min.css\");\n",
       "      console.log(\"Bokeh: injecting CSS: https://cdn.pydata.org/bokeh/release/bokeh-tables-0.12.13.min.css\");\n",
       "      Bokeh.embed.inject_css(\"https://cdn.pydata.org/bokeh/release/bokeh-tables-0.12.13.min.css\");\n",
       "    }\n",
       "  ];\n",
       "\n",
       "  function run_inline_js() {\n",
       "    \n",
       "    if ((root.Bokeh !== undefined) || (force === true)) {\n",
       "      for (var i = 0; i < inline_js.length; i++) {\n",
       "        inline_js[i].call(root, root.Bokeh);\n",
       "      }if (force === true) {\n",
       "        display_loaded();\n",
       "      }} else if (Date.now() < root._bokeh_timeout) {\n",
       "      setTimeout(run_inline_js, 100);\n",
       "    } else if (!root._bokeh_failed_load) {\n",
       "      console.log(\"Bokeh: BokehJS failed to load within specified timeout.\");\n",
       "      root._bokeh_failed_load = true;\n",
       "    } else if (force !== true) {\n",
       "      var cell = $(document.getElementById(\"cda21e94-bcbd-4c04-bd79-c17cbe01b1ff\")).parents('.cell').data().cell;\n",
       "      cell.output_area.append_execute_result(NB_LOAD_WARNING)\n",
       "    }\n",
       "\n",
       "  }\n",
       "\n",
       "  if (root._bokeh_is_loading === 0) {\n",
       "    console.log(\"Bokeh: BokehJS loaded, going straight to plotting\");\n",
       "    run_inline_js();\n",
       "  } else {\n",
       "    load_libs(js_urls, function() {\n",
       "      console.log(\"Bokeh: BokehJS plotting callback run at\", now());\n",
       "      run_inline_js();\n",
       "    });\n",
       "  }\n",
       "}(window));"
      ],
      "application/vnd.bokehjs_load.v0+json": "\n(function(root) {\n  function now() {\n    return new Date();\n  }\n\n  var force = true;\n\n  if (typeof (root._bokeh_onload_callbacks) === \"undefined\" || force === true) {\n    root._bokeh_onload_callbacks = [];\n    root._bokeh_is_loading = undefined;\n  }\n\n  \n\n  \n  if (typeof (root._bokeh_timeout) === \"undefined\" || force === true) {\n    root._bokeh_timeout = Date.now() + 5000;\n    root._bokeh_failed_load = false;\n  }\n\n  var NB_LOAD_WARNING = {'data': {'text/html':\n     \"<div style='background-color: #fdd'>\\n\"+\n     \"<p>\\n\"+\n     \"BokehJS does not appear to have successfully loaded. If loading BokehJS from CDN, this \\n\"+\n     \"may be due to a slow or bad network connection. Possible fixes:\\n\"+\n     \"</p>\\n\"+\n     \"<ul>\\n\"+\n     \"<li>re-rerun `output_notebook()` to attempt to load from CDN again, or</li>\\n\"+\n     \"<li>use INLINE resources instead, as so:</li>\\n\"+\n     \"</ul>\\n\"+\n     \"<code>\\n\"+\n     \"from bokeh.resources import INLINE\\n\"+\n     \"output_notebook(resources=INLINE)\\n\"+\n     \"</code>\\n\"+\n     \"</div>\"}};\n\n  function display_loaded() {\n    var el = document.getElementById(\"cda21e94-bcbd-4c04-bd79-c17cbe01b1ff\");\n    if (el != null) {\n      el.textContent = \"BokehJS is loading...\";\n    }\n    if (root.Bokeh !== undefined) {\n      if (el != null) {\n        el.textContent = \"BokehJS \" + root.Bokeh.version + \" successfully loaded.\";\n      }\n    } else if (Date.now() < root._bokeh_timeout) {\n      setTimeout(display_loaded, 100)\n    }\n  }\n\n\n  function run_callbacks() {\n    try {\n      root._bokeh_onload_callbacks.forEach(function(callback) { callback() });\n    }\n    finally {\n      delete root._bokeh_onload_callbacks\n    }\n    console.info(\"Bokeh: all callbacks have finished\");\n  }\n\n  function load_libs(js_urls, callback) {\n    root._bokeh_onload_callbacks.push(callback);\n    if (root._bokeh_is_loading > 0) {\n      console.log(\"Bokeh: BokehJS is being loaded, scheduling callback at\", now());\n      return null;\n    }\n    if (js_urls == null || js_urls.length === 0) {\n      run_callbacks();\n      return null;\n    }\n    console.log(\"Bokeh: BokehJS not loaded, scheduling load and callback at\", now());\n    root._bokeh_is_loading = js_urls.length;\n    for (var i = 0; i < js_urls.length; i++) {\n      var url = js_urls[i];\n      var s = document.createElement('script');\n      s.src = url;\n      s.async = false;\n      s.onreadystatechange = s.onload = function() {\n        root._bokeh_is_loading--;\n        if (root._bokeh_is_loading === 0) {\n          console.log(\"Bokeh: all BokehJS libraries loaded\");\n          run_callbacks()\n        }\n      };\n      s.onerror = function() {\n        console.warn(\"failed to load library \" + url);\n      };\n      console.log(\"Bokeh: injecting script tag for BokehJS library: \", url);\n      document.getElementsByTagName(\"head\")[0].appendChild(s);\n    }\n  };var element = document.getElementById(\"cda21e94-bcbd-4c04-bd79-c17cbe01b1ff\");\n  if (element == null) {\n    console.log(\"Bokeh: ERROR: autoload.js configured with elementid 'cda21e94-bcbd-4c04-bd79-c17cbe01b1ff' but no matching script tag was found. \")\n    return false;\n  }\n\n  var js_urls = [\"https://cdn.pydata.org/bokeh/release/bokeh-0.12.13.min.js\", \"https://cdn.pydata.org/bokeh/release/bokeh-widgets-0.12.13.min.js\", \"https://cdn.pydata.org/bokeh/release/bokeh-tables-0.12.13.min.js\", \"https://cdn.pydata.org/bokeh/release/bokeh-gl-0.12.13.min.js\"];\n\n  var inline_js = [\n    function(Bokeh) {\n      Bokeh.set_log_level(\"info\");\n    },\n    \n    function(Bokeh) {\n      \n    },\n    function(Bokeh) {\n      console.log(\"Bokeh: injecting CSS: https://cdn.pydata.org/bokeh/release/bokeh-0.12.13.min.css\");\n      Bokeh.embed.inject_css(\"https://cdn.pydata.org/bokeh/release/bokeh-0.12.13.min.css\");\n      console.log(\"Bokeh: injecting CSS: https://cdn.pydata.org/bokeh/release/bokeh-widgets-0.12.13.min.css\");\n      Bokeh.embed.inject_css(\"https://cdn.pydata.org/bokeh/release/bokeh-widgets-0.12.13.min.css\");\n      console.log(\"Bokeh: injecting CSS: https://cdn.pydata.org/bokeh/release/bokeh-tables-0.12.13.min.css\");\n      Bokeh.embed.inject_css(\"https://cdn.pydata.org/bokeh/release/bokeh-tables-0.12.13.min.css\");\n    }\n  ];\n\n  function run_inline_js() {\n    \n    if ((root.Bokeh !== undefined) || (force === true)) {\n      for (var i = 0; i < inline_js.length; i++) {\n        inline_js[i].call(root, root.Bokeh);\n      }if (force === true) {\n        display_loaded();\n      }} else if (Date.now() < root._bokeh_timeout) {\n      setTimeout(run_inline_js, 100);\n    } else if (!root._bokeh_failed_load) {\n      console.log(\"Bokeh: BokehJS failed to load within specified timeout.\");\n      root._bokeh_failed_load = true;\n    } else if (force !== true) {\n      var cell = $(document.getElementById(\"cda21e94-bcbd-4c04-bd79-c17cbe01b1ff\")).parents('.cell').data().cell;\n      cell.output_area.append_execute_result(NB_LOAD_WARNING)\n    }\n\n  }\n\n  if (root._bokeh_is_loading === 0) {\n    console.log(\"Bokeh: BokehJS loaded, going straight to plotting\");\n    run_inline_js();\n  } else {\n    load_libs(js_urls, function() {\n      console.log(\"Bokeh: BokehJS plotting callback run at\", now());\n      run_inline_js();\n    });\n  }\n}(window));"
     },
     "metadata": {},
     "output_type": "display_data"
    }
   ],
   "source": [
    "import numpy as np\n",
    "from scipy.stats import gaussian_kde, gamma, beta, gmean, norm, binom\n",
    "import pprint\n",
    "from bokeh.plotting import figure, show\n",
    "from bokeh.io import push_notebook\n",
    "from bokeh.models import ColumnDataSource, HoverTool\n",
    "from ipywidgets import interact\n",
    "import hail as hl\n",
    "hl.plot.output_notebook()"
   ]
  },
  {
   "cell_type": "code",
   "execution_count": null,
   "metadata": {},
   "outputs": [],
   "source": [
    "import plotly.plotly as py\n",
    "from plotly.offline import iplot, init_notebook_mode\n",
    "import plotly.graph_objs as go\n",
    "init_notebook_mode(connected=True)"
   ]
  },
  {
   "cell_type": "code",
   "execution_count": null,
   "metadata": {},
   "outputs": [],
   "source": [
    "mt = hl.utils.range_matrix_table(100000, 100, n_partitions=1)\n",
    "mt = mt.annotate_entries(k = mt.col_idx).cache()"
   ]
  },
  {
   "cell_type": "code",
   "execution_count": null,
   "metadata": {},
   "outputs": [],
   "source": [
    "mt2 = mt.annotate_rows(med = hl.agg.approx_quantiles(mt.k, 0.5))\n",
    "%timeit mt2.aggregate_rows(hl.agg.mean(mt2.med))"
   ]
  },
  {
   "cell_type": "code",
   "execution_count": null,
   "metadata": {},
   "outputs": [],
   "source": [
    "t = hl.utils.range_table(100000, n_partitions=1)\n",
    "t = t.annotate(array = hl.range(0, 100)).cache()"
   ]
  },
  {
   "cell_type": "code",
   "execution_count": null,
   "metadata": {},
   "outputs": [],
   "source": [
    "t2 = t.annotate(med = hl.median(t.array))\n",
    "%timeit t2.aggregate(hl.agg.mean(t2.med))"
   ]
  },
  {
   "cell_type": "code",
   "execution_count": null,
   "metadata": {},
   "outputs": [],
   "source": [
    "t = hl.utils.range_table(10000000, n_partitions=8)\n",
    "t = t.annotate(k = hl.rand_gamma(9,.5))\n",
    "data = t.aggregate(hl.agg.approx_cdf(t.k, k=50))\n",
    "\n",
    "p = [go.Scatter(x = [*data.values, data.values[-1]], y = data.ranks, mode = 'lines', line=dict(shape='hv'))]\n",
    "iplot(p)"
   ]
  },
  {
   "cell_type": "markdown",
   "metadata": {},
   "source": [
    "New `hl.plot.cdf` and `hl.plot.pdf` aim to be easy to use black boxes."
   ]
  },
  {
   "cell_type": "code",
   "execution_count": null,
   "metadata": {
    "slideshow": {
     "slide_type": "slide"
    }
   },
   "outputs": [],
   "source": [
    "t = hl.utils.range_table(10000000, n_partitions=8)\n",
    "t = t.annotate(k = hl.rand_gamma(9,.5))\n",
    "\n",
    "hl.plot.show(hl.plot.cdf(t.k))"
   ]
  },
  {
   "cell_type": "code",
   "execution_count": null,
   "metadata": {},
   "outputs": [],
   "source": [
    "p = hl.plot.cdf(t.k, k=50)\n",
    "x_d = np.linspace(0, 15, 1000)\n",
    "p.line(x=x_d, y=gamma.cdf(x_d, 9, scale=.5), color='green', line_width=2)\n",
    "hl.plot.show(p)"
   ]
  },
  {
   "cell_type": "code",
   "execution_count": null,
   "metadata": {},
   "outputs": [],
   "source": [
    "(p, i) = hl.plot.pdf(t.k, interactive=True)\n",
    "hl.plot.show(p, interact=i)"
   ]
  },
  {
   "cell_type": "markdown",
   "metadata": {},
   "source": [
    "Rather than passing a Hail expression like `t.k` to the plotting functions, you can also perform the `hl.agg.approx_cdf` aggregation yourself, and pass the result to `hl.plot.{cdf, pdf, histogram}`."
   ]
  },
  {
   "cell_type": "code",
   "execution_count": null,
   "metadata": {},
   "outputs": [],
   "source": [
    "data = t.aggregate(hl.agg.approx_cdf(t.k, k=350))\n",
    "print(len(data.values))\n",
    "(p, i) = hl.plot.pdf(data, interactive=True)\n",
    "x_d = np.linspace(data.values[0], data.values[-1], 1000)\n",
    "p.line(x=x_d, y=gamma.pdf(x_d, 9, scale=.5), color='green', line_width=2)\n",
    "hl.plot.show(p, interact=i)"
   ]
  },
  {
   "cell_type": "markdown",
   "metadata": {},
   "source": [
    "The PDF is smoothing using a variable bandwidth kernel density estimator. For comparison, here is a fixed bandwidth estimator."
   ]
  },
  {
   "cell_type": "code",
   "execution_count": null,
   "metadata": {},
   "outputs": [],
   "source": [
    "from scipy.stats import gaussian_kde\n",
    "values = np.array(data.values)\n",
    "weights = np.diff(data.ranks)\n",
    "kde = gaussian_kde(values, .05, weights)\n",
    "x_d = np.linspace(values[0], values[-1], 1000)\n",
    "p = figure()\n",
    "p.line(x=x_d, y=gamma.pdf(x_d, 9, scale=.5), color='green', line_width=2)\n",
    "l = p.line(x_d, kde(x_d), line_width=2, line_color='black')\n",
    "\n",
    "handle = show(p, notebook_handle=True)\n",
    "\n",
    "def update(smoothing=.05):\n",
    "    kde = gaussian_kde(values, smoothing, weights)\n",
    "    l.data_source.data = {'x': x_d, 'y': kde(x_d)}\n",
    "    push_notebook(handle)\n",
    "    \n",
    "interact(update, smoothing=(.001, .2, .0005))"
   ]
  },
  {
   "cell_type": "markdown",
   "metadata": {},
   "source": [
    "Finally, without any smoothing..."
   ]
  },
  {
   "cell_type": "code",
   "execution_count": null,
   "metadata": {},
   "outputs": [],
   "source": [
    "data = t.aggregate(hl.agg.approx_cdf(t.k, k=350))\n",
    "p = figure()\n",
    "hist, edges = np.histogram(data.values, data.values, weights=np.diff(data.ranks), density=True)\n",
    "p.quad(bottom=0, top=hist, left=edges[:-1], right=edges[1:])\n",
    "x_d = np.linspace(data.values[0], data.values[-1], 1000)\n",
    "p.line(x=x_d, y=gamma.pdf(x_d, 9, scale=.5), color='green', line_width=2)\n",
    "show(p)"
   ]
  },
  {
   "cell_type": "code",
   "execution_count": null,
   "metadata": {},
   "outputs": [],
   "source": [
    "hl.plot.show(hl.plot.histogram(t.k))"
   ]
  },
  {
   "cell_type": "code",
   "execution_count": null,
   "metadata": {},
   "outputs": [],
   "source": [
    "(p, i) = hl.plot.histogram(data, interactive=True)\n",
    "hl.plot.show(p, interact=i)"
   ]
  },
  {
   "cell_type": "markdown",
   "metadata": {},
   "source": [
    "A demonstration of the improvement over sampling:"
   ]
  },
  {
   "cell_type": "code",
   "execution_count": null,
   "metadata": {},
   "outputs": [],
   "source": [
    "n = 100000\n",
    "t = hl.utils.range_table(n, n_partitions=8)\n",
    "t = t.annotate(k = hl.rand_gamma(9,.5), s = hl.rand_unif(0, 1))\n",
    "t = t.key_by(t.s)\n",
    "\n",
    "samp_size = 2000\n",
    "sample = t.aggregate(hl.agg.take(t.k, samp_size))\n",
    "\n",
    "weights = np.full(samp_size, n / samp_size)\n",
    "values = np.array(sample)\n",
    "slope = 1 / 15\n",
    "\n",
    "smoothing = .5\n",
    "\n",
    "def f(x, prev, smoothing=smoothing):\n",
    "    inv_scale = (np.sqrt(n * slope) / smoothing) * np.sqrt(prev / weights)\n",
    "    diff = x[:, np.newaxis] - values\n",
    "    grid = (3 / (4 * n)) * weights * np.maximum(0, inv_scale - np.power(diff, 2) * np.power(inv_scale, 3))\n",
    "    return np.sum(grid, axis=1)\n",
    "\n",
    "round1 = f(values, np.full(len(values), slope))\n",
    "x_d = np.linspace(0, 15, 1000)\n",
    "final = f(x_d, round1)\n",
    "\n",
    "p = figure()\n",
    "l = p.line(x_d, final, line_width=2, line_color='black')\n",
    "\n",
    "handle = show(p, notebook_handle=True)\n",
    "\n",
    "def update(smoothing=smoothing):\n",
    "    final = f(x_d, round1, smoothing)\n",
    "    l.data_source.data = {'x': x_d, 'y': final}\n",
    "    push_notebook(handle)\n",
    "    \n",
    "interact(update, smoothing=(.02, .8, .005))"
   ]
  },
  {
   "cell_type": "markdown",
   "metadata": {},
   "source": [
    "This function computes the Kolmogorov-Smirnov divergence and the total variation distance between the aproximated CDF and the true one, assuming a uniform distribution."
   ]
  },
  {
   "cell_type": "code",
   "execution_count": null,
   "metadata": {},
   "outputs": [],
   "source": [
    "def compute_errors(cdf):\n",
    "    values = np.array(cdf['values'])\n",
    "    ranks = np.array(cdf['ranks'])\n",
    "    n = ranks[-1]\n",
    "    grid = np.linspace(0, n, 500, endpoint=False).astype('int')[1:]\n",
    "    if grid[-1] == n:\n",
    "        grid[-1] = n - 1\n",
    "    indices = np.searchsorted(ranks, grid)\n",
    "    \n",
    "    errors = np.abs(values[indices] - grid)\n",
    "    return (np.mean(errors) / n, np.max(errors) / n)"
   ]
  },
  {
   "cell_type": "code",
   "execution_count": null,
   "metadata": {},
   "outputs": [],
   "source": [
    "t = hl.utils.range_table(10 ** 5, n_partitions=8)\n",
    "t = t.annotate(k = hl.rand_unif(0, 1))\n",
    "t = t.key_by(t.k).cache()"
   ]
  },
  {
   "cell_type": "code",
   "execution_count": null,
   "metadata": {},
   "outputs": [],
   "source": [
    "cdf = t.aggregate(hl.agg.approx_cdf(t.idx, k=150))\n",
    "\n",
    "(avg, max) = compute_errors(cdf)\n",
    "print(f\"avg error: {avg}\")\n",
    "print(f\"max error: {max}\")\n",
    "print(f\"sample size: {len(cdf.values)}\")\n",
    "print(f\"space(MB): {len(cdf.values) * 4 / (2 ** 20)}\")"
   ]
  },
  {
   "cell_type": "code",
   "execution_count": null,
   "metadata": {},
   "outputs": [],
   "source": [
    "cdf._compaction_counts"
   ]
  },
  {
   "cell_type": "code",
   "execution_count": null,
   "metadata": {},
   "outputs": [],
   "source": [
    "delta = .001\n",
    "det_level = 1\n",
    "ub = 8\n",
    "counts = cdf._compaction_counts[:ub]\n",
    "s = np.sum((2 ** np.arange(2*ub, step=2)) * np.array(counts))\n",
    "eps = (1 / (np.sqrt(2) * cdf.ranks[-1])) * np.sqrt(-np.log(delta) * s)\n",
    "eps"
   ]
  },
  {
   "cell_type": "code",
   "execution_count": null,
   "metadata": {},
   "outputs": [],
   "source": [
    "def s(ub, counts):\n",
    "    return np.sum((2 ** np.arange(2*ub, step=2)) * np.array(counts[:ub]))\n",
    "def prob(err, ub, counts):\n",
    "    return 2 * np.exp(-2 * (err ** 2) / s(ub, counts))\n",
    "counts = cdf._compaction_counts[:ub]\n",
    ".5 * prob(eps * cdf.ranks[-1] + 2 ** 6, 6, counts) + .5 * prob(eps * cdf.ranks[-1] - 2 ** 6, 6, counts)"
   ]
  },
  {
   "cell_type": "code",
   "execution_count": null,
   "metadata": {},
   "outputs": [],
   "source": [
    "samp_size = 2000\n",
    "sample = t.aggregate(hl.agg.take(t.idx, samp_size))\n",
    "cdf = {'values': np.sort(sample), 'ranks': np.linspace(0, 1000000, samp_size)}\n",
    "(avg, max) = compute_errors(cdf)\n",
    "print(f\"avg error: {avg}\")\n",
    "print(f\"max error: {max}\")\n",
    "print(f\"sample size: {samp_size}\")"
   ]
  },
  {
   "cell_type": "code",
   "execution_count": null,
   "metadata": {
    "scrolled": true
   },
   "outputs": [],
   "source": [
    "from bokeh.models import HoverTool\n",
    "p = figure(\n",
    "    y_axis_label='Avg. Error',\n",
    "    y_axis_type='log',\n",
    "    x_axis_label='Space(MB)',\n",
    "    x_axis_type='log')\n",
    "kll_sizes = [10, 31, 100, 316, 1000, 3160, 10000]\n",
    "reps = 5\n",
    "cdfs = [[t.aggregate(hl.agg.approx_cdf(t.idx, size)) for i in range(reps)] for size in kll_sizes]\n",
    "kll_space = [len(cdf[0].values) * 4 / (2 ** 20) for cdf in cdfs]\n",
    "kll_avg_err = [np.mean([compute_errors(cdf[i])[0] for i in range(reps)]) for cdf in cdfs]\n",
    "p.circle(\n",
    "    x = kll_space,\n",
    "    y = kll_avg_err,\n",
    "    legend = 'KLL',\n",
    "    color= 'red',\n",
    "    size = 7)\n",
    "p.line(x = kll_space, y = kll_avg_err, color = 'red')\n",
    "mrl_space =   [.00044, .00085, .002, .015,  .035,  .222]\n",
    "mrl_avg_err = [.0148,  .01,    .004, .0005, .00026, .000027]\n",
    "p.circle(\n",
    "    x = mrl_space,\n",
    "    y = mrl_avg_err,\n",
    "    legend = 'MRL',\n",
    "    color='green',\n",
    "    size = 7)\n",
    "p.line(x = mrl_space, y = mrl_avg_err, color = 'green')\n",
    "p.add_tools(HoverTool(tooltips=[(\"size\", \"$x\"), (\"err\", \"$y\")], mode='vline'))\n",
    "show(p)"
   ]
  },
  {
   "cell_type": "code",
   "execution_count": null,
   "metadata": {},
   "outputs": [],
   "source": [
    "p = figure(\n",
    "    y_axis_label='sample size',\n",
    "    y_axis_type='log',\n",
    "    x_axis_label='1/error',\n",
    "    x_axis_type='log')\n",
    "sample_sizes = [100, 316, 1000, 3160, 10000, 31600, 100000]\n",
    "p.circle(\n",
    "    x = [1 / compute_errors({'values': np.sort(t.aggregate(hl.agg.take(t.idx, size))), 'ranks': np.linspace(0, 1000000, size)})[1] for size in sample_sizes],\n",
    "    y = sample_sizes,\n",
    "    legend = 'sampling',\n",
    "    size = 10)\n",
    "kll_sizes = [10, 31, 100, 316, 1000, 3160, 10000]\n",
    "cdfs = [t.aggregate(hl.agg.approx_cdf(t.idx, size)) for size in kll_sizes]\n",
    "p.circle(\n",
    "    x = [1 / compute_errors(cdf)[1] for cdf in cdfs],\n",
    "    y = [len(cdf.values) for cdf in cdfs],\n",
    "    legend = 'KLL',\n",
    "    color='green',\n",
    "    size = 10)\n",
    "show(p)"
   ]
  },
  {
   "cell_type": "code",
   "execution_count": null,
   "metadata": {},
   "outputs": [],
   "source": [
    "t = t = hl.utils.range_table(1000000, n_partitions=8)\n",
    "t = t.annotate(k = hl.rand_unif(0, 1))\n",
    "%timeit t.aggregate(hl.agg.approx_cdf(t.k))"
   ]
  },
  {
   "cell_type": "code",
   "execution_count": null,
   "metadata": {},
   "outputs": [],
   "source": [
    "t = t = hl.utils.range_table(1000000, n_partitions=8)\n",
    "t = t.annotate(k = hl.rand_unif(0, 1))\n",
    "%timeit t.aggregate(hl.agg.sum(t.k))"
   ]
  },
  {
   "cell_type": "code",
   "execution_count": null,
   "metadata": {},
   "outputs": [],
   "source": [
    "n = 1500000\n",
    "cn = [31504, 5691, 1899, 639, 217, 71, 28, 7, 3, 1]\n",
    "k = 8\n",
    "d = .0001\n",
    "c1 = np.sum([cn[l] * (2 ** (l - 1)) for l in range(len(cn))])\n",
    "c2 = np.sum([cn[l] * np.power((2 ** l) - (2 ** k), 2) for l in range(k + 1, len(cn))])\n",
    "c = c1 + c2\n",
    "b = (2 ** k) / 3\n",
    "e = b + np.sqrt(b * b - 2 * c / np.log(d))\n",
    "np.log(1 / d) * e / n"
   ]
  },
  {
   "cell_type": "code",
   "execution_count": null,
   "metadata": {},
   "outputs": [],
   "source": [
    "e = .0009479\n",
    "np.exp((-1 / 2) * np.power(e * n, 2) / (c +  e * n * b ))"
   ]
  },
  {
   "cell_type": "code",
   "execution_count": null,
   "metadata": {},
   "outputs": [],
   "source": [
    "def compare(x1, y1, x2, y2):\n",
    "    return x1*y2 - x2*y1\n",
    "\n",
    "def f(min_x, max_x, x, y, e):\n",
    "    new_y = np.full_like(x, 0)\n",
    "    keep = np.full_like(x, False, dtype=np.bool_)\n",
    "    \n",
    "    e = e\n",
    "    fx = min_x\n",
    "    fy = 0\n",
    "    li = 0\n",
    "    ui = 0\n",
    "    ldx = x[0] - min_x\n",
    "    udx = ldx\n",
    "    ldy = y[1] - e\n",
    "    udy = y[0] + e\n",
    "    j = 1\n",
    "    # loop vars: li, ui, j, fx, fy, ldx, udx, ldy, udy\n",
    "    while ui < len(x) and li < len(x):\n",
    "        if j == len(x):\n",
    "            ub = 1\n",
    "            lb = 1\n",
    "            xj = max_x\n",
    "        else:     \n",
    "            ub = y[j] + e\n",
    "            lb = y[j+1] - e\n",
    "            xj = x[j]\n",
    "        dx = xj - fx\n",
    "        judy = ub - fy\n",
    "        jldy = lb - fy\n",
    "        if compare(ldx, ldy, dx, judy) < 0:\n",
    "            fx = x[li]\n",
    "            fy = y[li+1] - e\n",
    "            new_y[li] = fy\n",
    "            keep[li] = True\n",
    "            j = li + 1\n",
    "            if j >= len(x):\n",
    "                break\n",
    "            li = j\n",
    "            ldx = x[j] - fx\n",
    "            ldy = y[j+1] - e - fy\n",
    "            ui = j\n",
    "            udx = x[j] - fx\n",
    "            udy = y[j] + e - fy\n",
    "            j += 1\n",
    "            continue\n",
    "        elif compare(udx, udy, dx, jldy) > 0:\n",
    "            fx = x[ui]\n",
    "            fy = y[ui] + e\n",
    "            new_y[ui] = fy\n",
    "            keep[ui] = True\n",
    "            j = ui + 1\n",
    "            if j >= len(x):\n",
    "                break\n",
    "            li = j\n",
    "            ldx = x[j] - fx\n",
    "            ldy = y[j+1] - e - fy\n",
    "            ui = j\n",
    "            udx = x[j] - fx\n",
    "            udy = y[j] + e - fy\n",
    "            j += 1\n",
    "            continue\n",
    "        if j >= len(x):\n",
    "            break\n",
    "        if compare(udx, udy, dx, judy) < 0:\n",
    "            ui = j\n",
    "            udx = x[j] - fx\n",
    "            udy = y[j] + e - fy\n",
    "        if compare(ldx, ldy, dx, jldy) > 0:\n",
    "            li = j\n",
    "            ldx = x[j] - fx\n",
    "            ldy = y[j+1] - e - fy\n",
    "        j += 1\n",
    "    return new_y, keep"
   ]
  },
  {
   "cell_type": "code",
   "execution_count": null,
   "metadata": {},
   "outputs": [],
   "source": [
    "t = hl.utils.range_table(100000, n_partitions=8)\n",
    "t = t.annotate(k = hl.rand_gamma(9,.5))\n",
    "cdf = t.aggregate(hl.agg.approx_cdf(t.k, k=50))\n",
    "y = np.array(cdf.ranks[1:-1]) / cdf.ranks[-1]\n",
    "x = np.array(cdf.values[1:-1])\n",
    "min_x = cdf.values[0]\n",
    "max_x = cdf.values[-1]\n",
    "min_e = np.max(y[1:] - y[:-1]) / 2.0\n",
    "\n",
    "p = figure()\n",
    "c1 = p.circle(x=x, y=y[:-1]+min_e)\n",
    "c2 = p.circle(x=x, y=y[1:]-min_e, color='green')\n",
    "new_y, keep = f(min_x, max_x, x, y, min_e)\n",
    "c3 = p.circle(x=x[keep], y=new_y[keep], color='red')\n",
    "l = p.line(x=[cdf.values[0], *x[keep], cdf.values[-1]], y=[0, *new_y[keep], 1], line_width=2, color='black')\n",
    "\n",
    "p.add_tools(HoverTool(tooltips=[(\"index\", \"$index\"), (\"(x, y)\", \"($x, $y)\")]))\n",
    "\n",
    "def update(smoothing=min_e):\n",
    "    new_y, keep = f(min_x, max_x, x, y, smoothing)\n",
    "    new_data = {'x': [cdf.values[0], *x[keep], cdf.values[-1]], 'y': [0, *new_y[keep], 1]}\n",
    "    l.data_source.data = new_data\n",
    "    c1.data_source.data = {'x': x, 'y': y[:-1]+smoothing}\n",
    "    c2.data_source.data = {'x': x, 'y': y[1:]-smoothing}\n",
    "    c3.data_source.data = {'x': x[keep], 'y': new_y[keep]}\n",
    "    push_notebook(handle)\n",
    "\n",
    "handle = show(p, notebook_handle=True)\n",
    "interact(update, smoothing=(min_e, .05, .00001)), min_e"
   ]
  },
  {
   "cell_type": "code",
   "execution_count": null,
   "metadata": {},
   "outputs": [],
   "source": [
    "t = hl.utils.range_table(1000000, n_partitions=8)\n",
    "t = t.annotate(k = hl.rand_gamma(9,.5))\n",
    "cdf = t.aggregate(hl.agg.approx_cdf(t.k, k=350))\n",
    "y = np.array(cdf.ranks[1:-1]) / cdf.ranks[-1]\n",
    "x = np.array(cdf.values[1:-1])\n",
    "min_x = cdf.values[0]\n",
    "max_x = cdf.values[-1]\n",
    "min_e = np.max(y[1:] - y[:-1]) / 2.0\n",
    "\n",
    "p = figure(y_range=(0, .3))\n",
    "new_y, keep = f(min_x, max_x, x, y, min_e)\n",
    "slopes = np.diff([0, *new_y[keep], 1]) / np.diff([cdf.values[0], *x[keep], cdf.values[-1]])\n",
    "q = p.quad(left=[cdf.values[0], *x[keep]], right=[*x[keep], cdf.values[-1]], bottom=0, top=slopes)\n",
    "x_d = np.linspace(0, 15, 1000)\n",
    "p.line(x=x_d, y=gamma.pdf(x_d, 9, scale=.5), color='green', line_width=2)\n",
    "\n",
    "def update(smoothing=.00085):\n",
    "    new_y, keep = f(min_x, max_x, x, y, smoothing)\n",
    "    slopes = np.diff([0, *new_y[keep], 1]) / np.diff([cdf.values[0], *x[keep], cdf.values[-1]])\n",
    "    new_data = {'left': [cdf.values[0], *x[keep]], 'right': [*x[keep], cdf.values[-1]], 'bottom': np.full(len(slopes), 0), 'top': slopes}\n",
    "    q.data_source.data = new_data\n",
    "    push_notebook(handle)\n",
    "\n",
    "handle = show(p, notebook_handle=True)\n",
    "interact(update, smoothing=(min_e, .004, .00001))"
   ]
  },
  {
   "cell_type": "code",
   "execution_count": 3,
   "metadata": {},
   "outputs": [
    {
     "data": {
      "text/html": [
       "\n",
       "<div class=\"bk-root\">\n",
       "    <div class=\"bk-plotdiv\" id=\"ee9d6a22-3267-46d8-ba4e-e58c817817af\"></div>\n",
       "</div>"
      ]
     },
     "metadata": {},
     "output_type": "display_data"
    },
    {
     "data": {
      "application/javascript": [
       "(function(root) {\n",
       "  function embed_document(root) {\n",
       "    \n",
       "  var docs_json = {\"e2da0a04-21ea-4c8f-9426-78ba826fa84f\":{\"roots\":{\"references\":[{\"attributes\":{},\"id\":\"966ce285-4bc7-488e-a345-e2a07f8fb61b\",\"type\":\"LinearScale\"},{\"attributes\":{},\"id\":\"a245aa84-8aa1-4472-bd0e-b3ccafcf5d6b\",\"type\":\"SaveTool\"},{\"attributes\":{},\"id\":\"5a78bb1f-f49d-4662-94cf-95aad2cd5cb3\",\"type\":\"LinearScale\"},{\"attributes\":{\"dimensions\":\"width\"},\"id\":\"01933b83-cfa1-4c24-9f7e-47456f829a27\",\"type\":\"WheelZoomTool\"},{\"attributes\":{\"callback\":null},\"id\":\"44b449bc-b785-4126-bf9e-3cd82a257b45\",\"type\":\"DataRange1d\"},{\"attributes\":{\"formatter\":{\"id\":\"e127be94-d86c-4965-ab62-b8274fcf771c\",\"type\":\"BasicTickFormatter\"},\"plot\":{\"id\":\"5c0fdab2-159b-43c5-b03f-2296b8eb66a0\",\"subtype\":\"Figure\",\"type\":\"Plot\"},\"ticker\":{\"id\":\"d3e3679d-98f0-442c-8e70-1d1f15821db7\",\"type\":\"BasicTicker\"}},\"id\":\"f92b9d58-57f3-43e2-a74a-79d4a6cdffb4\",\"type\":\"LinearAxis\"},{\"attributes\":{},\"id\":\"d3e3679d-98f0-442c-8e70-1d1f15821db7\",\"type\":\"BasicTicker\"},{\"attributes\":{\"bottom\":{\"value\":0},\"fill_alpha\":{\"value\":0.1},\"fill_color\":{\"value\":\"#1f77b4\"},\"left\":{\"field\":\"left\"},\"line_alpha\":{\"value\":0.1},\"line_color\":{\"value\":\"#1f77b4\"},\"right\":{\"field\":\"right\"},\"top\":{\"field\":\"top\"}},\"id\":\"a12d8d4b-fa6d-46f1-b9f7-37ce03c94d6e\",\"type\":\"Quad\"},{\"attributes\":{\"plot\":{\"id\":\"5c0fdab2-159b-43c5-b03f-2296b8eb66a0\",\"subtype\":\"Figure\",\"type\":\"Plot\"},\"ticker\":{\"id\":\"d3e3679d-98f0-442c-8e70-1d1f15821db7\",\"type\":\"BasicTicker\"}},\"id\":\"e686f5ba-2bee-4aa2-8dac-ec824cb89279\",\"type\":\"Grid\"},{\"attributes\":{\"active_drag\":\"auto\",\"active_inspect\":\"auto\",\"active_scroll\":{\"id\":\"01933b83-cfa1-4c24-9f7e-47456f829a27\",\"type\":\"WheelZoomTool\"},\"active_tap\":\"auto\",\"tools\":[{\"id\":\"cb6824a7-d28d-4165-a5fd-53ec6f271526\",\"type\":\"PanTool\"},{\"id\":\"01933b83-cfa1-4c24-9f7e-47456f829a27\",\"type\":\"WheelZoomTool\"},{\"id\":\"696a806a-32be-4111-87cd-cef0d3fd4e87\",\"type\":\"ResetTool\"},{\"id\":\"a245aa84-8aa1-4472-bd0e-b3ccafcf5d6b\",\"type\":\"SaveTool\"}]},\"id\":\"7ced7693-0e27-4371-a208-028ffdb2dba8\",\"type\":\"Toolbar\"},{\"attributes\":{},\"id\":\"a083e935-d446-47b3-81a2-9f9c13abc5bb\",\"type\":\"BasicTicker\"},{\"attributes\":{\"callback\":null},\"id\":\"430b0d5f-76dd-44de-a61f-4d2a9d2ceb48\",\"type\":\"DataRange1d\"},{\"attributes\":{\"dimension\":1,\"plot\":{\"id\":\"5c0fdab2-159b-43c5-b03f-2296b8eb66a0\",\"subtype\":\"Figure\",\"type\":\"Plot\"},\"ticker\":{\"id\":\"a083e935-d446-47b3-81a2-9f9c13abc5bb\",\"type\":\"BasicTicker\"}},\"id\":\"d29db782-120e-466d-b053-d36953ff699f\",\"type\":\"Grid\"},{\"attributes\":{\"bottom\":{\"value\":0},\"fill_color\":{\"value\":\"#1f77b4\"},\"left\":{\"field\":\"left\"},\"line_color\":{\"value\":\"#1f77b4\"},\"right\":{\"field\":\"right\"},\"top\":{\"field\":\"top\"}},\"id\":\"95ba23e0-9460-4fda-9a5b-ce949b7ae818\",\"type\":\"Quad\"},{\"attributes\":{},\"id\":\"e127be94-d86c-4965-ab62-b8274fcf771c\",\"type\":\"BasicTickFormatter\"},{\"attributes\":{\"source\":{\"id\":\"3fecfd4b-8289-4a9d-96b8-f0b99a3e0cb3\",\"type\":\"ColumnDataSource\"}},\"id\":\"b53669d8-846a-4422-95c5-90a016c0e023\",\"type\":\"CDSView\"},{\"attributes\":{\"data_source\":{\"id\":\"3fecfd4b-8289-4a9d-96b8-f0b99a3e0cb3\",\"type\":\"ColumnDataSource\"},\"glyph\":{\"id\":\"95ba23e0-9460-4fda-9a5b-ce949b7ae818\",\"type\":\"Quad\"},\"hover_glyph\":null,\"muted_glyph\":null,\"nonselection_glyph\":{\"id\":\"a12d8d4b-fa6d-46f1-b9f7-37ce03c94d6e\",\"type\":\"Quad\"},\"selection_glyph\":null,\"view\":{\"id\":\"b53669d8-846a-4422-95c5-90a016c0e023\",\"type\":\"CDSView\"}},\"id\":\"59bdf40d-e354-4866-a8ef-dc724a1b9ce6\",\"type\":\"GlyphRenderer\"},{\"attributes\":{},\"id\":\"8927c397-8892-4d1d-9fa8-9f24f3a718a7\",\"type\":\"BasicTickFormatter\"},{\"attributes\":{\"axis_label\":\"Frequency\",\"formatter\":{\"id\":\"8927c397-8892-4d1d-9fa8-9f24f3a718a7\",\"type\":\"BasicTickFormatter\"},\"plot\":{\"id\":\"5c0fdab2-159b-43c5-b03f-2296b8eb66a0\",\"subtype\":\"Figure\",\"type\":\"Plot\"},\"ticker\":{\"id\":\"a083e935-d446-47b3-81a2-9f9c13abc5bb\",\"type\":\"BasicTicker\"}},\"id\":\"80e961a3-7897-4c67-ba43-45d6b14d21c4\",\"type\":\"LinearAxis\"},{\"attributes\":{\"callback\":null,\"column_names\":[\"left\",\"right\",\"top\"],\"data\":{\"left\":[0.48619169409484947,0.873901009060216,1.0008138045867967,1.118590579347229,1.3945900365543433,1.4649203139410167,1.518366664035959,1.5517981769762137,1.6886018007871322,1.7699451763953853,1.8105231115301221,1.9004705513206512,1.9160255534145278,1.9755836332187886,2.0095715414354394,2.0467602310692246,2.088962340393836,2.0960730539130834,2.1172305028057443,2.1520995986738147,2.171837942196251,2.1783469871805563,2.264720648322995,2.310622479637433,2.3770460769959194,2.449830832287069,2.4689307854868163,2.5039760092908314,2.579610665471997,2.6216763889070873,2.645043542466369,2.6974768517076995,2.7674359011648106,2.807154058128751,2.8290090139746726,2.886288765485546,2.953430634712925,2.9860692554240074,3.0039817449888315,3.0138572395739325,3.0654644328704492,3.078442746624512,3.102759475019005,3.128102207955872,3.1490334058644005,3.182237847750612,3.2092515567146367,3.241569846169744,3.267268144542286,3.2925350101072657,3.3817088176473913,3.3915547799148937,3.4264572995235527,3.4425196829103215,3.4506013547751695,3.4661699798553123,3.4871874788913377,3.4979261057519055,3.55552202122588,3.608733551726262,3.6164310244703888,3.7040757810708707,3.71238971589622,3.7404500112234773,3.7721328920259074,3.7796162585135105,3.7899357359159183,3.824145265310557,3.8386878889994356,3.8433713780472223,3.9049055762626086,3.919720523071355,3.931676906941279,3.9373894760063224,3.974521105393357,4.007538529964437,4.094899782354665,4.1591179812100725,4.178771547662386,4.207333205032111,4.207561759970316,4.21911772537195,4.248789262440907,4.251626404632873,4.2589315738555635,4.313058387241046,4.356421371143824,4.393718519999556,4.4198563166131954,4.466305669914256,4.473587367089832,4.502504389600047,4.598842896626529,4.611843875637502,4.628585660052352,4.641092735894031,4.720701467163018,4.781088687735248,4.810634324523171,4.850076084850845,4.85668246278415,4.905890560328763,4.977598302707392,4.983153237723173,4.999347496533103,5.023367413722692,5.049799072317669,5.081259298768392,5.11649222264663,5.163631080967851,5.180702089916894,5.2529384628360605,5.304446390551797,5.369016743508948,5.401207961168238,5.432422802496129,5.484341499854743,5.497665755702932,5.535093225561049,5.590848113550504,5.627507446834352,5.647796182501784,5.759262292591475,5.815465906862121,5.852832617665415,5.969636191267362,6.016280067349717,6.048349248726245,6.081050350581112,6.09865479826086,6.164805680914974,6.274812146668598,6.305143380478578,6.389758020091056,6.4104109503993145,6.460725981909989,6.4802749536955,6.525057176479512,6.563419158419957,6.611913496285437,6.670509577489425,6.707082085752178,6.733981649199485,6.771357212838226,6.835722051937984,6.936042796390636,6.990780323495171,7.0385506560262,7.144737350461639,7.250455875903081,7.365405817419208,7.420606992931806,7.492907444870994,7.558654978293089,7.718643617812304,7.766739714539044,7.809400198240585,7.857385007685185,7.995583284347292,8.111966089967508,8.171732498987392,8.184262921827008,8.356486124696303,8.431770981339149,8.540843739780872,8.904438367415782,9.179344906454029,9.551838434586793,9.966432956022713,10.30590389607421,11.142365244155233],\"right\":[0.873901009060216,1.0008138045867967,1.118590579347229,1.3945900365543433,1.4649203139410167,1.518366664035959,1.5517981769762137,1.6886018007871322,1.7699451763953853,1.8105231115301221,1.9004705513206512,1.9160255534145278,1.9755836332187886,2.0095715414354394,2.0467602310692246,2.088962340393836,2.0960730539130834,2.1172305028057443,2.1520995986738147,2.171837942196251,2.1783469871805563,2.264720648322995,2.310622479637433,2.3770460769959194,2.449830832287069,2.4689307854868163,2.5039760092908314,2.579610665471997,2.6216763889070873,2.645043542466369,2.6974768517076995,2.7674359011648106,2.807154058128751,2.8290090139746726,2.886288765485546,2.953430634712925,2.9860692554240074,3.0039817449888315,3.0138572395739325,3.0654644328704492,3.078442746624512,3.102759475019005,3.128102207955872,3.1490334058644005,3.182237847750612,3.2092515567146367,3.241569846169744,3.267268144542286,3.2925350101072657,3.3817088176473913,3.3915547799148937,3.4264572995235527,3.4425196829103215,3.4506013547751695,3.4661699798553123,3.4871874788913377,3.4979261057519055,3.55552202122588,3.608733551726262,3.6164310244703888,3.7040757810708707,3.71238971589622,3.7404500112234773,3.7721328920259074,3.7796162585135105,3.7899357359159183,3.824145265310557,3.8386878889994356,3.8433713780472223,3.9049055762626086,3.919720523071355,3.931676906941279,3.9373894760063224,3.974521105393357,4.007538529964437,4.094899782354665,4.1591179812100725,4.178771547662386,4.207333205032111,4.207561759970316,4.21911772537195,4.248789262440907,4.251626404632873,4.2589315738555635,4.313058387241046,4.356421371143824,4.393718519999556,4.4198563166131954,4.466305669914256,4.473587367089832,4.502504389600047,4.598842896626529,4.611843875637502,4.628585660052352,4.641092735894031,4.720701467163018,4.781088687735248,4.810634324523171,4.850076084850845,4.85668246278415,4.905890560328763,4.977598302707392,4.983153237723173,4.999347496533103,5.023367413722692,5.049799072317669,5.081259298768392,5.11649222264663,5.163631080967851,5.180702089916894,5.2529384628360605,5.304446390551797,5.369016743508948,5.401207961168238,5.432422802496129,5.484341499854743,5.497665755702932,5.535093225561049,5.590848113550504,5.627507446834352,5.647796182501784,5.759262292591475,5.815465906862121,5.852832617665415,5.969636191267362,6.016280067349717,6.048349248726245,6.081050350581112,6.09865479826086,6.164805680914974,6.274812146668598,6.305143380478578,6.389758020091056,6.4104109503993145,6.460725981909989,6.4802749536955,6.525057176479512,6.563419158419957,6.611913496285437,6.670509577489425,6.707082085752178,6.733981649199485,6.771357212838226,6.835722051937984,6.936042796390636,6.990780323495171,7.0385506560262,7.144737350461639,7.250455875903081,7.365405817419208,7.420606992931806,7.492907444870994,7.558654978293089,7.718643617812304,7.766739714539044,7.809400198240585,7.857385007685185,7.995583284347292,8.111966089967508,8.171732498987392,8.184262921827008,8.356486124696303,8.431770981339149,8.540843739780872,8.904438367415782,9.179344906454029,9.551838434586793,9.966432956022713,10.30590389607421,11.142365244155233,15.458219936581092],\"top\":{\"__ndarray__\":\"YUHR7knnWj9lTI0VPIZgP+ib0nJgzmE/uZgh0lPefj9OfFzwLF2GP0sndlrIbY0//9Xl92ldjz9UCHSpIumYPwiKNAaKuaE/Fe9fvnphoz9wQR1YrNulP9Qv7S9xR6k/j/kJORKcrD+mLbAk+NmuPxWhlQl6uK8/Y6UtSP0UsT/rviwY226yPx5OZHfRlbI/330WXnzLsj+INqm94uuzP1Sf8f8LI7Q/MD+C2TLDtj9BGfazCbO5Py4PFRyjo7o/vBPVQdTcvj+WphmU3e69P2UV8viS1MA/TWUcG2JUwT+/2FmUFunCPyMv/1y418E/BxCRwYufxD9eAz/ipQPGP04yv5Z9RsY/AkoxxHZ9xj//23heV5nIP0C0IMDd48g/btd38mFhyj+clgsW+xrJP2rIdHV+i8o/2XzUKvyqyj9inUra6cXLP1jr1h25q8w/tFP9TyRyzD9hycoXKb/LP4q014TX4M0/3RSDfPnGzD/66OkY3mrOP3X1xf08ms4/2H5eGQIgzz/is50D+jvPP0l8Ho6ZGdE/sChgZtJM0D/JOfWaA1LQP8yB16pIx9A/W7lsFRmM0D9FVs568JXQPyjeWBx/XNA/53l7to3I0D+cd32iGT7RP++y/fGrndE/2T+lRZVi0T/n8mVaDjHRP0gkWKI9hNE/EsC9kZ+50T/Ma0oeCunQP5sVpzbmdtE/0jMh7G640T/XjagATlbSP1QbxvBdhtA/jFGYsbHp0T89sIzWzrHRPymZosh/b9E/UFLNgCoA0j+31LrcGofRPyWjHxBIANI/AI6cVAzR0T+C7BqMnprRP1Z3vBymgdE/JfTxoPUM0T8MHwlzbc3TPw2f1LVsbtI/XHqfyGaE0T+mTwgNc+vSP5eAQ7g+8dE/MziLSgh50T9CmHMWF3zRP6sO6PDMIdE/pmI7Lans0D9zwE55YdXQP/N0eQorn9I/4MQ6wWL/0D8EBdYCpKrQP8/2eVbeCNA/6tOOmP6i0D/hDFFPP2TRPyG0bt+3sc8/EFSW451Szz8Yx5pxM1zPP1inIbWIgs4/tU4h7Gghzz8o0gGoPvfNP3tfS0/uPs0/QZy7v27dyz8XUbrQE+PMP0PnVhjypcw//pZS5ICDzD8A42BfUx/MP6chlnOz5ss/9nNQXEEcyz9N5EuWh9/KPxS82bhgT8o/I9EMv2tyyT/JL4opzN3IP/M735oVbsg/jUCivv7Nxj8D2qkGKlrHP+dMgzKoRck/vaxhJj7jxT8AOsDV1r7FPwCoAdjSc8U/ajDOXf/+xD/Taa8dvEjEPzVcOu7kfsI/tEcTUWSowj+chRheW/TBP+xaaco/3MA/JQ1sfUFZwD+c97seYQjAP7VpybnRwLw/CvTUKer5vz/HVRtkiZi8P4i8xa67Frw/YGLUS7obuz9G9WHEuWK5PxJ37cZsv7g/eX6M1oB3tz/5qp3PPWq3PxOEXmBqNbY/kk/M3GWftT8PpwFSE0C1P/nChH4ftrM/sJlpbJZ9sz/8rWCUs0mzP1XzIXrYU7I/cYG8k12jsT+3OmbvEyGvP65A39iGLq4/tVUpZt+frT+X51h3RgmqP0o1Ydj/8ac/S1FO/bZepT98cTWCEfGjPxN2cfGG76M/4/jC+FQ0oT8FW7147FmgP/gKELZ1uZ4/FsocO7hQmz9VLHm3YI6aP0AhPNU3hpY/mIFZP0PulT/ZGiyhrOuUP94VCaWbyZM/HTj8Bv9okT/lZj4WNNeMP58I1wZCEoc/dJTbuzmzej9gWxMtKIV2P7BYxpWUWW4/CtNe0vi1WD8rqvTYBxZOP1B+JYPlXCI/\",\"dtype\":\"float64\",\"shape\":[171]}}},\"id\":\"3fecfd4b-8289-4a9d-96b8-f0b99a3e0cb3\",\"type\":\"ColumnDataSource\"},{\"attributes\":{\"dimensions\":\"width\"},\"id\":\"cb6824a7-d28d-4165-a5fd-53ec6f271526\",\"type\":\"PanTool\"},{\"attributes\":{\"background_fill_color\":{\"value\":\"#EEEEEE\"},\"below\":[{\"id\":\"f92b9d58-57f3-43e2-a74a-79d4a6cdffb4\",\"type\":\"LinearAxis\"}],\"left\":[{\"id\":\"80e961a3-7897-4c67-ba43-45d6b14d21c4\",\"type\":\"LinearAxis\"}],\"plot_height\":400,\"renderers\":[{\"id\":\"f92b9d58-57f3-43e2-a74a-79d4a6cdffb4\",\"type\":\"LinearAxis\"},{\"id\":\"e686f5ba-2bee-4aa2-8dac-ec824cb89279\",\"type\":\"Grid\"},{\"id\":\"80e961a3-7897-4c67-ba43-45d6b14d21c4\",\"type\":\"LinearAxis\"},{\"id\":\"d29db782-120e-466d-b053-d36953ff699f\",\"type\":\"Grid\"},{\"id\":\"59bdf40d-e354-4866-a8ef-dc724a1b9ce6\",\"type\":\"GlyphRenderer\"}],\"title\":null,\"toolbar\":{\"id\":\"7ced7693-0e27-4371-a208-028ffdb2dba8\",\"type\":\"Toolbar\"},\"x_range\":{\"id\":\"430b0d5f-76dd-44de-a61f-4d2a9d2ceb48\",\"type\":\"DataRange1d\"},\"x_scale\":{\"id\":\"5a78bb1f-f49d-4662-94cf-95aad2cd5cb3\",\"type\":\"LinearScale\"},\"y_range\":{\"id\":\"44b449bc-b785-4126-bf9e-3cd82a257b45\",\"type\":\"DataRange1d\"},\"y_scale\":{\"id\":\"966ce285-4bc7-488e-a345-e2a07f8fb61b\",\"type\":\"LinearScale\"}},\"id\":\"5c0fdab2-159b-43c5-b03f-2296b8eb66a0\",\"subtype\":\"Figure\",\"type\":\"Plot\"},{\"attributes\":{},\"id\":\"696a806a-32be-4111-87cd-cef0d3fd4e87\",\"type\":\"ResetTool\"}],\"root_ids\":[\"5c0fdab2-159b-43c5-b03f-2296b8eb66a0\"]},\"title\":\"Bokeh Application\",\"version\":\"0.12.13\"}};\n",
       "  var render_items = [{\"docid\":\"e2da0a04-21ea-4c8f-9426-78ba826fa84f\",\"elementid\":\"ee9d6a22-3267-46d8-ba4e-e58c817817af\",\"modelid\":\"5c0fdab2-159b-43c5-b03f-2296b8eb66a0\",\"notebook_comms_target\":\"46af7d04-6273-45a4-a5ab-80fe104ff048\"}];\n",
       "  root.Bokeh.embed.embed_items_notebook(docs_json, render_items);\n",
       "\n",
       "  }\n",
       "  if (root.Bokeh !== undefined) {\n",
       "    embed_document(root);\n",
       "  } else {\n",
       "    var attempts = 0;\n",
       "    var timer = setInterval(function(root) {\n",
       "      if (root.Bokeh !== undefined) {\n",
       "        embed_document(root);\n",
       "        clearInterval(timer);\n",
       "      }\n",
       "      attempts++;\n",
       "      if (attempts > 100) {\n",
       "        console.log(\"Bokeh: ERROR: Unable to run BokehJS code because BokehJS library is missing\")\n",
       "        clearInterval(timer);\n",
       "      }\n",
       "    }, 10, root)\n",
       "  }\n",
       "})(window);"
      ],
      "application/vnd.bokehjs_exec.v0+json": ""
     },
     "metadata": {
      "application/vnd.bokehjs_exec.v0+json": {
       "id": "5c0fdab2-159b-43c5-b03f-2296b8eb66a0"
      }
     },
     "output_type": "display_data"
    },
    {
     "data": {
      "application/vnd.jupyter.widget-view+json": {
       "model_id": "257869d1b79643ee8751ff12519d7012",
       "version_major": 2,
       "version_minor": 0
      },
      "text/plain": [
       "interactive(children=(FloatSlider(value=3.5, description='confidence', max=10.0, min=1.0, step=0.01), Output()…"
      ]
     },
     "metadata": {},
     "output_type": "display_data"
    }
   ],
   "source": [
    "t = hl.utils.range_table(1000000, n_partitions=8)\n",
    "t = t.annotate(k = hl.rand_gamma(9,.5))\n",
    "cdf = t.aggregate(hl.agg.approx_cdf(t.k, k=1000))\n",
    "p, i = hl.plot.pdf(cdf, interactive=True)\n",
    "hl.plot.show(p, interact=i)"
   ]
  },
  {
   "cell_type": "code",
   "execution_count": 8,
   "metadata": {},
   "outputs": [
    {
     "data": {
      "text/html": [
       "\n",
       "<div class=\"bk-root\">\n",
       "    <div class=\"bk-plotdiv\" id=\"18900d48-db3b-40e8-9b09-39d63e970834\"></div>\n",
       "</div>"
      ]
     },
     "metadata": {},
     "output_type": "display_data"
    },
    {
     "data": {
      "application/javascript": [
       "(function(root) {\n",
       "  function embed_document(root) {\n",
       "    \n",
       "  var docs_json = {\"11dc14aa-b465-4672-abe2-5892299b4b34\":{\"roots\":{\"references\":[{\"attributes\":{\"plot\":{\"id\":\"b20c204a-e3b4-4c5f-86a5-5864186505ce\",\"subtype\":\"Figure\",\"type\":\"Plot\"},\"ticker\":{\"id\":\"b18a93a0-872d-4bb3-8553-241d8b8e6eaa\",\"type\":\"BasicTicker\"}},\"id\":\"c6175b85-8b25-4145-aa84-6b8e86a25b98\",\"type\":\"Grid\"},{\"attributes\":{\"callback\":null},\"id\":\"5e4b2661-887d-49d4-b515-142f9701b4f0\",\"type\":\"DataRange1d\"},{\"attributes\":{},\"id\":\"4cfb9246-6f42-4647-bd9a-011fab307553\",\"type\":\"LinearScale\"},{\"attributes\":{\"source\":{\"id\":\"b5cab73d-e09a-45ec-9c56-8b1824e8b1f4\",\"type\":\"ColumnDataSource\"}},\"id\":\"87789eec-3e16-4389-92bf-e862716e7928\",\"type\":\"CDSView\"},{\"attributes\":{\"dimension\":1,\"plot\":{\"id\":\"b20c204a-e3b4-4c5f-86a5-5864186505ce\",\"subtype\":\"Figure\",\"type\":\"Plot\"},\"ticker\":{\"id\":\"8669523b-cc7e-489d-8f51-9f4fd6a28d9a\",\"type\":\"BasicTicker\"}},\"id\":\"0ed857a0-2411-4054-9828-8f0b3aecbd0b\",\"type\":\"Grid\"},{\"attributes\":{},\"id\":\"b18a93a0-872d-4bb3-8553-241d8b8e6eaa\",\"type\":\"BasicTicker\"},{\"attributes\":{},\"id\":\"7c33f074-64a9-4ad8-aa68-b82dd74d466c\",\"type\":\"LinearScale\"},{\"attributes\":{\"background_fill_color\":{\"value\":\"#EEEEEE\"},\"below\":[{\"id\":\"bbe782bc-9e38-4d41-9f01-4f49e9090af9\",\"type\":\"LinearAxis\"}],\"left\":[{\"id\":\"6df01ccf-1e09-4851-b67e-ed907022a0dd\",\"type\":\"LinearAxis\"}],\"plot_height\":400,\"renderers\":[{\"id\":\"bbe782bc-9e38-4d41-9f01-4f49e9090af9\",\"type\":\"LinearAxis\"},{\"id\":\"c6175b85-8b25-4145-aa84-6b8e86a25b98\",\"type\":\"Grid\"},{\"id\":\"6df01ccf-1e09-4851-b67e-ed907022a0dd\",\"type\":\"LinearAxis\"},{\"id\":\"0ed857a0-2411-4054-9828-8f0b3aecbd0b\",\"type\":\"Grid\"},{\"id\":\"ddf6e176-f0d7-4e5b-8f7f-d4723e3d0df1\",\"type\":\"GlyphRenderer\"}],\"title\":null,\"toolbar\":{\"id\":\"e6eafb5d-8077-472e-b035-3cadca302d77\",\"type\":\"Toolbar\"},\"x_range\":{\"id\":\"06342c48-f996-4573-b44f-01073375cacc\",\"type\":\"DataRange1d\"},\"x_scale\":{\"id\":\"7c33f074-64a9-4ad8-aa68-b82dd74d466c\",\"type\":\"LinearScale\"},\"y_range\":{\"id\":\"5e4b2661-887d-49d4-b515-142f9701b4f0\",\"type\":\"DataRange1d\"},\"y_scale\":{\"id\":\"4cfb9246-6f42-4647-bd9a-011fab307553\",\"type\":\"LinearScale\"}},\"id\":\"b20c204a-e3b4-4c5f-86a5-5864186505ce\",\"subtype\":\"Figure\",\"type\":\"Plot\"},{\"attributes\":{},\"id\":\"a4be4c9e-d1e6-477c-8883-4679c98f0608\",\"type\":\"BasicTickFormatter\"},{\"attributes\":{\"active_drag\":\"auto\",\"active_inspect\":\"auto\",\"active_scroll\":{\"id\":\"2d1b7009-3c84-422c-b11a-3932f983522d\",\"type\":\"WheelZoomTool\"},\"active_tap\":\"auto\",\"tools\":[{\"id\":\"18d79ee7-2544-4cb4-ab5d-5d9b55e1311b\",\"type\":\"PanTool\"},{\"id\":\"2d1b7009-3c84-422c-b11a-3932f983522d\",\"type\":\"WheelZoomTool\"},{\"id\":\"4af75108-5517-4882-b3f4-7272605381da\",\"type\":\"ResetTool\"},{\"id\":\"fdd69aeb-0572-4722-ab7d-bbf5b268b6d4\",\"type\":\"SaveTool\"}]},\"id\":\"e6eafb5d-8077-472e-b035-3cadca302d77\",\"type\":\"Toolbar\"},{\"attributes\":{},\"id\":\"4af75108-5517-4882-b3f4-7272605381da\",\"type\":\"ResetTool\"},{\"attributes\":{\"axis_label\":\"Frequency\",\"formatter\":{\"id\":\"a4be4c9e-d1e6-477c-8883-4679c98f0608\",\"type\":\"BasicTickFormatter\"},\"plot\":{\"id\":\"b20c204a-e3b4-4c5f-86a5-5864186505ce\",\"subtype\":\"Figure\",\"type\":\"Plot\"},\"ticker\":{\"id\":\"8669523b-cc7e-489d-8f51-9f4fd6a28d9a\",\"type\":\"BasicTicker\"}},\"id\":\"6df01ccf-1e09-4851-b67e-ed907022a0dd\",\"type\":\"LinearAxis\"},{\"attributes\":{},\"id\":\"fdd69aeb-0572-4722-ab7d-bbf5b268b6d4\",\"type\":\"SaveTool\"},{\"attributes\":{\"dimensions\":\"width\"},\"id\":\"18d79ee7-2544-4cb4-ab5d-5d9b55e1311b\",\"type\":\"PanTool\"},{\"attributes\":{\"data_source\":{\"id\":\"b5cab73d-e09a-45ec-9c56-8b1824e8b1f4\",\"type\":\"ColumnDataSource\"},\"glyph\":{\"id\":\"960a5887-b1b5-4e42-82a1-14f545ff97d7\",\"type\":\"Quad\"},\"hover_glyph\":null,\"muted_glyph\":null,\"nonselection_glyph\":{\"id\":\"e964b992-4adf-4566-b87e-90ee6a555975\",\"type\":\"Quad\"},\"selection_glyph\":null,\"view\":{\"id\":\"87789eec-3e16-4389-92bf-e862716e7928\",\"type\":\"CDSView\"}},\"id\":\"ddf6e176-f0d7-4e5b-8f7f-d4723e3d0df1\",\"type\":\"GlyphRenderer\"},{\"attributes\":{\"dimensions\":\"width\"},\"id\":\"2d1b7009-3c84-422c-b11a-3932f983522d\",\"type\":\"WheelZoomTool\"},{\"attributes\":{\"formatter\":{\"id\":\"449e15a9-71dc-4ac7-ba38-2a46249bf8ba\",\"type\":\"BasicTickFormatter\"},\"plot\":{\"id\":\"b20c204a-e3b4-4c5f-86a5-5864186505ce\",\"subtype\":\"Figure\",\"type\":\"Plot\"},\"ticker\":{\"id\":\"b18a93a0-872d-4bb3-8553-241d8b8e6eaa\",\"type\":\"BasicTicker\"}},\"id\":\"bbe782bc-9e38-4d41-9f01-4f49e9090af9\",\"type\":\"LinearAxis\"},{\"attributes\":{\"callback\":null},\"id\":\"06342c48-f996-4573-b44f-01073375cacc\",\"type\":\"DataRange1d\"},{\"attributes\":{},\"id\":\"8669523b-cc7e-489d-8f51-9f4fd6a28d9a\",\"type\":\"BasicTicker\"},{\"attributes\":{},\"id\":\"449e15a9-71dc-4ac7-ba38-2a46249bf8ba\",\"type\":\"BasicTickFormatter\"},{\"attributes\":{\"callback\":null,\"column_names\":[\"left\",\"right\",\"top\"],\"data\":{\"left\":[9.480311997656088e-07,0.06461403090043283,0.07592061723774479,0.09496283240268977,0.23669296192543654,0.2825407246828847,0.48219169550473173,0.5464952247313802,0.5758815230473516,0.5951086827432319,0.6897505828898631,0.6991723732437906,0.7350294143191238,0.7700860420468171,0.9118137104028876,0.9792476580652197,0.9960085729052863,2.0053684466333586,2.0117159088139145,2.0131279717754196,2.034221592653074,2.0435815783432423,2.090107345064706,2.101469893137497,2.2715591681592207,2.300508393645466,2.3278363523357637,2.4972066751995765,2.5526490048922112,2.6542181251121013,2.9098067587194474,2.946534759422292,2.9753467639808644],\"right\":[0.06461403090043283,0.07592061723774479,0.09496283240268977,0.23669296192543654,0.2825407246828847,0.48219169550473173,0.5464952247313802,0.5758815230473516,0.5951086827432319,0.6897505828898631,0.6991723732437906,0.7350294143191238,0.7700860420468171,0.9118137104028876,0.9792476580652197,0.9960085729052863,2.0053684466333586,2.0117159088139145,2.0131279717754196,2.034221592653074,2.0435815783432423,2.090107345064706,2.101469893137497,2.2715591681592207,2.300508393645466,2.3278363523357637,2.4972066751995765,2.5526490048922112,2.6542181251121013,2.9098067587194474,2.946534759422292,2.9753467639808644,2.9999984226021827],\"top\":{\"__ndarray__\":\"sJgEUFmu3j912OoPJeHfPw5SvAX4kOA/ae2uBdXn3z9mseLECkTfPzy0W7ws198/RBJ0dkcN4D9iC/OCbk/gPxUG8RPAMOA/NVIL8KYS3z9ASiuj+5HjP75VYOT4XOE/b5Qwqq+b3j9MpBumGRngP/zLMJw5dt8/TtgBODPS4j+em8cqP6N+P935dHRGprQ/pfP/9Kw01z8j++GYUvbbP200qkf7gd8/dUIhCYOx3z+EF0k9QzrgP1C9Of3t+t8/5bTTiGMk3T+MLtgC+C/gPy5PXj6pRuA/BwzSb1SV3j/g9IJh4qfgP196rCOQgd8/+B7nf8eC4T97pR4nxSTcP/y5DLOvBuM/\",\"dtype\":\"float64\",\"shape\":[33]}}},\"id\":\"b5cab73d-e09a-45ec-9c56-8b1824e8b1f4\",\"type\":\"ColumnDataSource\"},{\"attributes\":{\"bottom\":{\"value\":0},\"fill_alpha\":{\"value\":0.1},\"fill_color\":{\"value\":\"#1f77b4\"},\"left\":{\"field\":\"left\"},\"line_alpha\":{\"value\":0.1},\"line_color\":{\"value\":\"#1f77b4\"},\"right\":{\"field\":\"right\"},\"top\":{\"field\":\"top\"}},\"id\":\"e964b992-4adf-4566-b87e-90ee6a555975\",\"type\":\"Quad\"},{\"attributes\":{\"bottom\":{\"value\":0},\"fill_color\":{\"value\":\"#1f77b4\"},\"left\":{\"field\":\"left\"},\"line_color\":{\"value\":\"#1f77b4\"},\"right\":{\"field\":\"right\"},\"top\":{\"field\":\"top\"}},\"id\":\"960a5887-b1b5-4e42-82a1-14f545ff97d7\",\"type\":\"Quad\"}],\"root_ids\":[\"b20c204a-e3b4-4c5f-86a5-5864186505ce\"]},\"title\":\"Bokeh Application\",\"version\":\"0.12.13\"}};\n",
       "  var render_items = [{\"docid\":\"11dc14aa-b465-4672-abe2-5892299b4b34\",\"elementid\":\"18900d48-db3b-40e8-9b09-39d63e970834\",\"modelid\":\"b20c204a-e3b4-4c5f-86a5-5864186505ce\",\"notebook_comms_target\":\"fd459244-04db-43d7-8dc1-36d5a126b92e\"}];\n",
       "  root.Bokeh.embed.embed_items_notebook(docs_json, render_items);\n",
       "\n",
       "  }\n",
       "  if (root.Bokeh !== undefined) {\n",
       "    embed_document(root);\n",
       "  } else {\n",
       "    var attempts = 0;\n",
       "    var timer = setInterval(function(root) {\n",
       "      if (root.Bokeh !== undefined) {\n",
       "        embed_document(root);\n",
       "        clearInterval(timer);\n",
       "      }\n",
       "      attempts++;\n",
       "      if (attempts > 100) {\n",
       "        console.log(\"Bokeh: ERROR: Unable to run BokehJS code because BokehJS library is missing\")\n",
       "        clearInterval(timer);\n",
       "      }\n",
       "    }, 10, root)\n",
       "  }\n",
       "})(window);"
      ],
      "application/vnd.bokehjs_exec.v0+json": ""
     },
     "metadata": {
      "application/vnd.bokehjs_exec.v0+json": {
       "id": "b20c204a-e3b4-4c5f-86a5-5864186505ce"
      }
     },
     "output_type": "display_data"
    },
    {
     "data": {
      "application/vnd.jupyter.widget-view+json": {
       "model_id": "7dfafa2887c64b99a6df7c75e3d5cd6a",
       "version_major": 2,
       "version_minor": 0
      },
      "text/plain": [
       "interactive(children=(FloatSlider(value=3.5, description='confidence', max=10.0, min=1.0, step=0.01), Output()…"
      ]
     },
     "metadata": {},
     "output_type": "display_data"
    }
   ],
   "source": [
    "t = hl.utils.range_table(1000000, n_partitions=8)\n",
    "t = t.annotate(k = hl.cond(t.idx % 2 == 0, hl.rand_unif(0,1), hl.rand_unif(2,3)))\n",
    "cdf = t.aggregate(hl.agg.approx_cdf(t.k, k=150))\n",
    "p, i = hl.plot.pdf(cdf, interactive=True)\n",
    "hl.plot.show(p, interact=i)"
   ]
  },
  {
   "cell_type": "code",
   "execution_count": null,
   "metadata": {},
   "outputs": [],
   "source": [
    "t = hl.utils.range_table(1000000, n_partitions=8)\n",
    "t = t.annotate(k = hl.rand_gamma(9,.5))\n",
    "cdf = t.aggregate(hl.agg.approx_cdf(t.k, k=150))\n",
    "p = hl.plot.cdf(cdf, confidence=3)\n",
    "hl.plot.show(p)"
   ]
  },
  {
   "cell_type": "code",
   "execution_count": null,
   "metadata": {},
   "outputs": [],
   "source": [
    "compute_errors(cdf)"
   ]
  },
  {
   "cell_type": "code",
   "execution_count": null,
   "metadata": {},
   "outputs": [],
   "source": [
    "cdf._compaction_counts"
   ]
  },
  {
   "cell_type": "code",
   "execution_count": null,
   "metadata": {},
   "outputs": [],
   "source": [
    "delta = .01\n",
    "s = np.sum(np.arange(2*len(cdf._compaction_counts), step=2) * cdf._compaction_counts)\n",
    "eps = (1 / (np.sqrt(2) * cdf.ranks[-1])) * np.sqrt(np.log(2 / delta) * s)\n",
    "eps"
   ]
  },
  {
   "cell_type": "code",
   "execution_count": null,
   "metadata": {},
   "outputs": [],
   "source": []
  }
 ],
 "metadata": {
  "kernelspec": {
   "display_name": "Python 3",
   "language": "python",
   "name": "python3"
  },
  "language_info": {
   "codemirror_mode": {
    "name": "ipython",
    "version": 3
   },
   "file_extension": ".py",
   "mimetype": "text/x-python",
   "name": "python",
   "nbconvert_exporter": "python",
   "pygments_lexer": "ipython3",
   "version": "3.6.7"
  }
 },
 "nbformat": 4,
 "nbformat_minor": 2
}
