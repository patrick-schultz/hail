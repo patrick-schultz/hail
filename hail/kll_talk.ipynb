{
 "cells": [
  {
   "cell_type": "code",
   "execution_count": 34,
   "metadata": {
    "slideshow": {
     "slide_type": "slide"
    }
   },
   "outputs": [
    {
     "data": {
      "text/html": [
       "\n",
       "    <div class=\"bk-root\">\n",
       "        <a href=\"https://bokeh.pydata.org\" target=\"_blank\" class=\"bk-logo bk-logo-small bk-logo-notebook\"></a>\n",
       "        <span id=\"20723fd0-3c9f-454a-bb52-7322a64b8400\">Loading BokehJS ...</span>\n",
       "    </div>"
      ]
     },
     "metadata": {},
     "output_type": "display_data"
    },
    {
     "data": {
      "application/javascript": [
       "\n",
       "(function(root) {\n",
       "  function now() {\n",
       "    return new Date();\n",
       "  }\n",
       "\n",
       "  var force = true;\n",
       "\n",
       "  if (typeof (root._bokeh_onload_callbacks) === \"undefined\" || force === true) {\n",
       "    root._bokeh_onload_callbacks = [];\n",
       "    root._bokeh_is_loading = undefined;\n",
       "  }\n",
       "\n",
       "  var JS_MIME_TYPE = 'application/javascript';\n",
       "  var HTML_MIME_TYPE = 'text/html';\n",
       "  var EXEC_MIME_TYPE = 'application/vnd.bokehjs_exec.v0+json';\n",
       "  var CLASS_NAME = 'output_bokeh rendered_html';\n",
       "\n",
       "  /**\n",
       "   * Render data to the DOM node\n",
       "   */\n",
       "  function render(props, node) {\n",
       "    var script = document.createElement(\"script\");\n",
       "    node.appendChild(script);\n",
       "  }\n",
       "\n",
       "  /**\n",
       "   * Handle when an output is cleared or removed\n",
       "   */\n",
       "  function handleClearOutput(event, handle) {\n",
       "    var cell = handle.cell;\n",
       "\n",
       "    var id = cell.output_area._bokeh_element_id;\n",
       "    var server_id = cell.output_area._bokeh_server_id;\n",
       "    // Clean up Bokeh references\n",
       "    if (id !== undefined) {\n",
       "      Bokeh.index[id].model.document.clear();\n",
       "      delete Bokeh.index[id];\n",
       "    }\n",
       "\n",
       "    if (server_id !== undefined) {\n",
       "      // Clean up Bokeh references\n",
       "      var cmd = \"from bokeh.io.state import curstate; print(curstate().uuid_to_server['\" + server_id + \"'].get_sessions()[0].document.roots[0]._id)\";\n",
       "      cell.notebook.kernel.execute(cmd, {\n",
       "        iopub: {\n",
       "          output: function(msg) {\n",
       "            var element_id = msg.content.text.trim();\n",
       "            Bokeh.index[element_id].model.document.clear();\n",
       "            delete Bokeh.index[element_id];\n",
       "          }\n",
       "        }\n",
       "      });\n",
       "      // Destroy server and session\n",
       "      var cmd = \"import bokeh.io.notebook as ion; ion.destroy_server('\" + server_id + \"')\";\n",
       "      cell.notebook.kernel.execute(cmd);\n",
       "    }\n",
       "  }\n",
       "\n",
       "  /**\n",
       "   * Handle when a new output is added\n",
       "   */\n",
       "  function handleAddOutput(event, handle) {\n",
       "    var output_area = handle.output_area;\n",
       "    var output = handle.output;\n",
       "\n",
       "    // limit handleAddOutput to display_data with EXEC_MIME_TYPE content only\n",
       "    if ((output.output_type != \"display_data\") || (!output.data.hasOwnProperty(EXEC_MIME_TYPE))) {\n",
       "      return\n",
       "    }\n",
       "\n",
       "    var toinsert = output_area.element.find(\".\" + CLASS_NAME.split(' ')[0]);\n",
       "\n",
       "    if (output.metadata[EXEC_MIME_TYPE][\"id\"] !== undefined) {\n",
       "      toinsert[0].firstChild.textContent = output.data[JS_MIME_TYPE];\n",
       "      // store reference to embed id on output_area\n",
       "      output_area._bokeh_element_id = output.metadata[EXEC_MIME_TYPE][\"id\"];\n",
       "    }\n",
       "    if (output.metadata[EXEC_MIME_TYPE][\"server_id\"] !== undefined) {\n",
       "      var bk_div = document.createElement(\"div\");\n",
       "      bk_div.innerHTML = output.data[HTML_MIME_TYPE];\n",
       "      var script_attrs = bk_div.children[0].attributes;\n",
       "      for (var i = 0; i < script_attrs.length; i++) {\n",
       "        toinsert[0].firstChild.setAttribute(script_attrs[i].name, script_attrs[i].value);\n",
       "      }\n",
       "      // store reference to server id on output_area\n",
       "      output_area._bokeh_server_id = output.metadata[EXEC_MIME_TYPE][\"server_id\"];\n",
       "    }\n",
       "  }\n",
       "\n",
       "  function register_renderer(events, OutputArea) {\n",
       "\n",
       "    function append_mime(data, metadata, element) {\n",
       "      // create a DOM node to render to\n",
       "      var toinsert = this.create_output_subarea(\n",
       "        metadata,\n",
       "        CLASS_NAME,\n",
       "        EXEC_MIME_TYPE\n",
       "      );\n",
       "      this.keyboard_manager.register_events(toinsert);\n",
       "      // Render to node\n",
       "      var props = {data: data, metadata: metadata[EXEC_MIME_TYPE]};\n",
       "      render(props, toinsert[0]);\n",
       "      element.append(toinsert);\n",
       "      return toinsert\n",
       "    }\n",
       "\n",
       "    /* Handle when an output is cleared or removed */\n",
       "    events.on('clear_output.CodeCell', handleClearOutput);\n",
       "    events.on('delete.Cell', handleClearOutput);\n",
       "\n",
       "    /* Handle when a new output is added */\n",
       "    events.on('output_added.OutputArea', handleAddOutput);\n",
       "\n",
       "    /**\n",
       "     * Register the mime type and append_mime function with output_area\n",
       "     */\n",
       "    OutputArea.prototype.register_mime_type(EXEC_MIME_TYPE, append_mime, {\n",
       "      /* Is output safe? */\n",
       "      safe: true,\n",
       "      /* Index of renderer in `output_area.display_order` */\n",
       "      index: 0\n",
       "    });\n",
       "  }\n",
       "\n",
       "  // register the mime type if in Jupyter Notebook environment and previously unregistered\n",
       "  if (root.Jupyter !== undefined) {\n",
       "    var events = require('base/js/events');\n",
       "    var OutputArea = require('notebook/js/outputarea').OutputArea;\n",
       "\n",
       "    if (OutputArea.prototype.mime_types().indexOf(EXEC_MIME_TYPE) == -1) {\n",
       "      register_renderer(events, OutputArea);\n",
       "    }\n",
       "  }\n",
       "\n",
       "  \n",
       "  if (typeof (root._bokeh_timeout) === \"undefined\" || force === true) {\n",
       "    root._bokeh_timeout = Date.now() + 5000;\n",
       "    root._bokeh_failed_load = false;\n",
       "  }\n",
       "\n",
       "  var NB_LOAD_WARNING = {'data': {'text/html':\n",
       "     \"<div style='background-color: #fdd'>\\n\"+\n",
       "     \"<p>\\n\"+\n",
       "     \"BokehJS does not appear to have successfully loaded. If loading BokehJS from CDN, this \\n\"+\n",
       "     \"may be due to a slow or bad network connection. Possible fixes:\\n\"+\n",
       "     \"</p>\\n\"+\n",
       "     \"<ul>\\n\"+\n",
       "     \"<li>re-rerun `output_notebook()` to attempt to load from CDN again, or</li>\\n\"+\n",
       "     \"<li>use INLINE resources instead, as so:</li>\\n\"+\n",
       "     \"</ul>\\n\"+\n",
       "     \"<code>\\n\"+\n",
       "     \"from bokeh.resources import INLINE\\n\"+\n",
       "     \"output_notebook(resources=INLINE)\\n\"+\n",
       "     \"</code>\\n\"+\n",
       "     \"</div>\"}};\n",
       "\n",
       "  function display_loaded() {\n",
       "    var el = document.getElementById(\"20723fd0-3c9f-454a-bb52-7322a64b8400\");\n",
       "    if (el != null) {\n",
       "      el.textContent = \"BokehJS is loading...\";\n",
       "    }\n",
       "    if (root.Bokeh !== undefined) {\n",
       "      if (el != null) {\n",
       "        el.textContent = \"BokehJS \" + root.Bokeh.version + \" successfully loaded.\";\n",
       "      }\n",
       "    } else if (Date.now() < root._bokeh_timeout) {\n",
       "      setTimeout(display_loaded, 100)\n",
       "    }\n",
       "  }\n",
       "\n",
       "\n",
       "  function run_callbacks() {\n",
       "    try {\n",
       "      root._bokeh_onload_callbacks.forEach(function(callback) { callback() });\n",
       "    }\n",
       "    finally {\n",
       "      delete root._bokeh_onload_callbacks\n",
       "    }\n",
       "    console.info(\"Bokeh: all callbacks have finished\");\n",
       "  }\n",
       "\n",
       "  function load_libs(js_urls, callback) {\n",
       "    root._bokeh_onload_callbacks.push(callback);\n",
       "    if (root._bokeh_is_loading > 0) {\n",
       "      console.log(\"Bokeh: BokehJS is being loaded, scheduling callback at\", now());\n",
       "      return null;\n",
       "    }\n",
       "    if (js_urls == null || js_urls.length === 0) {\n",
       "      run_callbacks();\n",
       "      return null;\n",
       "    }\n",
       "    console.log(\"Bokeh: BokehJS not loaded, scheduling load and callback at\", now());\n",
       "    root._bokeh_is_loading = js_urls.length;\n",
       "    for (var i = 0; i < js_urls.length; i++) {\n",
       "      var url = js_urls[i];\n",
       "      var s = document.createElement('script');\n",
       "      s.src = url;\n",
       "      s.async = false;\n",
       "      s.onreadystatechange = s.onload = function() {\n",
       "        root._bokeh_is_loading--;\n",
       "        if (root._bokeh_is_loading === 0) {\n",
       "          console.log(\"Bokeh: all BokehJS libraries loaded\");\n",
       "          run_callbacks()\n",
       "        }\n",
       "      };\n",
       "      s.onerror = function() {\n",
       "        console.warn(\"failed to load library \" + url);\n",
       "      };\n",
       "      console.log(\"Bokeh: injecting script tag for BokehJS library: \", url);\n",
       "      document.getElementsByTagName(\"head\")[0].appendChild(s);\n",
       "    }\n",
       "  };var element = document.getElementById(\"20723fd0-3c9f-454a-bb52-7322a64b8400\");\n",
       "  if (element == null) {\n",
       "    console.log(\"Bokeh: ERROR: autoload.js configured with elementid '20723fd0-3c9f-454a-bb52-7322a64b8400' but no matching script tag was found. \")\n",
       "    return false;\n",
       "  }\n",
       "\n",
       "  var js_urls = [\"https://cdn.pydata.org/bokeh/release/bokeh-0.12.13.min.js\", \"https://cdn.pydata.org/bokeh/release/bokeh-widgets-0.12.13.min.js\", \"https://cdn.pydata.org/bokeh/release/bokeh-tables-0.12.13.min.js\", \"https://cdn.pydata.org/bokeh/release/bokeh-gl-0.12.13.min.js\"];\n",
       "\n",
       "  var inline_js = [\n",
       "    function(Bokeh) {\n",
       "      Bokeh.set_log_level(\"info\");\n",
       "    },\n",
       "    \n",
       "    function(Bokeh) {\n",
       "      \n",
       "    },\n",
       "    function(Bokeh) {\n",
       "      console.log(\"Bokeh: injecting CSS: https://cdn.pydata.org/bokeh/release/bokeh-0.12.13.min.css\");\n",
       "      Bokeh.embed.inject_css(\"https://cdn.pydata.org/bokeh/release/bokeh-0.12.13.min.css\");\n",
       "      console.log(\"Bokeh: injecting CSS: https://cdn.pydata.org/bokeh/release/bokeh-widgets-0.12.13.min.css\");\n",
       "      Bokeh.embed.inject_css(\"https://cdn.pydata.org/bokeh/release/bokeh-widgets-0.12.13.min.css\");\n",
       "      console.log(\"Bokeh: injecting CSS: https://cdn.pydata.org/bokeh/release/bokeh-tables-0.12.13.min.css\");\n",
       "      Bokeh.embed.inject_css(\"https://cdn.pydata.org/bokeh/release/bokeh-tables-0.12.13.min.css\");\n",
       "    }\n",
       "  ];\n",
       "\n",
       "  function run_inline_js() {\n",
       "    \n",
       "    if ((root.Bokeh !== undefined) || (force === true)) {\n",
       "      for (var i = 0; i < inline_js.length; i++) {\n",
       "        inline_js[i].call(root, root.Bokeh);\n",
       "      }if (force === true) {\n",
       "        display_loaded();\n",
       "      }} else if (Date.now() < root._bokeh_timeout) {\n",
       "      setTimeout(run_inline_js, 100);\n",
       "    } else if (!root._bokeh_failed_load) {\n",
       "      console.log(\"Bokeh: BokehJS failed to load within specified timeout.\");\n",
       "      root._bokeh_failed_load = true;\n",
       "    } else if (force !== true) {\n",
       "      var cell = $(document.getElementById(\"20723fd0-3c9f-454a-bb52-7322a64b8400\")).parents('.cell').data().cell;\n",
       "      cell.output_area.append_execute_result(NB_LOAD_WARNING)\n",
       "    }\n",
       "\n",
       "  }\n",
       "\n",
       "  if (root._bokeh_is_loading === 0) {\n",
       "    console.log(\"Bokeh: BokehJS loaded, going straight to plotting\");\n",
       "    run_inline_js();\n",
       "  } else {\n",
       "    load_libs(js_urls, function() {\n",
       "      console.log(\"Bokeh: BokehJS plotting callback run at\", now());\n",
       "      run_inline_js();\n",
       "    });\n",
       "  }\n",
       "}(window));"
      ],
      "application/vnd.bokehjs_load.v0+json": "\n(function(root) {\n  function now() {\n    return new Date();\n  }\n\n  var force = true;\n\n  if (typeof (root._bokeh_onload_callbacks) === \"undefined\" || force === true) {\n    root._bokeh_onload_callbacks = [];\n    root._bokeh_is_loading = undefined;\n  }\n\n  \n\n  \n  if (typeof (root._bokeh_timeout) === \"undefined\" || force === true) {\n    root._bokeh_timeout = Date.now() + 5000;\n    root._bokeh_failed_load = false;\n  }\n\n  var NB_LOAD_WARNING = {'data': {'text/html':\n     \"<div style='background-color: #fdd'>\\n\"+\n     \"<p>\\n\"+\n     \"BokehJS does not appear to have successfully loaded. If loading BokehJS from CDN, this \\n\"+\n     \"may be due to a slow or bad network connection. Possible fixes:\\n\"+\n     \"</p>\\n\"+\n     \"<ul>\\n\"+\n     \"<li>re-rerun `output_notebook()` to attempt to load from CDN again, or</li>\\n\"+\n     \"<li>use INLINE resources instead, as so:</li>\\n\"+\n     \"</ul>\\n\"+\n     \"<code>\\n\"+\n     \"from bokeh.resources import INLINE\\n\"+\n     \"output_notebook(resources=INLINE)\\n\"+\n     \"</code>\\n\"+\n     \"</div>\"}};\n\n  function display_loaded() {\n    var el = document.getElementById(\"20723fd0-3c9f-454a-bb52-7322a64b8400\");\n    if (el != null) {\n      el.textContent = \"BokehJS is loading...\";\n    }\n    if (root.Bokeh !== undefined) {\n      if (el != null) {\n        el.textContent = \"BokehJS \" + root.Bokeh.version + \" successfully loaded.\";\n      }\n    } else if (Date.now() < root._bokeh_timeout) {\n      setTimeout(display_loaded, 100)\n    }\n  }\n\n\n  function run_callbacks() {\n    try {\n      root._bokeh_onload_callbacks.forEach(function(callback) { callback() });\n    }\n    finally {\n      delete root._bokeh_onload_callbacks\n    }\n    console.info(\"Bokeh: all callbacks have finished\");\n  }\n\n  function load_libs(js_urls, callback) {\n    root._bokeh_onload_callbacks.push(callback);\n    if (root._bokeh_is_loading > 0) {\n      console.log(\"Bokeh: BokehJS is being loaded, scheduling callback at\", now());\n      return null;\n    }\n    if (js_urls == null || js_urls.length === 0) {\n      run_callbacks();\n      return null;\n    }\n    console.log(\"Bokeh: BokehJS not loaded, scheduling load and callback at\", now());\n    root._bokeh_is_loading = js_urls.length;\n    for (var i = 0; i < js_urls.length; i++) {\n      var url = js_urls[i];\n      var s = document.createElement('script');\n      s.src = url;\n      s.async = false;\n      s.onreadystatechange = s.onload = function() {\n        root._bokeh_is_loading--;\n        if (root._bokeh_is_loading === 0) {\n          console.log(\"Bokeh: all BokehJS libraries loaded\");\n          run_callbacks()\n        }\n      };\n      s.onerror = function() {\n        console.warn(\"failed to load library \" + url);\n      };\n      console.log(\"Bokeh: injecting script tag for BokehJS library: \", url);\n      document.getElementsByTagName(\"head\")[0].appendChild(s);\n    }\n  };var element = document.getElementById(\"20723fd0-3c9f-454a-bb52-7322a64b8400\");\n  if (element == null) {\n    console.log(\"Bokeh: ERROR: autoload.js configured with elementid '20723fd0-3c9f-454a-bb52-7322a64b8400' but no matching script tag was found. \")\n    return false;\n  }\n\n  var js_urls = [\"https://cdn.pydata.org/bokeh/release/bokeh-0.12.13.min.js\", \"https://cdn.pydata.org/bokeh/release/bokeh-widgets-0.12.13.min.js\", \"https://cdn.pydata.org/bokeh/release/bokeh-tables-0.12.13.min.js\", \"https://cdn.pydata.org/bokeh/release/bokeh-gl-0.12.13.min.js\"];\n\n  var inline_js = [\n    function(Bokeh) {\n      Bokeh.set_log_level(\"info\");\n    },\n    \n    function(Bokeh) {\n      \n    },\n    function(Bokeh) {\n      console.log(\"Bokeh: injecting CSS: https://cdn.pydata.org/bokeh/release/bokeh-0.12.13.min.css\");\n      Bokeh.embed.inject_css(\"https://cdn.pydata.org/bokeh/release/bokeh-0.12.13.min.css\");\n      console.log(\"Bokeh: injecting CSS: https://cdn.pydata.org/bokeh/release/bokeh-widgets-0.12.13.min.css\");\n      Bokeh.embed.inject_css(\"https://cdn.pydata.org/bokeh/release/bokeh-widgets-0.12.13.min.css\");\n      console.log(\"Bokeh: injecting CSS: https://cdn.pydata.org/bokeh/release/bokeh-tables-0.12.13.min.css\");\n      Bokeh.embed.inject_css(\"https://cdn.pydata.org/bokeh/release/bokeh-tables-0.12.13.min.css\");\n    }\n  ];\n\n  function run_inline_js() {\n    \n    if ((root.Bokeh !== undefined) || (force === true)) {\n      for (var i = 0; i < inline_js.length; i++) {\n        inline_js[i].call(root, root.Bokeh);\n      }if (force === true) {\n        display_loaded();\n      }} else if (Date.now() < root._bokeh_timeout) {\n      setTimeout(run_inline_js, 100);\n    } else if (!root._bokeh_failed_load) {\n      console.log(\"Bokeh: BokehJS failed to load within specified timeout.\");\n      root._bokeh_failed_load = true;\n    } else if (force !== true) {\n      var cell = $(document.getElementById(\"20723fd0-3c9f-454a-bb52-7322a64b8400\")).parents('.cell').data().cell;\n      cell.output_area.append_execute_result(NB_LOAD_WARNING)\n    }\n\n  }\n\n  if (root._bokeh_is_loading === 0) {\n    console.log(\"Bokeh: BokehJS loaded, going straight to plotting\");\n    run_inline_js();\n  } else {\n    load_libs(js_urls, function() {\n      console.log(\"Bokeh: BokehJS plotting callback run at\", now());\n      run_inline_js();\n    });\n  }\n}(window));"
     },
     "metadata": {},
     "output_type": "display_data"
    }
   ],
   "source": [
    "import numpy as np\n",
    "from scipy.stats import gaussian_kde, gamma, beta, gmean, norm, binom\n",
    "import pprint\n",
    "from bokeh.plotting import figure, show\n",
    "from bokeh.io import push_notebook\n",
    "from bokeh.models import ColumnDataSource, HoverTool\n",
    "from ipywidgets import interact\n",
    "import hail as hl\n",
    "hl.plot.output_notebook()"
   ]
  },
  {
   "cell_type": "code",
   "execution_count": null,
   "metadata": {},
   "outputs": [],
   "source": [
    "import plotly.plotly as py\n",
    "from plotly.offline import iplot, init_notebook_mode\n",
    "import plotly.graph_objs as go\n",
    "init_notebook_mode(connected=True)"
   ]
  },
  {
   "cell_type": "code",
   "execution_count": null,
   "metadata": {},
   "outputs": [],
   "source": [
    "mt = hl.utils.range_matrix_table(100000, 100, n_partitions=1)\n",
    "mt = mt.annotate_entries(k = mt.col_idx).cache()"
   ]
  },
  {
   "cell_type": "code",
   "execution_count": null,
   "metadata": {},
   "outputs": [],
   "source": [
    "mt2 = mt.annotate_rows(med = hl.agg.approx_quantiles(mt.k, 0.5))\n",
    "%timeit mt2.aggregate_rows(hl.agg.mean(mt2.med))"
   ]
  },
  {
   "cell_type": "code",
   "execution_count": null,
   "metadata": {},
   "outputs": [],
   "source": [
    "t = hl.utils.range_table(100000, n_partitions=1)\n",
    "t = t.annotate(array = hl.range(0, 100)).cache()"
   ]
  },
  {
   "cell_type": "code",
   "execution_count": null,
   "metadata": {},
   "outputs": [],
   "source": [
    "t2 = t.annotate(med = hl.median(t.array))\n",
    "%timeit t2.aggregate(hl.agg.mean(t2.med))"
   ]
  },
  {
   "cell_type": "code",
   "execution_count": null,
   "metadata": {},
   "outputs": [],
   "source": [
    "t = hl.utils.range_table(10000000, n_partitions=8)\n",
    "t = t.annotate(k = hl.rand_gamma(9,.5))\n",
    "data = t.aggregate(hl.agg.approx_cdf(t.k, k=50))\n",
    "\n",
    "p = [go.Scatter(x = [*data.values, data.values[-1]], y = data.ranks, mode = 'lines', line=dict(shape='hv'))]\n",
    "iplot(p)"
   ]
  },
  {
   "cell_type": "markdown",
   "metadata": {},
   "source": [
    "New `hl.plot.cdf` and `hl.plot.pdf` aim to be easy to use black boxes."
   ]
  },
  {
   "cell_type": "code",
   "execution_count": null,
   "metadata": {
    "slideshow": {
     "slide_type": "slide"
    }
   },
   "outputs": [],
   "source": [
    "t = hl.utils.range_table(10000000, n_partitions=8)\n",
    "t = t.annotate(k = hl.rand_gamma(9,.5))\n",
    "\n",
    "hl.plot.show(hl.plot.cdf(t.k))"
   ]
  },
  {
   "cell_type": "code",
   "execution_count": null,
   "metadata": {},
   "outputs": [],
   "source": [
    "p = hl.plot.cdf(t.k, k=50)\n",
    "x_d = np.linspace(0, 15, 1000)\n",
    "p.line(x=x_d, y=gamma.cdf(x_d, 9, scale=.5), color='green', line_width=2)\n",
    "hl.plot.show(p)"
   ]
  },
  {
   "cell_type": "code",
   "execution_count": null,
   "metadata": {},
   "outputs": [],
   "source": [
    "(p, i) = hl.plot.pdf(t.k, interactive=True)\n",
    "hl.plot.show(p, interact=i)"
   ]
  },
  {
   "cell_type": "markdown",
   "metadata": {},
   "source": [
    "Rather than passing a Hail expression like `t.k` to the plotting functions, you can also perform the `hl.agg.approx_cdf` aggregation yourself, and pass the result to `hl.plot.{cdf, pdf, histogram}`."
   ]
  },
  {
   "cell_type": "code",
   "execution_count": null,
   "metadata": {},
   "outputs": [],
   "source": [
    "data = t.aggregate(hl.agg.approx_cdf(t.k, k=350))\n",
    "print(len(data.values))\n",
    "(p, i) = hl.plot.pdf(data, interactive=True)\n",
    "x_d = np.linspace(data.values[0], data.values[-1], 1000)\n",
    "p.line(x=x_d, y=gamma.pdf(x_d, 9, scale=.5), color='green', line_width=2)\n",
    "hl.plot.show(p, interact=i)"
   ]
  },
  {
   "cell_type": "markdown",
   "metadata": {},
   "source": [
    "The PDF is smoothing using a variable bandwidth kernel density estimator. For comparison, here is a fixed bandwidth estimator."
   ]
  },
  {
   "cell_type": "code",
   "execution_count": null,
   "metadata": {},
   "outputs": [],
   "source": [
    "from scipy.stats import gaussian_kde\n",
    "values = np.array(data.values)\n",
    "weights = np.diff(data.ranks)\n",
    "kde = gaussian_kde(values, .05, weights)\n",
    "x_d = np.linspace(values[0], values[-1], 1000)\n",
    "p = figure()\n",
    "p.line(x=x_d, y=gamma.pdf(x_d, 9, scale=.5), color='green', line_width=2)\n",
    "l = p.line(x_d, kde(x_d), line_width=2, line_color='black')\n",
    "\n",
    "handle = show(p, notebook_handle=True)\n",
    "\n",
    "def update(smoothing=.05):\n",
    "    kde = gaussian_kde(values, smoothing, weights)\n",
    "    l.data_source.data = {'x': x_d, 'y': kde(x_d)}\n",
    "    push_notebook(handle)\n",
    "    \n",
    "interact(update, smoothing=(.001, .2, .0005))"
   ]
  },
  {
   "cell_type": "markdown",
   "metadata": {},
   "source": [
    "Finally, without any smoothing..."
   ]
  },
  {
   "cell_type": "code",
   "execution_count": null,
   "metadata": {},
   "outputs": [],
   "source": [
    "data = t.aggregate(hl.agg.approx_cdf(t.k, k=350))\n",
    "p = figure()\n",
    "hist, edges = np.histogram(data.values, data.values, weights=np.diff(data.ranks), density=True)\n",
    "p.quad(bottom=0, top=hist, left=edges[:-1], right=edges[1:])\n",
    "x_d = np.linspace(data.values[0], data.values[-1], 1000)\n",
    "p.line(x=x_d, y=gamma.pdf(x_d, 9, scale=.5), color='green', line_width=2)\n",
    "show(p)"
   ]
  },
  {
   "cell_type": "code",
   "execution_count": null,
   "metadata": {},
   "outputs": [],
   "source": [
    "hl.plot.show(hl.plot.histogram(t.k))"
   ]
  },
  {
   "cell_type": "code",
   "execution_count": null,
   "metadata": {},
   "outputs": [],
   "source": [
    "(p, i) = hl.plot.histogram(data, interactive=True)\n",
    "hl.plot.show(p, interact=i)"
   ]
  },
  {
   "cell_type": "markdown",
   "metadata": {},
   "source": [
    "A demonstration of the improvement over sampling:"
   ]
  },
  {
   "cell_type": "code",
   "execution_count": null,
   "metadata": {},
   "outputs": [],
   "source": [
    "n = 100000\n",
    "t = hl.utils.range_table(n, n_partitions=8)\n",
    "t = t.annotate(k = hl.rand_gamma(9,.5), s = hl.rand_unif(0, 1))\n",
    "t = t.key_by(t.s)\n",
    "\n",
    "samp_size = 2000\n",
    "sample = t.aggregate(hl.agg.take(t.k, samp_size))\n",
    "\n",
    "weights = np.full(samp_size, n / samp_size)\n",
    "values = np.array(sample)\n",
    "slope = 1 / 15\n",
    "\n",
    "smoothing = .5\n",
    "\n",
    "def f(x, prev, smoothing=smoothing):\n",
    "    inv_scale = (np.sqrt(n * slope) / smoothing) * np.sqrt(prev / weights)\n",
    "    diff = x[:, np.newaxis] - values\n",
    "    grid = (3 / (4 * n)) * weights * np.maximum(0, inv_scale - np.power(diff, 2) * np.power(inv_scale, 3))\n",
    "    return np.sum(grid, axis=1)\n",
    "\n",
    "round1 = f(values, np.full(len(values), slope))\n",
    "x_d = np.linspace(0, 15, 1000)\n",
    "final = f(x_d, round1)\n",
    "\n",
    "p = figure()\n",
    "l = p.line(x_d, final, line_width=2, line_color='black')\n",
    "\n",
    "handle = show(p, notebook_handle=True)\n",
    "\n",
    "def update(smoothing=smoothing):\n",
    "    final = f(x_d, round1, smoothing)\n",
    "    l.data_source.data = {'x': x_d, 'y': final}\n",
    "    push_notebook(handle)\n",
    "    \n",
    "interact(update, smoothing=(.02, .8, .005))"
   ]
  },
  {
   "cell_type": "markdown",
   "metadata": {},
   "source": [
    "This function computes the Kolmogorov-Smirnov divergence and the total variation distance between the aproximated CDF and the true one, assuming a uniform distribution."
   ]
  },
  {
   "cell_type": "code",
   "execution_count": 12,
   "metadata": {},
   "outputs": [],
   "source": [
    "def compute_errors(cdf):\n",
    "    values = np.array(cdf['values'])\n",
    "    ranks = np.array(cdf['ranks'])\n",
    "    n = ranks[-1]\n",
    "    grid = np.linspace(0, n, 500, endpoint=False).astype('int')[1:]\n",
    "    if grid[-1] == n:\n",
    "        grid[-1] = n - 1\n",
    "    indices = np.searchsorted(ranks, grid)\n",
    "    \n",
    "    errors = np.abs(values[indices] - grid)\n",
    "    return (np.mean(errors) / n, np.max(errors) / n)"
   ]
  },
  {
   "cell_type": "code",
   "execution_count": 19,
   "metadata": {},
   "outputs": [
    {
     "name": "stderr",
     "output_type": "stream",
     "text": [
      "2019-04-30 14:39:18 Hail: INFO: Ordering unsorted dataset with network shuffle\n"
     ]
    }
   ],
   "source": [
    "t = hl.utils.range_table(10 ** 5, n_partitions=8)\n",
    "t = t.annotate(k = hl.rand_unif(0, 1))\n",
    "t = t.key_by(t.k).cache()"
   ]
  },
  {
   "cell_type": "code",
   "execution_count": 50,
   "metadata": {},
   "outputs": [
    {
     "name": "stdout",
     "output_type": "stream",
     "text": [
      "avg error: 0.0018142284569138277\n",
      "max error: 0.00531\n",
      "sample size: 407\n",
      "space(MB): 0.001552581787109375\n"
     ]
    }
   ],
   "source": [
    "cdf = t.aggregate(hl.agg.approx_cdf(t.idx, k=150))\n",
    "\n",
    "(avg, max) = compute_errors(cdf)\n",
    "print(f\"avg error: {avg}\")\n",
    "print(f\"max error: {max}\")\n",
    "print(f\"sample size: {len(cdf.values)}\")\n",
    "print(f\"space(MB): {len(cdf.values) * 4 / (2 ** 20)}\")"
   ]
  },
  {
   "cell_type": "code",
   "execution_count": 51,
   "metadata": {},
   "outputs": [
    {
     "data": {
      "text/plain": [
       "[27707, 719, 253, 78, 34, 12, 4, 2, 0]"
      ]
     },
     "execution_count": 51,
     "metadata": {},
     "output_type": "execute_result"
    }
   ],
   "source": [
    "cdf._compaction_counts"
   ]
  },
  {
   "cell_type": "code",
   "execution_count": 52,
   "metadata": {},
   "outputs": [
    {
     "data": {
      "text/plain": [
       "0.006157286633363888"
      ]
     },
     "execution_count": 52,
     "metadata": {},
     "output_type": "execute_result"
    }
   ],
   "source": [
    "delta = .001\n",
    "det_level = 1\n",
    "ub = 8\n",
    "counts = cdf._compaction_counts[:ub]\n",
    "s = np.sum((2 ** np.arange(2*ub, step=2)) * np.array(counts))\n",
    "eps = (1 / (np.sqrt(2) * cdf.ranks[-1])) * np.sqrt(-np.log(delta) * s)\n",
    "eps"
   ]
  },
  {
   "cell_type": "code",
   "execution_count": 47,
   "metadata": {},
   "outputs": [
    {
     "data": {
      "text/plain": [
       "0.0003694350766589656"
      ]
     },
     "execution_count": 47,
     "metadata": {},
     "output_type": "execute_result"
    }
   ],
   "source": [
    "def s(ub, counts):\n",
    "    return np.sum((2 ** np.arange(2*ub, step=2)) * np.array(counts[:ub]))\n",
    "def prob(err, ub, counts):\n",
    "    return 2 * np.exp(-2 * (err ** 2) / s(ub, counts))\n",
    "counts = cdf._compaction_counts[:ub]\n",
    ".5 * prob(eps * cdf.ranks[-1] + 2 ** 6, 6, counts) + .5 * prob(eps * cdf.ranks[-1] - 2 ** 6, 6, counts)"
   ]
  },
  {
   "cell_type": "code",
   "execution_count": null,
   "metadata": {},
   "outputs": [],
   "source": [
    "samp_size = 2000\n",
    "sample = t.aggregate(hl.agg.take(t.idx, samp_size))\n",
    "cdf = {'values': np.sort(sample), 'ranks': np.linspace(0, 1000000, samp_size)}\n",
    "(avg, max) = compute_errors(cdf)\n",
    "print(f\"avg error: {avg}\")\n",
    "print(f\"max error: {max}\")\n",
    "print(f\"sample size: {samp_size}\")"
   ]
  },
  {
   "cell_type": "code",
   "execution_count": null,
   "metadata": {
    "scrolled": true
   },
   "outputs": [],
   "source": [
    "from bokeh.models import HoverTool\n",
    "p = figure(\n",
    "    y_axis_label='Avg. Error',\n",
    "    y_axis_type='log',\n",
    "    x_axis_label='Space(MB)',\n",
    "    x_axis_type='log')\n",
    "kll_sizes = [10, 31, 100, 316, 1000, 3160, 10000]\n",
    "reps = 5\n",
    "cdfs = [[t.aggregate(hl.agg.approx_cdf(t.idx, size)) for i in range(reps)] for size in kll_sizes]\n",
    "kll_space = [len(cdf[0].values) * 4 / (2 ** 20) for cdf in cdfs]\n",
    "kll_avg_err = [np.mean([compute_errors(cdf[i])[0] for i in range(reps)]) for cdf in cdfs]\n",
    "p.circle(\n",
    "    x = kll_space,\n",
    "    y = kll_avg_err,\n",
    "    legend = 'KLL',\n",
    "    color= 'red',\n",
    "    size = 7)\n",
    "p.line(x = kll_space, y = kll_avg_err, color = 'red')\n",
    "mrl_space =   [.00044, .00085, .002, .015,  .035,  .222]\n",
    "mrl_avg_err = [.0148,  .01,    .004, .0005, .00026, .000027]\n",
    "p.circle(\n",
    "    x = mrl_space,\n",
    "    y = mrl_avg_err,\n",
    "    legend = 'MRL',\n",
    "    color='green',\n",
    "    size = 7)\n",
    "p.line(x = mrl_space, y = mrl_avg_err, color = 'green')\n",
    "p.add_tools(HoverTool(tooltips=[(\"size\", \"$x\"), (\"err\", \"$y\")], mode='vline'))\n",
    "show(p)"
   ]
  },
  {
   "cell_type": "code",
   "execution_count": null,
   "metadata": {},
   "outputs": [],
   "source": [
    "p = figure(\n",
    "    y_axis_label='sample size',\n",
    "    y_axis_type='log',\n",
    "    x_axis_label='1/error',\n",
    "    x_axis_type='log')\n",
    "sample_sizes = [100, 316, 1000, 3160, 10000, 31600, 100000]\n",
    "p.circle(\n",
    "    x = [1 / compute_errors({'values': np.sort(t.aggregate(hl.agg.take(t.idx, size))), 'ranks': np.linspace(0, 1000000, size)})[1] for size in sample_sizes],\n",
    "    y = sample_sizes,\n",
    "    legend = 'sampling',\n",
    "    size = 10)\n",
    "kll_sizes = [10, 31, 100, 316, 1000, 3160, 10000]\n",
    "cdfs = [t.aggregate(hl.agg.approx_cdf(t.idx, size)) for size in kll_sizes]\n",
    "p.circle(\n",
    "    x = [1 / compute_errors(cdf)[1] for cdf in cdfs],\n",
    "    y = [len(cdf.values) for cdf in cdfs],\n",
    "    legend = 'KLL',\n",
    "    color='green',\n",
    "    size = 10)\n",
    "show(p)"
   ]
  },
  {
   "cell_type": "code",
   "execution_count": null,
   "metadata": {},
   "outputs": [],
   "source": [
    "t = t = hl.utils.range_table(1000000, n_partitions=8)\n",
    "t = t.annotate(k = hl.rand_unif(0, 1))\n",
    "%timeit t.aggregate(hl.agg.approx_cdf(t.k))"
   ]
  },
  {
   "cell_type": "code",
   "execution_count": null,
   "metadata": {},
   "outputs": [],
   "source": [
    "t = t = hl.utils.range_table(1000000, n_partitions=8)\n",
    "t = t.annotate(k = hl.rand_unif(0, 1))\n",
    "%timeit t.aggregate(hl.agg.sum(t.k))"
   ]
  },
  {
   "cell_type": "code",
   "execution_count": null,
   "metadata": {},
   "outputs": [],
   "source": [
    "n = 1500000\n",
    "cn = [31504, 5691, 1899, 639, 217, 71, 28, 7, 3, 1]\n",
    "k = 8\n",
    "d = .0001\n",
    "c1 = np.sum([cn[l] * (2 ** (l - 1)) for l in range(len(cn))])\n",
    "c2 = np.sum([cn[l] * np.power((2 ** l) - (2 ** k), 2) for l in range(k + 1, len(cn))])\n",
    "c = c1 + c2\n",
    "b = (2 ** k) / 3\n",
    "e = b + np.sqrt(b * b - 2 * c / np.log(d))\n",
    "np.log(1 / d) * e / n"
   ]
  },
  {
   "cell_type": "code",
   "execution_count": null,
   "metadata": {},
   "outputs": [],
   "source": [
    "e = .0009479\n",
    "np.exp((-1 / 2) * np.power(e * n, 2) / (c +  e * n * b ))"
   ]
  },
  {
   "cell_type": "code",
   "execution_count": 6,
   "metadata": {},
   "outputs": [],
   "source": [
    "def compare(x1, y1, x2, y2):\n",
    "    return x1*y2 - x2*y1\n",
    "\n",
    "def f(min_x, max_x, x, y, e):\n",
    "    new_y = np.full_like(x, 0)\n",
    "    keep = np.full_like(x, False, dtype=np.bool_)\n",
    "    \n",
    "    e = e\n",
    "    fx = min_x\n",
    "    fy = 0\n",
    "    li = 0\n",
    "    ui = 0\n",
    "    ldx = x[0] - min_x\n",
    "    udx = ldx\n",
    "    ldy = y[1] - e\n",
    "    udy = y[0] + e\n",
    "    j = 1\n",
    "    # loop vars: li, ui, j, fx, fy, ldx, udx, ldy, udy\n",
    "    while ui < len(x) and li < len(x):\n",
    "        if j == len(x):\n",
    "            ub = 1\n",
    "            lb = 1\n",
    "            xj = max_x\n",
    "        else:     \n",
    "            ub = y[j] + e\n",
    "            lb = y[j+1] - e\n",
    "            xj = x[j]\n",
    "        dx = xj - fx\n",
    "        judy = ub - fy\n",
    "        jldy = lb - fy\n",
    "        if compare(ldx, ldy, dx, judy) < 0:\n",
    "            fx = x[li]\n",
    "            fy = y[li+1] - e\n",
    "            new_y[li] = fy\n",
    "            keep[li] = True\n",
    "            j = li + 1\n",
    "            if j >= len(x):\n",
    "                break\n",
    "            li = j\n",
    "            ldx = x[j] - fx\n",
    "            ldy = y[j+1] - e - fy\n",
    "            ui = j\n",
    "            udx = x[j] - fx\n",
    "            udy = y[j] + e - fy\n",
    "            j += 1\n",
    "            continue\n",
    "        elif compare(udx, udy, dx, jldy) > 0:\n",
    "            fx = x[ui]\n",
    "            fy = y[ui] + e\n",
    "            new_y[ui] = fy\n",
    "            keep[ui] = True\n",
    "            j = ui + 1\n",
    "            if j >= len(x):\n",
    "                break\n",
    "            li = j\n",
    "            ldx = x[j] - fx\n",
    "            ldy = y[j+1] - e - fy\n",
    "            ui = j\n",
    "            udx = x[j] - fx\n",
    "            udy = y[j] + e - fy\n",
    "            j += 1\n",
    "            continue\n",
    "        if j >= len(x):\n",
    "            break\n",
    "        if compare(udx, udy, dx, judy) < 0:\n",
    "            ui = j\n",
    "            udx = x[j] - fx\n",
    "            udy = y[j] + e - fy\n",
    "        if compare(ldx, ldy, dx, jldy) > 0:\n",
    "            li = j\n",
    "            ldx = x[j] - fx\n",
    "            ldy = y[j+1] - e - fy\n",
    "        j += 1\n",
    "    return new_y, keep"
   ]
  },
  {
   "cell_type": "code",
   "execution_count": null,
   "metadata": {},
   "outputs": [],
   "source": [
    "t = hl.utils.range_table(100000, n_partitions=8)\n",
    "t = t.annotate(k = hl.rand_gamma(9,.5))\n",
    "cdf = t.aggregate(hl.agg.approx_cdf(t.k, k=50))\n",
    "y = np.array(cdf.ranks[1:-1]) / cdf.ranks[-1]\n",
    "x = np.array(cdf.values[1:-1])\n",
    "min_x = cdf.values[0]\n",
    "max_x = cdf.values[-1]\n",
    "min_e = np.max(y[1:] - y[:-1]) / 2.0\n",
    "\n",
    "p = figure()\n",
    "c1 = p.circle(x=x, y=y[:-1]+min_e)\n",
    "c2 = p.circle(x=x, y=y[1:]-min_e, color='green')\n",
    "new_y, keep = f(min_x, max_x, x, y, min_e)\n",
    "c3 = p.circle(x=x[keep], y=new_y[keep], color='red')\n",
    "l = p.line(x=[cdf.values[0], *x[keep], cdf.values[-1]], y=[0, *new_y[keep], 1], line_width=2, color='black')\n",
    "\n",
    "p.add_tools(HoverTool(tooltips=[(\"index\", \"$index\"), (\"(x, y)\", \"($x, $y)\")]))\n",
    "\n",
    "def update(smoothing=min_e):\n",
    "    new_y, keep = f(min_x, max_x, x, y, smoothing)\n",
    "    new_data = {'x': [cdf.values[0], *x[keep], cdf.values[-1]], 'y': [0, *new_y[keep], 1]}\n",
    "    l.data_source.data = new_data\n",
    "    c1.data_source.data = {'x': x, 'y': y[:-1]+smoothing}\n",
    "    c2.data_source.data = {'x': x, 'y': y[1:]-smoothing}\n",
    "    c3.data_source.data = {'x': x[keep], 'y': new_y[keep]}\n",
    "    push_notebook(handle)\n",
    "\n",
    "handle = show(p, notebook_handle=True)\n",
    "interact(update, smoothing=(min_e, .05, .00001)), min_e"
   ]
  },
  {
   "cell_type": "code",
   "execution_count": 7,
   "metadata": {},
   "outputs": [
    {
     "data": {
      "text/html": [
       "\n",
       "<div class=\"bk-root\">\n",
       "    <div class=\"bk-plotdiv\" id=\"3dfdc0bd-34e8-4ef8-8fd9-d04d0137afa8\"></div>\n",
       "</div>"
      ]
     },
     "metadata": {},
     "output_type": "display_data"
    },
    {
     "data": {
      "application/javascript": [
       "(function(root) {\n",
       "  function embed_document(root) {\n",
       "    \n",
       "  var docs_json = {\"17bd6aeb-5beb-43b8-a839-52a626bd2b42\":{\"roots\":{\"references\":[{\"attributes\":{},\"id\":\"e28b0a3a-6ac3-4b1e-a27d-90c02cc09022\",\"type\":\"BasicTickFormatter\"},{\"attributes\":{\"plot\":null,\"text\":\"\"},\"id\":\"6963546b-8f42-4423-946a-7dfd697d8bc0\",\"type\":\"Title\"},{\"attributes\":{},\"id\":\"38edce68-57a4-43d7-9fe1-2eeeb56e71d9\",\"type\":\"WheelZoomTool\"},{\"attributes\":{\"bottom\":{\"value\":0},\"fill_color\":{\"value\":\"#1f77b4\"},\"left\":{\"field\":\"left\"},\"line_color\":{\"value\":\"#1f77b4\"},\"right\":{\"field\":\"right\"},\"top\":{\"field\":\"top\"}},\"id\":\"e89bc1be-dee3-485f-942b-b38493959e99\",\"type\":\"Quad\"},{\"attributes\":{\"callback\":null,\"end\":0.3},\"id\":\"ba6581f1-c03d-4bbc-8d83-4a4c22e81993\",\"type\":\"Range1d\"},{\"attributes\":{},\"id\":\"b4f3a4e5-d989-4fac-a623-4e5af1a769ea\",\"type\":\"ResetTool\"},{\"attributes\":{\"source\":{\"id\":\"b1c722a6-2192-4225-b884-ac8a5a15cc5a\",\"type\":\"ColumnDataSource\"}},\"id\":\"9a297032-4dea-438d-a786-80a973ef5414\",\"type\":\"CDSView\"},{\"attributes\":{\"formatter\":{\"id\":\"327174f2-5576-40df-aabe-01d97d2150ac\",\"type\":\"BasicTickFormatter\"},\"plot\":{\"id\":\"fc6223dd-8e4b-4fe5-8718-04587a14dbe8\",\"subtype\":\"Figure\",\"type\":\"Plot\"},\"ticker\":{\"id\":\"efd300ea-b4e4-4de9-bd94-fe5c7f74aa9f\",\"type\":\"BasicTicker\"}},\"id\":\"ba5f606d-ca07-4adc-9c1a-c9f5183b4e0a\",\"type\":\"LinearAxis\"},{\"attributes\":{},\"id\":\"775fc115-8948-44f8-87b3-b110db262daf\",\"type\":\"PanTool\"},{\"attributes\":{},\"id\":\"efd300ea-b4e4-4de9-bd94-fe5c7f74aa9f\",\"type\":\"BasicTicker\"},{\"attributes\":{\"dimension\":1,\"plot\":{\"id\":\"fc6223dd-8e4b-4fe5-8718-04587a14dbe8\",\"subtype\":\"Figure\",\"type\":\"Plot\"},\"ticker\":{\"id\":\"efd300ea-b4e4-4de9-bd94-fe5c7f74aa9f\",\"type\":\"BasicTicker\"}},\"id\":\"4e1e53c0-ad58-4528-8ab5-7d9bf74ac58f\",\"type\":\"Grid\"},{\"attributes\":{\"callback\":null,\"column_names\":[\"left\",\"right\",\"top\"],\"data\":{\"left\":[0.48619169409484947,1.115940220725248,1.1604793225238743,1.2405729405810832,1.448013407505758,1.4751989218423307,1.5974300579010199,1.6183045362808341,1.712382296730435,1.7244879452235795,1.7506859911624206,1.769464638395246,1.7981774457242357,1.8064496486006258,1.8521934209162048,1.8937224485050945,1.894302892120108,1.8980942819156967,1.8995740644774495,1.9670645678777858,1.971503322867255,1.9878591239883439,1.9946798986233132,2.0208408619490306,2.02762519707917,2.042952065635087,2.057051669860418,2.0793844734844056,2.095228984234725,2.1113548965906346,2.123790192086677,2.141770239076228,2.151262773910422,2.1677493857519456,2.1797204336092832,2.1955714800409716,2.202398857346204,2.2199419633948856,2.2352059644335385,2.2417983701070665,2.2455483070201954,2.258444009437576,2.2758830718281184,2.276549386071679,2.3003249740119553,2.3041527755119873,2.311290750084479,2.32310989464532,2.3305552917076793,2.3386490725186526,2.348488723654619,2.3663419028677386,2.370143652780488,2.388385468662597,2.390902301271132,2.407133080399327,2.4084618419917403,2.413712892173444,2.4211900116567855,2.423715088875445,2.4424007716192233,2.4519242999386033,2.4668659256908,2.4764910653083785,2.4852698697078863,2.491893487829972,2.495851428264163,2.4995197418620236,2.5087456960414642,2.511150026941988,2.5248867232650185,2.531875247095072,2.533308052834233,2.5430391931675733,2.5484609780870136,2.554584669515319,2.5616323025670384,2.5665117444694197,2.5800160282910047,2.5933657317049104,2.5941359806760382,2.6051997673248777,2.610570582559582,2.6170631689490182,2.621838974147673,2.632702340490583,2.638680983710206,2.6430944078043987,2.6521912911865755,2.653410798173334,2.6599255989234227,2.6719520269291737,2.674195451644523,2.675869560092453,2.695143567293656,2.698882513397004,2.7000204311701594,2.7092043576942455,2.7113418489624324,2.7211904249280496,2.7228594586817696,2.7348767129186076,2.7383381272803398,2.7456158463582288,2.7553590708684035,2.7579223097678858,2.7617480755019823,2.7639176465984376,2.777867413651675,2.780242913029487,2.7861207337101566,2.79745152780445,2.8010671883100953,2.8025551013758148,2.8025931575229706,2.815189533326926,2.8219111270113824,2.8228431846735487,2.833764126529344,2.839279943378586,2.84485006234506,2.8505669402812552,2.8526463853944506,2.8540472025140926,2.8581029832853693,2.8686013975725686,2.8687489852977492,2.874374644535727,2.8877358159972664,2.889642862736602,2.8933327464591003,2.899747180891348,2.9113311019604646,2.9121899608303354,2.9166602355915447,2.9294910367406533,2.929981004040326,2.933816445503384,2.9359385364301924,2.9421083751527157,2.944238940165395,2.9574527328689997,2.957541883262411,2.9671839856375066,2.971850534912425,2.976054293395933,2.980935528552812,2.985395600210386,2.991650327751887,2.993094355946852,3.0010891501996837,3.0044812629600397,3.010973353064666,3.0139083529206947,3.0173912678778883,3.0218232196612322,3.027326183175171,3.030645663618236,3.0320174572954826,3.041036543559179,3.0508971217362,3.052943664710071,3.061145556699261,3.0680000394463285,3.0680767113101033,3.070675031204472,3.0751590313452604,3.0834997460746587,3.0920177565084854,3.0933997926794388,3.097083183543999,3.103226938951736,3.1034034954882346,3.1110471019548975,3.1166215291583876,3.1182124534664766,3.118817057740547,3.121094913104031,3.1344505176370654,3.1361444534818554,3.138071955554256,3.1438656297218435,3.149879155588457,3.153732403248964,3.1589791724071223,3.163563984133916,3.1687454443219916,3.1699523020492997,3.1769918591138118,3.179577097699182,3.1865999047586206,3.1890745580764945,3.194122877891573,3.2025017638587623,3.2040221998525236,3.2043413437471098,3.214424201192796,3.2182056022390837,3.2203553189445295,3.2274134988603462,3.232236860649042,3.2340203852729252,3.2353787840774926,3.239992480153704,3.2468741128479106,3.2475498996711107,3.2516736031396336,3.259209349616105,3.2670816497562036,3.269388925701555,3.275615352562035,3.2775928056734926,3.2782078614197885,3.28670989585573,3.2892402019759053,3.2948747565632632,3.3016068030835686,3.303640804606075,3.3058242515880782,3.307516375098399,3.3179148115252346,3.319148575449615,3.3216500523042525,3.3247503199520025,3.3382605585906044,3.3399178916994625,3.340327825036112,3.3442070718514523,3.347343440803051,3.3490848202649035,3.3580040273493483,3.3615246157985164,3.3716232198110765,3.3717767118584208,3.37493342867422,3.37624713559622,3.3834774482614027,3.3841563638108436,3.390741968322386,3.3952995968918747,3.4029899961718564,3.4049440705291794,3.406754993534169,3.408737240792002,3.4144334326866046,3.4178474555392393,3.4215741783737754,3.4255082635141356,3.4291473521938713,3.4364010600847625,3.4379944763641705,3.4453619707767986,3.446872373356228,3.447460061744679,3.4511083879590516,3.460507760166955,3.4616818130510207,3.4673467333846224,3.4705255705306604,3.473622573850031,3.478890216192436,3.4794209178658133,3.4874561401572786,3.4917280514018243,3.4922348454531353,3.499133507530693,3.5023086334770337,3.5024738278748595,3.5111956480699718,3.512329747148444,3.5164591684078568,3.5215032406748406,3.528062617792735,3.5304107037981693,3.5312599003014844,3.5386903139353647,3.541722166004525,3.5426345795623035,3.5469435772303233,3.5518628266296606,3.5563396844076296,3.559310193707723,3.5640491467883852,3.566246185784516,3.5692012328273597,3.5744545001959067,3.5787464508767246,3.5844606284037055,3.587274988383651,3.591882962953539,3.5951271515689234,3.5984800025193295,3.6012340206356734,3.604562513464758,3.605145632204418,3.614762779622632,3.621374030269274,3.622150810321195,3.6277646830182286,3.629354708800395,3.6319367963664067,3.6353845050002085,3.6392799482211307,3.6439466884433283,3.64968387536941,3.6502473816762264,3.656415774704456,3.6579059144023742,3.6625884020335393,3.664819289769177,3.668791529658409,3.6762716855948625,3.677224936344177,3.6810383836473157,3.6868101016850954,3.6887843100327538,3.693977289818593,3.698078583938574,3.701333002585926,3.703892396662981,3.708074592579128,3.7094724852042,3.7157021537034587,3.718684775929026,3.7188815416956293,3.7251667777551423,3.732466898700384,3.7332714000203335,3.7366760946482294,3.741770442191871,3.7453844541669805,3.7491588251685077,3.7538702194255573,3.753955001830744,3.75671537967306,3.7646847587824506,3.7653467469180826,3.769166402920808,3.7726813531701837,3.7770151719799028,3.78482587074835,3.786754874767065,3.791204987594383,3.7922838341853975,3.801414186085161,3.80391419268088,3.808338097554528,3.8089231069405582,3.8143209707736165,3.816413739560017,3.82043897475333,3.824266884565929,3.8254039398541058,3.8321538532531463,3.8351296591958937,3.836991131562516,3.8374782090264903,3.8458020476325148,3.8510969183405726,3.857186275765908,3.8587942108886213,3.8608975419823377,3.8669562531792665,3.8687099324759635,3.8688463908363486,3.8731007604988856,3.878251461641402,3.880781412835304,3.888416861197999,3.8912231954034624,3.8927894467307875,3.8973925839139953,3.9005215355831737,3.900616967785256,3.907936225148158,3.9121193342507845,3.91359009827157,3.9194476059458006,3.92207356586667,3.92487414235088,3.926475276492229,3.932962105602593,3.937066511902445,3.941731372965447,3.9454473607136618,3.9511964664939505,3.9521729192150725,3.9542912141318984,3.956397028952125,3.9628159879194738,3.9681127586078007,3.9726243045474896,3.9749897975510398,3.978621793436262,3.981473054100643,3.9818664972253117,3.9891027397940464,3.9950350700342216,3.996705453810552,3.998249438008831,4.004435265163424,4.008924900482656,4.014472667652023,4.014928410974396,4.018226851430586,4.021738265248483,4.02420983930663,4.029128103186332,4.032683017838216,4.037920008765463,4.046255559148198,4.047012102981855,4.0502425675769365,4.050812170359166,4.055744987499942,4.05888962503423,4.062258414451165,4.065541949120121,4.06595827221338,4.071053259206349,4.078351872100253,4.081317820775742,4.082636839555883,4.088006949091826,4.090820822447712,4.096532489305501,4.100383037507008,4.104935132274413,4.108555350021791,4.1087099457093155,4.110149291319518,4.123469923755976,4.124519333520614,4.127059026868565,4.130885759848898,4.134407613747779,4.137912039832116,4.140404236929085,4.144330328289828,4.148217868991681,4.151676959393477,4.154729399596321,4.159581936496209,4.162627483227342,4.167021925132202,4.171369486497866,4.173839093698754,4.17847504700374,4.181462102788301,4.186563137521305,4.188636533971957,4.191196628407306,4.198409674232826,4.200374149862003,4.2029851012178945,4.207306132492132,4.215100424402401,4.215190448291228,4.2178152000445355,4.219268492574107,4.232479300175448,4.233031300823787,4.235581140162837,4.24053242325902,4.240661730874849,4.242611651508485,4.24496480838247,4.250350521109587,4.2563081383562205,4.257495623274328,4.261202340450811,4.269900823002549,4.270610249056538,4.272991916809897,4.273714898409943,4.280536321069775,4.283665822293158,4.287459364900017,4.292701132893862,4.299109337790541,4.299878701828669,4.300749564600599,4.301771117874993,4.311988419810433,4.314092473384911,4.319502411948756,4.321782230232614,4.328642540384296,4.330415664932957,4.335819139679913,4.336841093511542,4.3441589082336804,4.346786137642826,4.349510135185214,4.3537462840853705,4.362304750366028,4.3627463749879185,4.365002605506176,4.367860828780736,4.371075396080875,4.372823540768664,4.37585385769658,4.382627039367082,4.391936265903243,4.394476529562379,4.399119437792353,4.402373480549018,4.402804144849743,4.407040205112847,4.4078271023310895,4.413355582577069,4.422127235632383,4.423578282379925,4.425149745413077,4.428005643261352,4.4363370913847815,4.440134782496541,4.440915945950566,4.4450212105120395,4.452054104620145,4.452417743120141,4.4543387706145605,4.456959347862256,4.460269230937549,4.466985679331626,4.468410643145255,4.475745814343037,4.479375657606618,4.481578138135195,4.492541512389882,4.492556539206586,4.493832426992259,4.500730365516754,4.506100508868711,4.506341308549059,4.514957439164641,4.515587816352908,4.5201208949649425,4.520203891893004,4.525339712436846,4.527973759481058,4.528007353742574,4.53317811515985,4.536836326633758,4.543508704295998,4.551606240831225,4.555238223712773,4.558295525185698,4.563295326445936,4.565853935628751,4.570140985003819,4.576149843672195,4.579946974142547,4.5847819926329,4.585206442307659,4.586847572010923,4.59233711383666,4.5939854132472435,4.598905159288315,4.607950129206601,4.611740081380601,4.613381694361676,4.614098588057705,4.622195712039447,4.626556566408326,4.627996670733334,4.63241034241438,4.639540259622925,4.643786947524947,4.645448213979908,4.646520970462904,4.650981008347482,4.663119426480568,4.66617441987737,4.668114584896789,4.673386692515286,4.674039030095675,4.675514221730122,4.6836123923982464,4.685345598464183,4.687827221376499,4.689546359545253,4.696981272471535,4.7015181908684776,4.711546117191969,4.711823504236045,4.715733538584513,4.718137223794817,4.7227543339684175,4.724878583630274,4.731121941656701,4.738475635588451,4.742911442013389,4.744595104203632,4.744792273773417,4.751132369751588,4.759219448769518,4.762549734288658,4.765816247209741,4.771451431562393,4.775851597834145,4.776144299137299,4.780269113765727,4.780922624048091,4.792785176332668,4.7929526836977105,4.79841932883788,4.807876818741947,4.812169406604388,4.813464542191171,4.814386046633501,4.815142425357617,4.820818668058705,4.82655635841931,4.831675191830842,4.839109542825324,4.846148043466995,4.847398179954833,4.850979224065663,4.851210340803509,4.857199538426725,4.8601250697394835,4.8652158139256585,4.873813175618426,4.879391859273946,4.881428250045688,4.886193610986549,4.88701673918098,4.889162888881166,4.89101728235968,4.902955989433161,4.905531418384977,4.911614162109977,4.9138288764776075,4.917322794688533,4.92236204331304,4.9336901587081705,4.935967497242379,4.936303782011735,4.9426086672195595,4.949943229860206,4.951182056916082,4.952777187933006,4.960256839536403,4.9643840758128714,4.968228340421505,4.971624890595468,4.978924930112484,4.986573078125784,4.987541193994896,4.9921768865223175,4.99822439884077,5.000071040717876,5.001658149375672,5.008017208560228,5.015223475442513,5.0177672994370495,5.027429110130252,5.029404454005632,5.032808261501529,5.037291127969415,5.040528948007957,5.046162315084026,5.051263187582606,5.054830985456825,5.059539756989553,5.06079005984213,5.067300697165306,5.078940327826198,5.079256053697238,5.084467785315405,5.090854375703661,5.092219245568376,5.101652291337,5.103946633893788,5.106827788542677,5.1148910174801765,5.115177242019177,5.118615579550587,5.12818662476934,5.135052477026805,5.140294347982326,5.140330421890242,5.143120510673208,5.1491581325210065,5.1550935974434395,5.159507732131342,5.168451931631686,5.171536403563732,5.1777171584656525,5.18070127600434,5.187403300141945,5.190212993544639,5.193321598107966,5.198693423470519,5.206893830189169,5.211948055300672,5.215540838282549,5.2168766239815145,5.221253612511713,5.227731577769088,5.234919642576827,5.24062139557072,5.2511535589752265,5.252974156632077,5.256658211138648,5.2593566230422955,5.2653230599965255,5.269918292847771,5.273826577447949,5.282169059562906,5.292850378316469,5.2943754697136765,5.29587076939921,5.297758872671869,5.309492226448353,5.313756248839278,5.315386597703643,5.320704451870215,5.331711965019059,5.33827210957212,5.339124897555274,5.339624520180401,5.3498034696431045,5.3534106438663756,5.358109381553284,5.362644164746409,5.373531557881227,5.378388096951165,5.379639280446124,5.380641140782117,5.392516668461354,5.401172723554561,5.402840681075754,5.407204299249127,5.422573356443895,5.424993843975554,5.427784597228677,5.4289512397020205,5.431048674949378,5.437810970585238,5.442854831031293,5.4494551255700046,5.46500557867159,5.466058832493156,5.466075130800754,5.469797971972973,5.474605017606137,5.478798474506936,5.486211975344004,5.493818112214085,5.4993224859206515,5.501988172482114,5.510256619564849,5.516403360894819,5.522795821707131,5.5235590173714595,5.539090731562966,5.541849062110016,5.548928505684877,5.552652297262777,5.565007087075901,5.566611594403735,5.570464329081462,5.576797083819993,5.5799584508671805,5.5807372682122836,5.589471996925294,5.600782441652161,5.6106736144395315,5.61205275423851,5.617814470305839,5.625626823853278,5.634042888937242,5.636800592210372,5.650688440500308,5.651921775694598,5.656281006429494,5.656339410554448,5.666188008475018,5.675816253900194,5.677149758842396,5.685975388701551,5.693860596726302,5.704138342282992,5.70509637605269,5.712375314989046,5.714149496079002,5.721154367892458,5.73536961338736,5.737827171884839,5.741259312960936,5.760021734488611,5.766148531245626,5.766922245837916,5.770423224012773,5.781497158277733,5.787539774209368,5.79419937357853,5.80359035418115,5.815444512105077,5.816549986078103,5.829346831847261,5.829482737578963,5.833271907210388,5.84133487403427,5.847308852399037,5.849840691663944,5.867715143803495,5.869929778925004,5.874439267156395,5.882843606813938,5.893158453063977,5.894505353511254,5.898752581377413,5.914368486612845,5.924291681715862,5.926042620060417,5.944221649195982,5.952105495188049,5.954964385181814,5.965693767831532,5.966246492121885,5.978656897999549,5.985996409462201,5.99276761157134,6.003821482219919,6.013690571544595,6.014481097776513,6.0239733599721506,6.024576894195112,6.033637185296543,6.053981554743858,6.055104547847223,6.071225999549739,6.0725338978227725,6.074291091239208,6.075508114461726,6.098884362428005,6.1094280459089605,6.120325015208873,6.121861488462449,6.135718870405266,6.13681016567176,6.151401700415397,6.1585211241460796,6.158794251011019,6.170935736286191,6.180240907122723,6.1891662601763455,6.203272689431002,6.211670346051875,6.221350725110509,6.224080114881433,6.235715123253399,6.240181493277747,6.2633504254674985,6.265637541657295,6.277033446889009,6.28289542733427,6.2893044867381445,6.299531584010286,6.299633568370865,6.314338205740188,6.319998166491929,6.331440218480019,6.353673852553025,6.361582766978514,6.366585121277357,6.3753624464247665,6.381396583333175,6.402408958849119,6.414702637205512,6.416969954598753,6.437005735018036,6.451374078995747,6.456716085851152,6.460046287884112,6.469976893299544,6.476627151652547,6.495230341442439,6.509259173111658,6.514363647797467,6.524688488702006,6.534806069424895,6.551301934208663,6.553945472232288,6.573197365773634,6.590482102116771,6.597941116149926,6.620145945580265,6.628848299834321,6.636216543847937,6.642422315705089,6.651484713927515,6.67344574454373,6.685902508620983,6.690220974489696,6.713234040029785,6.740127042949015,6.746623465269607,6.760672683875749,6.770304565139665,6.783247134490857,6.817422353573942,6.8279915544553385,6.829884471871395,6.857333541624492,6.864307530211069,6.86870570324717,6.877387322863671,6.89365426028355,6.911721726449135,6.942314368687982,6.9482384553375685,6.956791744284716,6.97899459989647,6.995598593568213,7.01015794351179,7.042622123826435,7.063481899918524,7.08147119603765,7.083594605715267,7.107843989862937,7.125058907593287,7.136525892302447,7.140252548811478,7.166716984292813,7.22071314129705,7.238838142826922,7.245188554361764,7.256229573456493,7.260497756208327,7.309022533443208,7.310547179082068,7.33140885163869,7.389219396395013,7.394218198553007,7.420357777273248,7.448196890704724,7.465103187613294,7.4740316197197965,7.522109012475679,7.532516403364929,7.5892665542625215,7.593978720673401,7.614721855204196,7.668522663032745,7.676769052222887,7.723301062928288,7.7308389943704,7.746227363292618,7.823076925247151,7.886457566162226,7.8959103225931,7.973698332420184,7.986730364934781,7.989263223307066,7.995406661556764,8.064408198764697,8.15527753463042,8.191104887861131,8.22835401136198,8.376133894021851,8.38766539199195,8.456251365122094,8.606234590845455,8.608691310661367,8.823917852290167,8.836849599285147,8.940821406023321,9.12508345257441,9.270813507659899,9.312502504899298,9.4802940799824,9.589851676914405,9.894242718148499,10.0055277386172,10.197255737496741],\"right\":[1.115940220725248,1.1604793225238743,1.2405729405810832,1.448013407505758,1.4751989218423307,1.5974300579010199,1.6183045362808341,1.712382296730435,1.7244879452235795,1.7506859911624206,1.769464638395246,1.7981774457242357,1.8064496486006258,1.8521934209162048,1.8937224485050945,1.894302892120108,1.8980942819156967,1.8995740644774495,1.9670645678777858,1.971503322867255,1.9878591239883439,1.9946798986233132,2.0208408619490306,2.02762519707917,2.042952065635087,2.057051669860418,2.0793844734844056,2.095228984234725,2.1113548965906346,2.123790192086677,2.141770239076228,2.151262773910422,2.1677493857519456,2.1797204336092832,2.1955714800409716,2.202398857346204,2.2199419633948856,2.2352059644335385,2.2417983701070665,2.2455483070201954,2.258444009437576,2.2758830718281184,2.276549386071679,2.3003249740119553,2.3041527755119873,2.311290750084479,2.32310989464532,2.3305552917076793,2.3386490725186526,2.348488723654619,2.3663419028677386,2.370143652780488,2.388385468662597,2.390902301271132,2.407133080399327,2.4084618419917403,2.413712892173444,2.4211900116567855,2.423715088875445,2.4424007716192233,2.4519242999386033,2.4668659256908,2.4764910653083785,2.4852698697078863,2.491893487829972,2.495851428264163,2.4995197418620236,2.5087456960414642,2.511150026941988,2.5248867232650185,2.531875247095072,2.533308052834233,2.5430391931675733,2.5484609780870136,2.554584669515319,2.5616323025670384,2.5665117444694197,2.5800160282910047,2.5933657317049104,2.5941359806760382,2.6051997673248777,2.610570582559582,2.6170631689490182,2.621838974147673,2.632702340490583,2.638680983710206,2.6430944078043987,2.6521912911865755,2.653410798173334,2.6599255989234227,2.6719520269291737,2.674195451644523,2.675869560092453,2.695143567293656,2.698882513397004,2.7000204311701594,2.7092043576942455,2.7113418489624324,2.7211904249280496,2.7228594586817696,2.7348767129186076,2.7383381272803398,2.7456158463582288,2.7553590708684035,2.7579223097678858,2.7617480755019823,2.7639176465984376,2.777867413651675,2.780242913029487,2.7861207337101566,2.79745152780445,2.8010671883100953,2.8025551013758148,2.8025931575229706,2.815189533326926,2.8219111270113824,2.8228431846735487,2.833764126529344,2.839279943378586,2.84485006234506,2.8505669402812552,2.8526463853944506,2.8540472025140926,2.8581029832853693,2.8686013975725686,2.8687489852977492,2.874374644535727,2.8877358159972664,2.889642862736602,2.8933327464591003,2.899747180891348,2.9113311019604646,2.9121899608303354,2.9166602355915447,2.9294910367406533,2.929981004040326,2.933816445503384,2.9359385364301924,2.9421083751527157,2.944238940165395,2.9574527328689997,2.957541883262411,2.9671839856375066,2.971850534912425,2.976054293395933,2.980935528552812,2.985395600210386,2.991650327751887,2.993094355946852,3.0010891501996837,3.0044812629600397,3.010973353064666,3.0139083529206947,3.0173912678778883,3.0218232196612322,3.027326183175171,3.030645663618236,3.0320174572954826,3.041036543559179,3.0508971217362,3.052943664710071,3.061145556699261,3.0680000394463285,3.0680767113101033,3.070675031204472,3.0751590313452604,3.0834997460746587,3.0920177565084854,3.0933997926794388,3.097083183543999,3.103226938951736,3.1034034954882346,3.1110471019548975,3.1166215291583876,3.1182124534664766,3.118817057740547,3.121094913104031,3.1344505176370654,3.1361444534818554,3.138071955554256,3.1438656297218435,3.149879155588457,3.153732403248964,3.1589791724071223,3.163563984133916,3.1687454443219916,3.1699523020492997,3.1769918591138118,3.179577097699182,3.1865999047586206,3.1890745580764945,3.194122877891573,3.2025017638587623,3.2040221998525236,3.2043413437471098,3.214424201192796,3.2182056022390837,3.2203553189445295,3.2274134988603462,3.232236860649042,3.2340203852729252,3.2353787840774926,3.239992480153704,3.2468741128479106,3.2475498996711107,3.2516736031396336,3.259209349616105,3.2670816497562036,3.269388925701555,3.275615352562035,3.2775928056734926,3.2782078614197885,3.28670989585573,3.2892402019759053,3.2948747565632632,3.3016068030835686,3.303640804606075,3.3058242515880782,3.307516375098399,3.3179148115252346,3.319148575449615,3.3216500523042525,3.3247503199520025,3.3382605585906044,3.3399178916994625,3.340327825036112,3.3442070718514523,3.347343440803051,3.3490848202649035,3.3580040273493483,3.3615246157985164,3.3716232198110765,3.3717767118584208,3.37493342867422,3.37624713559622,3.3834774482614027,3.3841563638108436,3.390741968322386,3.3952995968918747,3.4029899961718564,3.4049440705291794,3.406754993534169,3.408737240792002,3.4144334326866046,3.4178474555392393,3.4215741783737754,3.4255082635141356,3.4291473521938713,3.4364010600847625,3.4379944763641705,3.4453619707767986,3.446872373356228,3.447460061744679,3.4511083879590516,3.460507760166955,3.4616818130510207,3.4673467333846224,3.4705255705306604,3.473622573850031,3.478890216192436,3.4794209178658133,3.4874561401572786,3.4917280514018243,3.4922348454531353,3.499133507530693,3.5023086334770337,3.5024738278748595,3.5111956480699718,3.512329747148444,3.5164591684078568,3.5215032406748406,3.528062617792735,3.5304107037981693,3.5312599003014844,3.5386903139353647,3.541722166004525,3.5426345795623035,3.5469435772303233,3.5518628266296606,3.5563396844076296,3.559310193707723,3.5640491467883852,3.566246185784516,3.5692012328273597,3.5744545001959067,3.5787464508767246,3.5844606284037055,3.587274988383651,3.591882962953539,3.5951271515689234,3.5984800025193295,3.6012340206356734,3.604562513464758,3.605145632204418,3.614762779622632,3.621374030269274,3.622150810321195,3.6277646830182286,3.629354708800395,3.6319367963664067,3.6353845050002085,3.6392799482211307,3.6439466884433283,3.64968387536941,3.6502473816762264,3.656415774704456,3.6579059144023742,3.6625884020335393,3.664819289769177,3.668791529658409,3.6762716855948625,3.677224936344177,3.6810383836473157,3.6868101016850954,3.6887843100327538,3.693977289818593,3.698078583938574,3.701333002585926,3.703892396662981,3.708074592579128,3.7094724852042,3.7157021537034587,3.718684775929026,3.7188815416956293,3.7251667777551423,3.732466898700384,3.7332714000203335,3.7366760946482294,3.741770442191871,3.7453844541669805,3.7491588251685077,3.7538702194255573,3.753955001830744,3.75671537967306,3.7646847587824506,3.7653467469180826,3.769166402920808,3.7726813531701837,3.7770151719799028,3.78482587074835,3.786754874767065,3.791204987594383,3.7922838341853975,3.801414186085161,3.80391419268088,3.808338097554528,3.8089231069405582,3.8143209707736165,3.816413739560017,3.82043897475333,3.824266884565929,3.8254039398541058,3.8321538532531463,3.8351296591958937,3.836991131562516,3.8374782090264903,3.8458020476325148,3.8510969183405726,3.857186275765908,3.8587942108886213,3.8608975419823377,3.8669562531792665,3.8687099324759635,3.8688463908363486,3.8731007604988856,3.878251461641402,3.880781412835304,3.888416861197999,3.8912231954034624,3.8927894467307875,3.8973925839139953,3.9005215355831737,3.900616967785256,3.907936225148158,3.9121193342507845,3.91359009827157,3.9194476059458006,3.92207356586667,3.92487414235088,3.926475276492229,3.932962105602593,3.937066511902445,3.941731372965447,3.9454473607136618,3.9511964664939505,3.9521729192150725,3.9542912141318984,3.956397028952125,3.9628159879194738,3.9681127586078007,3.9726243045474896,3.9749897975510398,3.978621793436262,3.981473054100643,3.9818664972253117,3.9891027397940464,3.9950350700342216,3.996705453810552,3.998249438008831,4.004435265163424,4.008924900482656,4.014472667652023,4.014928410974396,4.018226851430586,4.021738265248483,4.02420983930663,4.029128103186332,4.032683017838216,4.037920008765463,4.046255559148198,4.047012102981855,4.0502425675769365,4.050812170359166,4.055744987499942,4.05888962503423,4.062258414451165,4.065541949120121,4.06595827221338,4.071053259206349,4.078351872100253,4.081317820775742,4.082636839555883,4.088006949091826,4.090820822447712,4.096532489305501,4.100383037507008,4.104935132274413,4.108555350021791,4.1087099457093155,4.110149291319518,4.123469923755976,4.124519333520614,4.127059026868565,4.130885759848898,4.134407613747779,4.137912039832116,4.140404236929085,4.144330328289828,4.148217868991681,4.151676959393477,4.154729399596321,4.159581936496209,4.162627483227342,4.167021925132202,4.171369486497866,4.173839093698754,4.17847504700374,4.181462102788301,4.186563137521305,4.188636533971957,4.191196628407306,4.198409674232826,4.200374149862003,4.2029851012178945,4.207306132492132,4.215100424402401,4.215190448291228,4.2178152000445355,4.219268492574107,4.232479300175448,4.233031300823787,4.235581140162837,4.24053242325902,4.240661730874849,4.242611651508485,4.24496480838247,4.250350521109587,4.2563081383562205,4.257495623274328,4.261202340450811,4.269900823002549,4.270610249056538,4.272991916809897,4.273714898409943,4.280536321069775,4.283665822293158,4.287459364900017,4.292701132893862,4.299109337790541,4.299878701828669,4.300749564600599,4.301771117874993,4.311988419810433,4.314092473384911,4.319502411948756,4.321782230232614,4.328642540384296,4.330415664932957,4.335819139679913,4.336841093511542,4.3441589082336804,4.346786137642826,4.349510135185214,4.3537462840853705,4.362304750366028,4.3627463749879185,4.365002605506176,4.367860828780736,4.371075396080875,4.372823540768664,4.37585385769658,4.382627039367082,4.391936265903243,4.394476529562379,4.399119437792353,4.402373480549018,4.402804144849743,4.407040205112847,4.4078271023310895,4.413355582577069,4.422127235632383,4.423578282379925,4.425149745413077,4.428005643261352,4.4363370913847815,4.440134782496541,4.440915945950566,4.4450212105120395,4.452054104620145,4.452417743120141,4.4543387706145605,4.456959347862256,4.460269230937549,4.466985679331626,4.468410643145255,4.475745814343037,4.479375657606618,4.481578138135195,4.492541512389882,4.492556539206586,4.493832426992259,4.500730365516754,4.506100508868711,4.506341308549059,4.514957439164641,4.515587816352908,4.5201208949649425,4.520203891893004,4.525339712436846,4.527973759481058,4.528007353742574,4.53317811515985,4.536836326633758,4.543508704295998,4.551606240831225,4.555238223712773,4.558295525185698,4.563295326445936,4.565853935628751,4.570140985003819,4.576149843672195,4.579946974142547,4.5847819926329,4.585206442307659,4.586847572010923,4.59233711383666,4.5939854132472435,4.598905159288315,4.607950129206601,4.611740081380601,4.613381694361676,4.614098588057705,4.622195712039447,4.626556566408326,4.627996670733334,4.63241034241438,4.639540259622925,4.643786947524947,4.645448213979908,4.646520970462904,4.650981008347482,4.663119426480568,4.66617441987737,4.668114584896789,4.673386692515286,4.674039030095675,4.675514221730122,4.6836123923982464,4.685345598464183,4.687827221376499,4.689546359545253,4.696981272471535,4.7015181908684776,4.711546117191969,4.711823504236045,4.715733538584513,4.718137223794817,4.7227543339684175,4.724878583630274,4.731121941656701,4.738475635588451,4.742911442013389,4.744595104203632,4.744792273773417,4.751132369751588,4.759219448769518,4.762549734288658,4.765816247209741,4.771451431562393,4.775851597834145,4.776144299137299,4.780269113765727,4.780922624048091,4.792785176332668,4.7929526836977105,4.79841932883788,4.807876818741947,4.812169406604388,4.813464542191171,4.814386046633501,4.815142425357617,4.820818668058705,4.82655635841931,4.831675191830842,4.839109542825324,4.846148043466995,4.847398179954833,4.850979224065663,4.851210340803509,4.857199538426725,4.8601250697394835,4.8652158139256585,4.873813175618426,4.879391859273946,4.881428250045688,4.886193610986549,4.88701673918098,4.889162888881166,4.89101728235968,4.902955989433161,4.905531418384977,4.911614162109977,4.9138288764776075,4.917322794688533,4.92236204331304,4.9336901587081705,4.935967497242379,4.936303782011735,4.9426086672195595,4.949943229860206,4.951182056916082,4.952777187933006,4.960256839536403,4.9643840758128714,4.968228340421505,4.971624890595468,4.978924930112484,4.986573078125784,4.987541193994896,4.9921768865223175,4.99822439884077,5.000071040717876,5.001658149375672,5.008017208560228,5.015223475442513,5.0177672994370495,5.027429110130252,5.029404454005632,5.032808261501529,5.037291127969415,5.040528948007957,5.046162315084026,5.051263187582606,5.054830985456825,5.059539756989553,5.06079005984213,5.067300697165306,5.078940327826198,5.079256053697238,5.084467785315405,5.090854375703661,5.092219245568376,5.101652291337,5.103946633893788,5.106827788542677,5.1148910174801765,5.115177242019177,5.118615579550587,5.12818662476934,5.135052477026805,5.140294347982326,5.140330421890242,5.143120510673208,5.1491581325210065,5.1550935974434395,5.159507732131342,5.168451931631686,5.171536403563732,5.1777171584656525,5.18070127600434,5.187403300141945,5.190212993544639,5.193321598107966,5.198693423470519,5.206893830189169,5.211948055300672,5.215540838282549,5.2168766239815145,5.221253612511713,5.227731577769088,5.234919642576827,5.24062139557072,5.2511535589752265,5.252974156632077,5.256658211138648,5.2593566230422955,5.2653230599965255,5.269918292847771,5.273826577447949,5.282169059562906,5.292850378316469,5.2943754697136765,5.29587076939921,5.297758872671869,5.309492226448353,5.313756248839278,5.315386597703643,5.320704451870215,5.331711965019059,5.33827210957212,5.339124897555274,5.339624520180401,5.3498034696431045,5.3534106438663756,5.358109381553284,5.362644164746409,5.373531557881227,5.378388096951165,5.379639280446124,5.380641140782117,5.392516668461354,5.401172723554561,5.402840681075754,5.407204299249127,5.422573356443895,5.424993843975554,5.427784597228677,5.4289512397020205,5.431048674949378,5.437810970585238,5.442854831031293,5.4494551255700046,5.46500557867159,5.466058832493156,5.466075130800754,5.469797971972973,5.474605017606137,5.478798474506936,5.486211975344004,5.493818112214085,5.4993224859206515,5.501988172482114,5.510256619564849,5.516403360894819,5.522795821707131,5.5235590173714595,5.539090731562966,5.541849062110016,5.548928505684877,5.552652297262777,5.565007087075901,5.566611594403735,5.570464329081462,5.576797083819993,5.5799584508671805,5.5807372682122836,5.589471996925294,5.600782441652161,5.6106736144395315,5.61205275423851,5.617814470305839,5.625626823853278,5.634042888937242,5.636800592210372,5.650688440500308,5.651921775694598,5.656281006429494,5.656339410554448,5.666188008475018,5.675816253900194,5.677149758842396,5.685975388701551,5.693860596726302,5.704138342282992,5.70509637605269,5.712375314989046,5.714149496079002,5.721154367892458,5.73536961338736,5.737827171884839,5.741259312960936,5.760021734488611,5.766148531245626,5.766922245837916,5.770423224012773,5.781497158277733,5.787539774209368,5.79419937357853,5.80359035418115,5.815444512105077,5.816549986078103,5.829346831847261,5.829482737578963,5.833271907210388,5.84133487403427,5.847308852399037,5.849840691663944,5.867715143803495,5.869929778925004,5.874439267156395,5.882843606813938,5.893158453063977,5.894505353511254,5.898752581377413,5.914368486612845,5.924291681715862,5.926042620060417,5.944221649195982,5.952105495188049,5.954964385181814,5.965693767831532,5.966246492121885,5.978656897999549,5.985996409462201,5.99276761157134,6.003821482219919,6.013690571544595,6.014481097776513,6.0239733599721506,6.024576894195112,6.033637185296543,6.053981554743858,6.055104547847223,6.071225999549739,6.0725338978227725,6.074291091239208,6.075508114461726,6.098884362428005,6.1094280459089605,6.120325015208873,6.121861488462449,6.135718870405266,6.13681016567176,6.151401700415397,6.1585211241460796,6.158794251011019,6.170935736286191,6.180240907122723,6.1891662601763455,6.203272689431002,6.211670346051875,6.221350725110509,6.224080114881433,6.235715123253399,6.240181493277747,6.2633504254674985,6.265637541657295,6.277033446889009,6.28289542733427,6.2893044867381445,6.299531584010286,6.299633568370865,6.314338205740188,6.319998166491929,6.331440218480019,6.353673852553025,6.361582766978514,6.366585121277357,6.3753624464247665,6.381396583333175,6.402408958849119,6.414702637205512,6.416969954598753,6.437005735018036,6.451374078995747,6.456716085851152,6.460046287884112,6.469976893299544,6.476627151652547,6.495230341442439,6.509259173111658,6.514363647797467,6.524688488702006,6.534806069424895,6.551301934208663,6.553945472232288,6.573197365773634,6.590482102116771,6.597941116149926,6.620145945580265,6.628848299834321,6.636216543847937,6.642422315705089,6.651484713927515,6.67344574454373,6.685902508620983,6.690220974489696,6.713234040029785,6.740127042949015,6.746623465269607,6.760672683875749,6.770304565139665,6.783247134490857,6.817422353573942,6.8279915544553385,6.829884471871395,6.857333541624492,6.864307530211069,6.86870570324717,6.877387322863671,6.89365426028355,6.911721726449135,6.942314368687982,6.9482384553375685,6.956791744284716,6.97899459989647,6.995598593568213,7.01015794351179,7.042622123826435,7.063481899918524,7.08147119603765,7.083594605715267,7.107843989862937,7.125058907593287,7.136525892302447,7.140252548811478,7.166716984292813,7.22071314129705,7.238838142826922,7.245188554361764,7.256229573456493,7.260497756208327,7.309022533443208,7.310547179082068,7.33140885163869,7.389219396395013,7.394218198553007,7.420357777273248,7.448196890704724,7.465103187613294,7.4740316197197965,7.522109012475679,7.532516403364929,7.5892665542625215,7.593978720673401,7.614721855204196,7.668522663032745,7.676769052222887,7.723301062928288,7.7308389943704,7.746227363292618,7.823076925247151,7.886457566162226,7.8959103225931,7.973698332420184,7.986730364934781,7.989263223307066,7.995406661556764,8.064408198764697,8.15527753463042,8.191104887861131,8.22835401136198,8.376133894021851,8.38766539199195,8.456251365122094,8.606234590845455,8.608691310661367,8.823917852290167,8.836849599285147,8.940821406023321,9.12508345257441,9.270813507659899,9.312502504899298,9.4802940799824,9.589851676914405,9.894242718148499,10.0055277386172,10.197255737496741,15.458219936581092],\"top\":{\"__ndarray__\":\"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\",\"dtype\":\"float64\",\"shape\":[979]}}},\"id\":\"b1c722a6-2192-4225-b884-ac8a5a15cc5a\",\"type\":\"ColumnDataSource\"},{\"attributes\":{},\"id\":\"d4e7d4d4-d105-4afa-b3b2-d50f5d7fcb9f\",\"type\":\"LinearScale\"},{\"attributes\":{\"line_color\":\"green\",\"line_width\":2,\"x\":{\"field\":\"x\"},\"y\":{\"field\":\"y\"}},\"id\":\"8cdf0140-839c-4efb-a572-e9f265e0ddd0\",\"type\":\"Line\"},{\"attributes\":{\"bottom\":{\"value\":0},\"fill_alpha\":{\"value\":0.1},\"fill_color\":{\"value\":\"#1f77b4\"},\"left\":{\"field\":\"left\"},\"line_alpha\":{\"value\":0.1},\"line_color\":{\"value\":\"#1f77b4\"},\"right\":{\"field\":\"right\"},\"top\":{\"field\":\"top\"}},\"id\":\"1eb083d4-8dfe-4041-be8b-27eac0caaa10\",\"type\":\"Quad\"},{\"attributes\":{\"line_alpha\":0.1,\"line_color\":\"#1f77b4\",\"line_width\":2,\"x\":{\"field\":\"x\"},\"y\":{\"field\":\"y\"}},\"id\":\"485a7549-e2ef-4612-bcff-31c7446113e4\",\"type\":\"Line\"},{\"attributes\":{},\"id\":\"1bf19ff3-df88-4d3d-8864-5ca2a9091277\",\"type\":\"BasicTicker\"},{\"attributes\":{},\"id\":\"24efc54b-3708-450a-b1c8-21d24e5b5795\",\"type\":\"HelpTool\"},{\"attributes\":{\"bottom_units\":\"screen\",\"fill_alpha\":{\"value\":0.5},\"fill_color\":{\"value\":\"lightgrey\"},\"left_units\":\"screen\",\"level\":\"overlay\",\"line_alpha\":{\"value\":1.0},\"line_color\":{\"value\":\"black\"},\"line_dash\":[4,4],\"line_width\":{\"value\":2},\"plot\":null,\"render_mode\":\"css\",\"right_units\":\"screen\",\"top_units\":\"screen\"},\"id\":\"af91900c-3747-45db-aee0-d36b79385b21\",\"type\":\"BoxAnnotation\"},{\"attributes\":{\"data_source\":{\"id\":\"7d2f3a6f-2884-45c5-92a6-a853a06c655d\",\"type\":\"ColumnDataSource\"},\"glyph\":{\"id\":\"8cdf0140-839c-4efb-a572-e9f265e0ddd0\",\"type\":\"Line\"},\"hover_glyph\":null,\"muted_glyph\":null,\"nonselection_glyph\":{\"id\":\"485a7549-e2ef-4612-bcff-31c7446113e4\",\"type\":\"Line\"},\"selection_glyph\":null,\"view\":{\"id\":\"6a560c19-55b1-402e-b418-8ff48aaa55b1\",\"type\":\"CDSView\"}},\"id\":\"e9fd8c2b-bd01-4f6e-b66a-7c52730fd50d\",\"type\":\"GlyphRenderer\"},{\"attributes\":{\"active_drag\":\"auto\",\"active_inspect\":\"auto\",\"active_scroll\":\"auto\",\"active_tap\":\"auto\",\"tools\":[{\"id\":\"775fc115-8948-44f8-87b3-b110db262daf\",\"type\":\"PanTool\"},{\"id\":\"38edce68-57a4-43d7-9fe1-2eeeb56e71d9\",\"type\":\"WheelZoomTool\"},{\"id\":\"9be4d0bd-474c-4227-bb98-28b635df917e\",\"type\":\"BoxZoomTool\"},{\"id\":\"626f9d14-15fc-4f57-9e6c-6b2fc73db04b\",\"type\":\"SaveTool\"},{\"id\":\"b4f3a4e5-d989-4fac-a623-4e5af1a769ea\",\"type\":\"ResetTool\"},{\"id\":\"24efc54b-3708-450a-b1c8-21d24e5b5795\",\"type\":\"HelpTool\"}]},\"id\":\"c0b8a73e-23f5-4e6d-87d7-3ee4c0e4d2b0\",\"type\":\"Toolbar\"},{\"attributes\":{\"overlay\":{\"id\":\"af91900c-3747-45db-aee0-d36b79385b21\",\"type\":\"BoxAnnotation\"}},\"id\":\"9be4d0bd-474c-4227-bb98-28b635df917e\",\"type\":\"BoxZoomTool\"},{\"attributes\":{\"below\":[{\"id\":\"ae5f7fbd-3eec-4fc6-9283-e89d9f419440\",\"type\":\"LinearAxis\"}],\"left\":[{\"id\":\"ba5f606d-ca07-4adc-9c1a-c9f5183b4e0a\",\"type\":\"LinearAxis\"}],\"renderers\":[{\"id\":\"ae5f7fbd-3eec-4fc6-9283-e89d9f419440\",\"type\":\"LinearAxis\"},{\"id\":\"d1c063e3-6221-462b-a999-83a43e845e83\",\"type\":\"Grid\"},{\"id\":\"ba5f606d-ca07-4adc-9c1a-c9f5183b4e0a\",\"type\":\"LinearAxis\"},{\"id\":\"4e1e53c0-ad58-4528-8ab5-7d9bf74ac58f\",\"type\":\"Grid\"},{\"id\":\"af91900c-3747-45db-aee0-d36b79385b21\",\"type\":\"BoxAnnotation\"},{\"id\":\"7eb2e8a2-e0c9-48f0-9fb4-4c936a72bb52\",\"type\":\"GlyphRenderer\"},{\"id\":\"e9fd8c2b-bd01-4f6e-b66a-7c52730fd50d\",\"type\":\"GlyphRenderer\"}],\"title\":{\"id\":\"6963546b-8f42-4423-946a-7dfd697d8bc0\",\"type\":\"Title\"},\"toolbar\":{\"id\":\"c0b8a73e-23f5-4e6d-87d7-3ee4c0e4d2b0\",\"type\":\"Toolbar\"},\"x_range\":{\"id\":\"eb011adb-f026-451c-8c90-32fcfd2407a7\",\"type\":\"DataRange1d\"},\"x_scale\":{\"id\":\"d4e7d4d4-d105-4afa-b3b2-d50f5d7fcb9f\",\"type\":\"LinearScale\"},\"y_range\":{\"id\":\"ba6581f1-c03d-4bbc-8d83-4a4c22e81993\",\"type\":\"Range1d\"},\"y_scale\":{\"id\":\"a3c9fd56-3f9c-4c65-8894-a88cfa7209dd\",\"type\":\"LinearScale\"}},\"id\":\"fc6223dd-8e4b-4fe5-8718-04587a14dbe8\",\"subtype\":\"Figure\",\"type\":\"Plot\"},{\"attributes\":{\"source\":{\"id\":\"7d2f3a6f-2884-45c5-92a6-a853a06c655d\",\"type\":\"ColumnDataSource\"}},\"id\":\"6a560c19-55b1-402e-b418-8ff48aaa55b1\",\"type\":\"CDSView\"},{\"attributes\":{},\"id\":\"327174f2-5576-40df-aabe-01d97d2150ac\",\"type\":\"BasicTickFormatter\"},{\"attributes\":{\"plot\":{\"id\":\"fc6223dd-8e4b-4fe5-8718-04587a14dbe8\",\"subtype\":\"Figure\",\"type\":\"Plot\"},\"ticker\":{\"id\":\"1bf19ff3-df88-4d3d-8864-5ca2a9091277\",\"type\":\"BasicTicker\"}},\"id\":\"d1c063e3-6221-462b-a999-83a43e845e83\",\"type\":\"Grid\"},{\"attributes\":{\"data_source\":{\"id\":\"b1c722a6-2192-4225-b884-ac8a5a15cc5a\",\"type\":\"ColumnDataSource\"},\"glyph\":{\"id\":\"e89bc1be-dee3-485f-942b-b38493959e99\",\"type\":\"Quad\"},\"hover_glyph\":null,\"muted_glyph\":null,\"nonselection_glyph\":{\"id\":\"1eb083d4-8dfe-4041-be8b-27eac0caaa10\",\"type\":\"Quad\"},\"selection_glyph\":null,\"view\":{\"id\":\"9a297032-4dea-438d-a786-80a973ef5414\",\"type\":\"CDSView\"}},\"id\":\"7eb2e8a2-e0c9-48f0-9fb4-4c936a72bb52\",\"type\":\"GlyphRenderer\"},{\"attributes\":{\"callback\":null},\"id\":\"eb011adb-f026-451c-8c90-32fcfd2407a7\",\"type\":\"DataRange1d\"},{\"attributes\":{},\"id\":\"a3c9fd56-3f9c-4c65-8894-a88cfa7209dd\",\"type\":\"LinearScale\"},{\"attributes\":{\"callback\":null,\"column_names\":[\"x\",\"y\"],\"data\":{\"x\":{\"__ndarray__\":\"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\",\"dtype\":\"float64\",\"shape\":[1000]},\"y\":{\"__ndarray__\":\"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\",\"dtype\":\"float64\",\"shape\":[1000]}}},\"id\":\"7d2f3a6f-2884-45c5-92a6-a853a06c655d\",\"type\":\"ColumnDataSource\"},{\"attributes\":{},\"id\":\"626f9d14-15fc-4f57-9e6c-6b2fc73db04b\",\"type\":\"SaveTool\"},{\"attributes\":{\"formatter\":{\"id\":\"e28b0a3a-6ac3-4b1e-a27d-90c02cc09022\",\"type\":\"BasicTickFormatter\"},\"plot\":{\"id\":\"fc6223dd-8e4b-4fe5-8718-04587a14dbe8\",\"subtype\":\"Figure\",\"type\":\"Plot\"},\"ticker\":{\"id\":\"1bf19ff3-df88-4d3d-8864-5ca2a9091277\",\"type\":\"BasicTicker\"}},\"id\":\"ae5f7fbd-3eec-4fc6-9283-e89d9f419440\",\"type\":\"LinearAxis\"}],\"root_ids\":[\"fc6223dd-8e4b-4fe5-8718-04587a14dbe8\"]},\"title\":\"Bokeh Application\",\"version\":\"0.12.13\"}};\n",
       "  var render_items = [{\"docid\":\"17bd6aeb-5beb-43b8-a839-52a626bd2b42\",\"elementid\":\"3dfdc0bd-34e8-4ef8-8fd9-d04d0137afa8\",\"modelid\":\"fc6223dd-8e4b-4fe5-8718-04587a14dbe8\",\"notebook_comms_target\":\"ad94b86f-8343-49b8-9b9d-ef2fa26d57d5\"}];\n",
       "  root.Bokeh.embed.embed_items_notebook(docs_json, render_items);\n",
       "\n",
       "  }\n",
       "  if (root.Bokeh !== undefined) {\n",
       "    embed_document(root);\n",
       "  } else {\n",
       "    var attempts = 0;\n",
       "    var timer = setInterval(function(root) {\n",
       "      if (root.Bokeh !== undefined) {\n",
       "        embed_document(root);\n",
       "        clearInterval(timer);\n",
       "      }\n",
       "      attempts++;\n",
       "      if (attempts > 100) {\n",
       "        console.log(\"Bokeh: ERROR: Unable to run BokehJS code because BokehJS library is missing\")\n",
       "        clearInterval(timer);\n",
       "      }\n",
       "    }, 10, root)\n",
       "  }\n",
       "})(window);"
      ],
      "application/vnd.bokehjs_exec.v0+json": ""
     },
     "metadata": {
      "application/vnd.bokehjs_exec.v0+json": {
       "id": "fc6223dd-8e4b-4fe5-8718-04587a14dbe8"
      }
     },
     "output_type": "display_data"
    },
    {
     "data": {
      "application/vnd.jupyter.widget-view+json": {
       "model_id": "17c17379f8744fb5b774706a514039c8",
       "version_major": 2,
       "version_minor": 0
      },
      "text/plain": [
       "interactive(children=(FloatSlider(value=0.00085, description='smoothing', max=0.004, min=0.0005120000000000124…"
      ]
     },
     "metadata": {},
     "output_type": "display_data"
    },
    {
     "data": {
      "text/plain": [
       "<function __main__.update(smoothing=0.00085)>"
      ]
     },
     "execution_count": 7,
     "metadata": {},
     "output_type": "execute_result"
    }
   ],
   "source": [
    "t = hl.utils.range_table(1000000, n_partitions=8)\n",
    "t = t.annotate(k = hl.rand_gamma(9,.5))\n",
    "cdf = t.aggregate(hl.agg.approx_cdf(t.k, k=350))\n",
    "y = np.array(cdf.ranks[1:-1]) / cdf.ranks[-1]\n",
    "x = np.array(cdf.values[1:-1])\n",
    "min_x = cdf.values[0]\n",
    "max_x = cdf.values[-1]\n",
    "min_e = np.max(y[1:] - y[:-1]) / 2.0\n",
    "\n",
    "p = figure(y_range=(0, .3))\n",
    "new_y, keep = f(min_x, max_x, x, y, min_e)\n",
    "slopes = np.diff([0, *new_y[keep], 1]) / np.diff([cdf.values[0], *x[keep], cdf.values[-1]])\n",
    "q = p.quad(left=[cdf.values[0], *x[keep]], right=[*x[keep], cdf.values[-1]], bottom=0, top=slopes)\n",
    "x_d = np.linspace(0, 15, 1000)\n",
    "p.line(x=x_d, y=gamma.pdf(x_d, 9, scale=.5), color='green', line_width=2)\n",
    "\n",
    "def update(smoothing=.00085):\n",
    "    new_y, keep = f(min_x, max_x, x, y, smoothing)\n",
    "    slopes = np.diff([0, *new_y[keep], 1]) / np.diff([cdf.values[0], *x[keep], cdf.values[-1]])\n",
    "    new_data = {'left': [cdf.values[0], *x[keep]], 'right': [*x[keep], cdf.values[-1]], 'bottom': np.full(len(slopes), 0), 'top': slopes}\n",
    "    q.data_source.data = new_data\n",
    "    push_notebook(handle)\n",
    "\n",
    "handle = show(p, notebook_handle=True)\n",
    "interact(update, smoothing=(min_e, .004, .00001))"
   ]
  },
  {
   "cell_type": "code",
   "execution_count": 13,
   "metadata": {},
   "outputs": [
    {
     "data": {
      "text/plain": [
       "(0.4999954887332761, 0.9979898027442625)"
      ]
     },
     "execution_count": 13,
     "metadata": {},
     "output_type": "execute_result"
    }
   ],
   "source": [
    "compute_errors(cdf)"
   ]
  },
  {
   "cell_type": "code",
   "execution_count": 8,
   "metadata": {},
   "outputs": [
    {
     "data": {
      "text/plain": [
       "[935645, 7031, 2351, 783, 275, 87, 39, 15, 6, 3, 0]"
      ]
     },
     "execution_count": 8,
     "metadata": {},
     "output_type": "execute_result"
    }
   ],
   "source": [
    "cdf._compaction_counts"
   ]
  },
  {
   "cell_type": "code",
   "execution_count": 16,
   "metadata": {},
   "outputs": [
    {
     "data": {
      "text/plain": [
       "0.00029410037573742863"
      ]
     },
     "execution_count": 16,
     "metadata": {},
     "output_type": "execute_result"
    }
   ],
   "source": [
    "delta = .01\n",
    "s = np.sum(np.arange(2*len(cdf._compaction_counts), step=2) * cdf._compaction_counts)\n",
    "eps = (1 / (np.sqrt(2) * cdf.ranks[-1])) * np.sqrt(np.log(2 / delta) * s)\n",
    "eps"
   ]
  },
  {
   "cell_type": "code",
   "execution_count": null,
   "metadata": {},
   "outputs": [],
   "source": []
  }
 ],
 "metadata": {
  "kernelspec": {
   "display_name": "Python 3",
   "language": "python",
   "name": "python3"
  },
  "language_info": {
   "codemirror_mode": {
    "name": "ipython",
    "version": 3
   },
   "file_extension": ".py",
   "mimetype": "text/x-python",
   "name": "python",
   "nbconvert_exporter": "python",
   "pygments_lexer": "ipython3",
   "version": "3.6.7"
  }
 },
 "nbformat": 4,
 "nbformat_minor": 2
}
