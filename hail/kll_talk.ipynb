{
 "cells": [
  {
   "cell_type": "code",
   "execution_count": 1,
   "metadata": {
    "slideshow": {
     "slide_type": "slide"
    }
   },
   "outputs": [
    {
     "data": {
      "text/html": [
       "\n",
       "    <div class=\"bk-root\">\n",
       "        <a href=\"https://bokeh.pydata.org\" target=\"_blank\" class=\"bk-logo bk-logo-small bk-logo-notebook\"></a>\n",
       "        <span id=\"12092ec9-ef76-4a40-8978-cf39303b2df1\">Loading BokehJS ...</span>\n",
       "    </div>"
      ]
     },
     "metadata": {},
     "output_type": "display_data"
    },
    {
     "data": {
      "application/javascript": [
       "\n",
       "(function(root) {\n",
       "  function now() {\n",
       "    return new Date();\n",
       "  }\n",
       "\n",
       "  var force = true;\n",
       "\n",
       "  if (typeof (root._bokeh_onload_callbacks) === \"undefined\" || force === true) {\n",
       "    root._bokeh_onload_callbacks = [];\n",
       "    root._bokeh_is_loading = undefined;\n",
       "  }\n",
       "\n",
       "  var JS_MIME_TYPE = 'application/javascript';\n",
       "  var HTML_MIME_TYPE = 'text/html';\n",
       "  var EXEC_MIME_TYPE = 'application/vnd.bokehjs_exec.v0+json';\n",
       "  var CLASS_NAME = 'output_bokeh rendered_html';\n",
       "\n",
       "  /**\n",
       "   * Render data to the DOM node\n",
       "   */\n",
       "  function render(props, node) {\n",
       "    var script = document.createElement(\"script\");\n",
       "    node.appendChild(script);\n",
       "  }\n",
       "\n",
       "  /**\n",
       "   * Handle when an output is cleared or removed\n",
       "   */\n",
       "  function handleClearOutput(event, handle) {\n",
       "    var cell = handle.cell;\n",
       "\n",
       "    var id = cell.output_area._bokeh_element_id;\n",
       "    var server_id = cell.output_area._bokeh_server_id;\n",
       "    // Clean up Bokeh references\n",
       "    if (id !== undefined) {\n",
       "      Bokeh.index[id].model.document.clear();\n",
       "      delete Bokeh.index[id];\n",
       "    }\n",
       "\n",
       "    if (server_id !== undefined) {\n",
       "      // Clean up Bokeh references\n",
       "      var cmd = \"from bokeh.io.state import curstate; print(curstate().uuid_to_server['\" + server_id + \"'].get_sessions()[0].document.roots[0]._id)\";\n",
       "      cell.notebook.kernel.execute(cmd, {\n",
       "        iopub: {\n",
       "          output: function(msg) {\n",
       "            var element_id = msg.content.text.trim();\n",
       "            Bokeh.index[element_id].model.document.clear();\n",
       "            delete Bokeh.index[element_id];\n",
       "          }\n",
       "        }\n",
       "      });\n",
       "      // Destroy server and session\n",
       "      var cmd = \"import bokeh.io.notebook as ion; ion.destroy_server('\" + server_id + \"')\";\n",
       "      cell.notebook.kernel.execute(cmd);\n",
       "    }\n",
       "  }\n",
       "\n",
       "  /**\n",
       "   * Handle when a new output is added\n",
       "   */\n",
       "  function handleAddOutput(event, handle) {\n",
       "    var output_area = handle.output_area;\n",
       "    var output = handle.output;\n",
       "\n",
       "    // limit handleAddOutput to display_data with EXEC_MIME_TYPE content only\n",
       "    if ((output.output_type != \"display_data\") || (!output.data.hasOwnProperty(EXEC_MIME_TYPE))) {\n",
       "      return\n",
       "    }\n",
       "\n",
       "    var toinsert = output_area.element.find(\".\" + CLASS_NAME.split(' ')[0]);\n",
       "\n",
       "    if (output.metadata[EXEC_MIME_TYPE][\"id\"] !== undefined) {\n",
       "      toinsert[0].firstChild.textContent = output.data[JS_MIME_TYPE];\n",
       "      // store reference to embed id on output_area\n",
       "      output_area._bokeh_element_id = output.metadata[EXEC_MIME_TYPE][\"id\"];\n",
       "    }\n",
       "    if (output.metadata[EXEC_MIME_TYPE][\"server_id\"] !== undefined) {\n",
       "      var bk_div = document.createElement(\"div\");\n",
       "      bk_div.innerHTML = output.data[HTML_MIME_TYPE];\n",
       "      var script_attrs = bk_div.children[0].attributes;\n",
       "      for (var i = 0; i < script_attrs.length; i++) {\n",
       "        toinsert[0].firstChild.setAttribute(script_attrs[i].name, script_attrs[i].value);\n",
       "      }\n",
       "      // store reference to server id on output_area\n",
       "      output_area._bokeh_server_id = output.metadata[EXEC_MIME_TYPE][\"server_id\"];\n",
       "    }\n",
       "  }\n",
       "\n",
       "  function register_renderer(events, OutputArea) {\n",
       "\n",
       "    function append_mime(data, metadata, element) {\n",
       "      // create a DOM node to render to\n",
       "      var toinsert = this.create_output_subarea(\n",
       "        metadata,\n",
       "        CLASS_NAME,\n",
       "        EXEC_MIME_TYPE\n",
       "      );\n",
       "      this.keyboard_manager.register_events(toinsert);\n",
       "      // Render to node\n",
       "      var props = {data: data, metadata: metadata[EXEC_MIME_TYPE]};\n",
       "      render(props, toinsert[0]);\n",
       "      element.append(toinsert);\n",
       "      return toinsert\n",
       "    }\n",
       "\n",
       "    /* Handle when an output is cleared or removed */\n",
       "    events.on('clear_output.CodeCell', handleClearOutput);\n",
       "    events.on('delete.Cell', handleClearOutput);\n",
       "\n",
       "    /* Handle when a new output is added */\n",
       "    events.on('output_added.OutputArea', handleAddOutput);\n",
       "\n",
       "    /**\n",
       "     * Register the mime type and append_mime function with output_area\n",
       "     */\n",
       "    OutputArea.prototype.register_mime_type(EXEC_MIME_TYPE, append_mime, {\n",
       "      /* Is output safe? */\n",
       "      safe: true,\n",
       "      /* Index of renderer in `output_area.display_order` */\n",
       "      index: 0\n",
       "    });\n",
       "  }\n",
       "\n",
       "  // register the mime type if in Jupyter Notebook environment and previously unregistered\n",
       "  if (root.Jupyter !== undefined) {\n",
       "    var events = require('base/js/events');\n",
       "    var OutputArea = require('notebook/js/outputarea').OutputArea;\n",
       "\n",
       "    if (OutputArea.prototype.mime_types().indexOf(EXEC_MIME_TYPE) == -1) {\n",
       "      register_renderer(events, OutputArea);\n",
       "    }\n",
       "  }\n",
       "\n",
       "  \n",
       "  if (typeof (root._bokeh_timeout) === \"undefined\" || force === true) {\n",
       "    root._bokeh_timeout = Date.now() + 5000;\n",
       "    root._bokeh_failed_load = false;\n",
       "  }\n",
       "\n",
       "  var NB_LOAD_WARNING = {'data': {'text/html':\n",
       "     \"<div style='background-color: #fdd'>\\n\"+\n",
       "     \"<p>\\n\"+\n",
       "     \"BokehJS does not appear to have successfully loaded. If loading BokehJS from CDN, this \\n\"+\n",
       "     \"may be due to a slow or bad network connection. Possible fixes:\\n\"+\n",
       "     \"</p>\\n\"+\n",
       "     \"<ul>\\n\"+\n",
       "     \"<li>re-rerun `output_notebook()` to attempt to load from CDN again, or</li>\\n\"+\n",
       "     \"<li>use INLINE resources instead, as so:</li>\\n\"+\n",
       "     \"</ul>\\n\"+\n",
       "     \"<code>\\n\"+\n",
       "     \"from bokeh.resources import INLINE\\n\"+\n",
       "     \"output_notebook(resources=INLINE)\\n\"+\n",
       "     \"</code>\\n\"+\n",
       "     \"</div>\"}};\n",
       "\n",
       "  function display_loaded() {\n",
       "    var el = document.getElementById(\"12092ec9-ef76-4a40-8978-cf39303b2df1\");\n",
       "    if (el != null) {\n",
       "      el.textContent = \"BokehJS is loading...\";\n",
       "    }\n",
       "    if (root.Bokeh !== undefined) {\n",
       "      if (el != null) {\n",
       "        el.textContent = \"BokehJS \" + root.Bokeh.version + \" successfully loaded.\";\n",
       "      }\n",
       "    } else if (Date.now() < root._bokeh_timeout) {\n",
       "      setTimeout(display_loaded, 100)\n",
       "    }\n",
       "  }\n",
       "\n",
       "\n",
       "  function run_callbacks() {\n",
       "    try {\n",
       "      root._bokeh_onload_callbacks.forEach(function(callback) { callback() });\n",
       "    }\n",
       "    finally {\n",
       "      delete root._bokeh_onload_callbacks\n",
       "    }\n",
       "    console.info(\"Bokeh: all callbacks have finished\");\n",
       "  }\n",
       "\n",
       "  function load_libs(js_urls, callback) {\n",
       "    root._bokeh_onload_callbacks.push(callback);\n",
       "    if (root._bokeh_is_loading > 0) {\n",
       "      console.log(\"Bokeh: BokehJS is being loaded, scheduling callback at\", now());\n",
       "      return null;\n",
       "    }\n",
       "    if (js_urls == null || js_urls.length === 0) {\n",
       "      run_callbacks();\n",
       "      return null;\n",
       "    }\n",
       "    console.log(\"Bokeh: BokehJS not loaded, scheduling load and callback at\", now());\n",
       "    root._bokeh_is_loading = js_urls.length;\n",
       "    for (var i = 0; i < js_urls.length; i++) {\n",
       "      var url = js_urls[i];\n",
       "      var s = document.createElement('script');\n",
       "      s.src = url;\n",
       "      s.async = false;\n",
       "      s.onreadystatechange = s.onload = function() {\n",
       "        root._bokeh_is_loading--;\n",
       "        if (root._bokeh_is_loading === 0) {\n",
       "          console.log(\"Bokeh: all BokehJS libraries loaded\");\n",
       "          run_callbacks()\n",
       "        }\n",
       "      };\n",
       "      s.onerror = function() {\n",
       "        console.warn(\"failed to load library \" + url);\n",
       "      };\n",
       "      console.log(\"Bokeh: injecting script tag for BokehJS library: \", url);\n",
       "      document.getElementsByTagName(\"head\")[0].appendChild(s);\n",
       "    }\n",
       "  };var element = document.getElementById(\"12092ec9-ef76-4a40-8978-cf39303b2df1\");\n",
       "  if (element == null) {\n",
       "    console.log(\"Bokeh: ERROR: autoload.js configured with elementid '12092ec9-ef76-4a40-8978-cf39303b2df1' but no matching script tag was found. \")\n",
       "    return false;\n",
       "  }\n",
       "\n",
       "  var js_urls = [\"https://cdn.pydata.org/bokeh/release/bokeh-0.12.13.min.js\", \"https://cdn.pydata.org/bokeh/release/bokeh-widgets-0.12.13.min.js\", \"https://cdn.pydata.org/bokeh/release/bokeh-tables-0.12.13.min.js\", \"https://cdn.pydata.org/bokeh/release/bokeh-gl-0.12.13.min.js\"];\n",
       "\n",
       "  var inline_js = [\n",
       "    function(Bokeh) {\n",
       "      Bokeh.set_log_level(\"info\");\n",
       "    },\n",
       "    \n",
       "    function(Bokeh) {\n",
       "      \n",
       "    },\n",
       "    function(Bokeh) {\n",
       "      console.log(\"Bokeh: injecting CSS: https://cdn.pydata.org/bokeh/release/bokeh-0.12.13.min.css\");\n",
       "      Bokeh.embed.inject_css(\"https://cdn.pydata.org/bokeh/release/bokeh-0.12.13.min.css\");\n",
       "      console.log(\"Bokeh: injecting CSS: https://cdn.pydata.org/bokeh/release/bokeh-widgets-0.12.13.min.css\");\n",
       "      Bokeh.embed.inject_css(\"https://cdn.pydata.org/bokeh/release/bokeh-widgets-0.12.13.min.css\");\n",
       "      console.log(\"Bokeh: injecting CSS: https://cdn.pydata.org/bokeh/release/bokeh-tables-0.12.13.min.css\");\n",
       "      Bokeh.embed.inject_css(\"https://cdn.pydata.org/bokeh/release/bokeh-tables-0.12.13.min.css\");\n",
       "    }\n",
       "  ];\n",
       "\n",
       "  function run_inline_js() {\n",
       "    \n",
       "    if ((root.Bokeh !== undefined) || (force === true)) {\n",
       "      for (var i = 0; i < inline_js.length; i++) {\n",
       "        inline_js[i].call(root, root.Bokeh);\n",
       "      }if (force === true) {\n",
       "        display_loaded();\n",
       "      }} else if (Date.now() < root._bokeh_timeout) {\n",
       "      setTimeout(run_inline_js, 100);\n",
       "    } else if (!root._bokeh_failed_load) {\n",
       "      console.log(\"Bokeh: BokehJS failed to load within specified timeout.\");\n",
       "      root._bokeh_failed_load = true;\n",
       "    } else if (force !== true) {\n",
       "      var cell = $(document.getElementById(\"12092ec9-ef76-4a40-8978-cf39303b2df1\")).parents('.cell').data().cell;\n",
       "      cell.output_area.append_execute_result(NB_LOAD_WARNING)\n",
       "    }\n",
       "\n",
       "  }\n",
       "\n",
       "  if (root._bokeh_is_loading === 0) {\n",
       "    console.log(\"Bokeh: BokehJS loaded, going straight to plotting\");\n",
       "    run_inline_js();\n",
       "  } else {\n",
       "    load_libs(js_urls, function() {\n",
       "      console.log(\"Bokeh: BokehJS plotting callback run at\", now());\n",
       "      run_inline_js();\n",
       "    });\n",
       "  }\n",
       "}(window));"
      ],
      "application/vnd.bokehjs_load.v0+json": "\n(function(root) {\n  function now() {\n    return new Date();\n  }\n\n  var force = true;\n\n  if (typeof (root._bokeh_onload_callbacks) === \"undefined\" || force === true) {\n    root._bokeh_onload_callbacks = [];\n    root._bokeh_is_loading = undefined;\n  }\n\n  \n\n  \n  if (typeof (root._bokeh_timeout) === \"undefined\" || force === true) {\n    root._bokeh_timeout = Date.now() + 5000;\n    root._bokeh_failed_load = false;\n  }\n\n  var NB_LOAD_WARNING = {'data': {'text/html':\n     \"<div style='background-color: #fdd'>\\n\"+\n     \"<p>\\n\"+\n     \"BokehJS does not appear to have successfully loaded. If loading BokehJS from CDN, this \\n\"+\n     \"may be due to a slow or bad network connection. Possible fixes:\\n\"+\n     \"</p>\\n\"+\n     \"<ul>\\n\"+\n     \"<li>re-rerun `output_notebook()` to attempt to load from CDN again, or</li>\\n\"+\n     \"<li>use INLINE resources instead, as so:</li>\\n\"+\n     \"</ul>\\n\"+\n     \"<code>\\n\"+\n     \"from bokeh.resources import INLINE\\n\"+\n     \"output_notebook(resources=INLINE)\\n\"+\n     \"</code>\\n\"+\n     \"</div>\"}};\n\n  function display_loaded() {\n    var el = document.getElementById(\"12092ec9-ef76-4a40-8978-cf39303b2df1\");\n    if (el != null) {\n      el.textContent = \"BokehJS is loading...\";\n    }\n    if (root.Bokeh !== undefined) {\n      if (el != null) {\n        el.textContent = \"BokehJS \" + root.Bokeh.version + \" successfully loaded.\";\n      }\n    } else if (Date.now() < root._bokeh_timeout) {\n      setTimeout(display_loaded, 100)\n    }\n  }\n\n\n  function run_callbacks() {\n    try {\n      root._bokeh_onload_callbacks.forEach(function(callback) { callback() });\n    }\n    finally {\n      delete root._bokeh_onload_callbacks\n    }\n    console.info(\"Bokeh: all callbacks have finished\");\n  }\n\n  function load_libs(js_urls, callback) {\n    root._bokeh_onload_callbacks.push(callback);\n    if (root._bokeh_is_loading > 0) {\n      console.log(\"Bokeh: BokehJS is being loaded, scheduling callback at\", now());\n      return null;\n    }\n    if (js_urls == null || js_urls.length === 0) {\n      run_callbacks();\n      return null;\n    }\n    console.log(\"Bokeh: BokehJS not loaded, scheduling load and callback at\", now());\n    root._bokeh_is_loading = js_urls.length;\n    for (var i = 0; i < js_urls.length; i++) {\n      var url = js_urls[i];\n      var s = document.createElement('script');\n      s.src = url;\n      s.async = false;\n      s.onreadystatechange = s.onload = function() {\n        root._bokeh_is_loading--;\n        if (root._bokeh_is_loading === 0) {\n          console.log(\"Bokeh: all BokehJS libraries loaded\");\n          run_callbacks()\n        }\n      };\n      s.onerror = function() {\n        console.warn(\"failed to load library \" + url);\n      };\n      console.log(\"Bokeh: injecting script tag for BokehJS library: \", url);\n      document.getElementsByTagName(\"head\")[0].appendChild(s);\n    }\n  };var element = document.getElementById(\"12092ec9-ef76-4a40-8978-cf39303b2df1\");\n  if (element == null) {\n    console.log(\"Bokeh: ERROR: autoload.js configured with elementid '12092ec9-ef76-4a40-8978-cf39303b2df1' but no matching script tag was found. \")\n    return false;\n  }\n\n  var js_urls = [\"https://cdn.pydata.org/bokeh/release/bokeh-0.12.13.min.js\", \"https://cdn.pydata.org/bokeh/release/bokeh-widgets-0.12.13.min.js\", \"https://cdn.pydata.org/bokeh/release/bokeh-tables-0.12.13.min.js\", \"https://cdn.pydata.org/bokeh/release/bokeh-gl-0.12.13.min.js\"];\n\n  var inline_js = [\n    function(Bokeh) {\n      Bokeh.set_log_level(\"info\");\n    },\n    \n    function(Bokeh) {\n      \n    },\n    function(Bokeh) {\n      console.log(\"Bokeh: injecting CSS: https://cdn.pydata.org/bokeh/release/bokeh-0.12.13.min.css\");\n      Bokeh.embed.inject_css(\"https://cdn.pydata.org/bokeh/release/bokeh-0.12.13.min.css\");\n      console.log(\"Bokeh: injecting CSS: https://cdn.pydata.org/bokeh/release/bokeh-widgets-0.12.13.min.css\");\n      Bokeh.embed.inject_css(\"https://cdn.pydata.org/bokeh/release/bokeh-widgets-0.12.13.min.css\");\n      console.log(\"Bokeh: injecting CSS: https://cdn.pydata.org/bokeh/release/bokeh-tables-0.12.13.min.css\");\n      Bokeh.embed.inject_css(\"https://cdn.pydata.org/bokeh/release/bokeh-tables-0.12.13.min.css\");\n    }\n  ];\n\n  function run_inline_js() {\n    \n    if ((root.Bokeh !== undefined) || (force === true)) {\n      for (var i = 0; i < inline_js.length; i++) {\n        inline_js[i].call(root, root.Bokeh);\n      }if (force === true) {\n        display_loaded();\n      }} else if (Date.now() < root._bokeh_timeout) {\n      setTimeout(run_inline_js, 100);\n    } else if (!root._bokeh_failed_load) {\n      console.log(\"Bokeh: BokehJS failed to load within specified timeout.\");\n      root._bokeh_failed_load = true;\n    } else if (force !== true) {\n      var cell = $(document.getElementById(\"12092ec9-ef76-4a40-8978-cf39303b2df1\")).parents('.cell').data().cell;\n      cell.output_area.append_execute_result(NB_LOAD_WARNING)\n    }\n\n  }\n\n  if (root._bokeh_is_loading === 0) {\n    console.log(\"Bokeh: BokehJS loaded, going straight to plotting\");\n    run_inline_js();\n  } else {\n    load_libs(js_urls, function() {\n      console.log(\"Bokeh: BokehJS plotting callback run at\", now());\n      run_inline_js();\n    });\n  }\n}(window));"
     },
     "metadata": {},
     "output_type": "display_data"
    }
   ],
   "source": [
    "import numpy as np\n",
    "from scipy.stats import gaussian_kde, gamma, beta, gmean, norm\n",
    "import pprint\n",
    "from bokeh.plotting import figure, show\n",
    "from bokeh.io import push_notebook\n",
    "from bokeh.models import ColumnDataSource, HoverTool\n",
    "from ipywidgets import interact\n",
    "import hail as hl\n",
    "hl.plot.output_notebook()"
   ]
  },
  {
   "cell_type": "code",
   "execution_count": null,
   "metadata": {},
   "outputs": [],
   "source": [
    "import plotly.plotly as py\n",
    "from plotly.offline import iplot, init_notebook_mode\n",
    "import plotly.graph_objs as go\n",
    "init_notebook_mode(connected=True)"
   ]
  },
  {
   "cell_type": "code",
   "execution_count": null,
   "metadata": {},
   "outputs": [],
   "source": [
    "mt = hl.utils.range_matrix_table(100000, 100, n_partitions=1)\n",
    "mt = mt.annotate_entries(k = mt.col_idx).cache()"
   ]
  },
  {
   "cell_type": "code",
   "execution_count": null,
   "metadata": {},
   "outputs": [],
   "source": [
    "mt2 = mt.annotate_rows(med = hl.agg.approx_quantiles(mt.k, 0.5))\n",
    "%timeit mt2.aggregate_rows(hl.agg.mean(mt2.med))"
   ]
  },
  {
   "cell_type": "code",
   "execution_count": null,
   "metadata": {},
   "outputs": [],
   "source": [
    "t = hl.utils.range_table(100000, n_partitions=1)\n",
    "t = t.annotate(array = hl.range(0, 100)).cache()"
   ]
  },
  {
   "cell_type": "code",
   "execution_count": null,
   "metadata": {},
   "outputs": [],
   "source": [
    "t2 = t.annotate(med = hl.median(t.array))\n",
    "%timeit t2.aggregate(hl.agg.mean(t2.med))"
   ]
  },
  {
   "cell_type": "code",
   "execution_count": null,
   "metadata": {},
   "outputs": [],
   "source": [
    "t = hl.utils.range_table(10000000, n_partitions=8)\n",
    "t = t.annotate(k = hl.rand_gamma(9,.5))\n",
    "data = t.aggregate(hl.agg.approx_cdf(t.k, k=50))\n",
    "\n",
    "p = [go.Scatter(x = [*data.values, data.values[-1]], y = data.ranks, mode = 'lines', line=dict(shape='hv'))]\n",
    "iplot(p)"
   ]
  },
  {
   "cell_type": "markdown",
   "metadata": {},
   "source": [
    "New `hl.plot.cdf` and `hl.plot.pdf` aim to be easy to use black boxes."
   ]
  },
  {
   "cell_type": "code",
   "execution_count": null,
   "metadata": {
    "slideshow": {
     "slide_type": "slide"
    }
   },
   "outputs": [],
   "source": [
    "t = hl.utils.range_table(10000000, n_partitions=8)\n",
    "t = t.annotate(k = hl.rand_gamma(9,.5))\n",
    "\n",
    "hl.plot.show(hl.plot.cdf(t.k))"
   ]
  },
  {
   "cell_type": "code",
   "execution_count": null,
   "metadata": {},
   "outputs": [],
   "source": [
    "p = hl.plot.cdf(t.k, k=50)\n",
    "x_d = np.linspace(0, 15, 1000)\n",
    "p.line(x=x_d, y=gamma.cdf(x_d, 9, scale=.5), color='green', line_width=2)\n",
    "hl.plot.show(p)"
   ]
  },
  {
   "cell_type": "code",
   "execution_count": null,
   "metadata": {},
   "outputs": [],
   "source": [
    "(p, i) = hl.plot.pdf(t.k, interactive=True)\n",
    "hl.plot.show(p, interact=i)"
   ]
  },
  {
   "cell_type": "markdown",
   "metadata": {},
   "source": [
    "Rather than passing a Hail expression like `t.k` to the plotting functions, you can also perform the `hl.agg.approx_cdf` aggregation yourself, and pass the result to `hl.plot.{cdf, pdf, histogram}`."
   ]
  },
  {
   "cell_type": "code",
   "execution_count": null,
   "metadata": {},
   "outputs": [],
   "source": [
    "data = t.aggregate(hl.agg.approx_cdf(t.k, k=350))\n",
    "print(len(data.values))\n",
    "(p, i) = hl.plot.pdf(data, interactive=True)\n",
    "x_d = np.linspace(data.values[0], data.values[-1], 1000)\n",
    "p.line(x=x_d, y=gamma.pdf(x_d, 9, scale=.5), color='green', line_width=2)\n",
    "hl.plot.show(p, interact=i)"
   ]
  },
  {
   "cell_type": "markdown",
   "metadata": {},
   "source": [
    "The PDF is smoothing using a variable bandwidth kernel density estimator. For comparison, here is a fixed bandwidth estimator."
   ]
  },
  {
   "cell_type": "code",
   "execution_count": null,
   "metadata": {},
   "outputs": [],
   "source": [
    "from scipy.stats import gaussian_kde\n",
    "values = np.array(data.values)\n",
    "weights = np.diff(data.ranks)\n",
    "kde = gaussian_kde(values, .05, weights)\n",
    "x_d = np.linspace(values[0], values[-1], 1000)\n",
    "p = figure()\n",
    "p.line(x=x_d, y=gamma.pdf(x_d, 9, scale=.5), color='green', line_width=2)\n",
    "l = p.line(x_d, kde(x_d), line_width=2, line_color='black')\n",
    "\n",
    "handle = show(p, notebook_handle=True)\n",
    "\n",
    "def update(smoothing=.05):\n",
    "    kde = gaussian_kde(values, smoothing, weights)\n",
    "    l.data_source.data = {'x': x_d, 'y': kde(x_d)}\n",
    "    push_notebook(handle)\n",
    "    \n",
    "interact(update, smoothing=(.001, .2, .0005))"
   ]
  },
  {
   "cell_type": "markdown",
   "metadata": {},
   "source": [
    "Finally, without any smoothing..."
   ]
  },
  {
   "cell_type": "code",
   "execution_count": null,
   "metadata": {},
   "outputs": [],
   "source": [
    "data = t.aggregate(hl.agg.approx_cdf(t.k, k=350))\n",
    "p = figure()\n",
    "hist, edges = np.histogram(data.values, data.values, weights=np.diff(data.ranks), density=True)\n",
    "p.quad(bottom=0, top=hist, left=edges[:-1], right=edges[1:])\n",
    "x_d = np.linspace(data.values[0], data.values[-1], 1000)\n",
    "p.line(x=x_d, y=gamma.pdf(x_d, 9, scale=.5), color='green', line_width=2)\n",
    "show(p)"
   ]
  },
  {
   "cell_type": "code",
   "execution_count": null,
   "metadata": {},
   "outputs": [],
   "source": [
    "hl.plot.show(hl.plot.histogram(t.k))"
   ]
  },
  {
   "cell_type": "code",
   "execution_count": null,
   "metadata": {},
   "outputs": [],
   "source": [
    "(p, i) = hl.plot.histogram(data, interactive=True)\n",
    "hl.plot.show(p, interact=i)"
   ]
  },
  {
   "cell_type": "markdown",
   "metadata": {},
   "source": [
    "A demonstration of the improvement over sampling:"
   ]
  },
  {
   "cell_type": "code",
   "execution_count": null,
   "metadata": {},
   "outputs": [],
   "source": [
    "n = 100000\n",
    "t = hl.utils.range_table(n, n_partitions=8)\n",
    "t = t.annotate(k = hl.rand_gamma(9,.5), s = hl.rand_unif(0, 1))\n",
    "t = t.key_by(t.s)\n",
    "\n",
    "samp_size = 2000\n",
    "sample = t.aggregate(hl.agg.take(t.k, samp_size))\n",
    "\n",
    "weights = np.full(samp_size, n / samp_size)\n",
    "values = np.array(sample)\n",
    "slope = 1 / 15\n",
    "\n",
    "smoothing = .5\n",
    "\n",
    "def f(x, prev, smoothing=smoothing):\n",
    "    inv_scale = (np.sqrt(n * slope) / smoothing) * np.sqrt(prev / weights)\n",
    "    diff = x[:, np.newaxis] - values\n",
    "    grid = (3 / (4 * n)) * weights * np.maximum(0, inv_scale - np.power(diff, 2) * np.power(inv_scale, 3))\n",
    "    return np.sum(grid, axis=1)\n",
    "\n",
    "round1 = f(values, np.full(len(values), slope))\n",
    "x_d = np.linspace(0, 15, 1000)\n",
    "final = f(x_d, round1)\n",
    "\n",
    "p = figure()\n",
    "l = p.line(x_d, final, line_width=2, line_color='black')\n",
    "\n",
    "handle = show(p, notebook_handle=True)\n",
    "\n",
    "def update(smoothing=smoothing):\n",
    "    final = f(x_d, round1, smoothing)\n",
    "    l.data_source.data = {'x': x_d, 'y': final}\n",
    "    push_notebook(handle)\n",
    "    \n",
    "interact(update, smoothing=(.02, .8, .005))"
   ]
  },
  {
   "cell_type": "markdown",
   "metadata": {},
   "source": [
    "This function computes the Kolmogorov-Smirnov divergence and the total variation distance between the aproximated CDF and the true one, assuming a uniform distribution."
   ]
  },
  {
   "cell_type": "code",
   "execution_count": null,
   "metadata": {},
   "outputs": [],
   "source": [
    "def compute_errors(cdf):\n",
    "    values = np.array(cdf['values'])\n",
    "    ranks = np.array(cdf['ranks'])\n",
    "    n = ranks[-1]\n",
    "    grid = np.linspace(0, n, 500, endpoint=False).astype('int')[1:]\n",
    "    if grid[-1] == n:\n",
    "        grid[-1] = n - 1\n",
    "    indices = np.searchsorted(ranks, grid)\n",
    "    \n",
    "    errors = np.abs(values[indices] - grid)\n",
    "    return (np.mean(errors) / n, np.max(errors) / n)"
   ]
  },
  {
   "cell_type": "code",
   "execution_count": null,
   "metadata": {},
   "outputs": [],
   "source": [
    "t = hl.utils.range_table(10 ** 6, n_partitions=8)\n",
    "t = t.annotate(k = hl.rand_unif(0, 1))\n",
    "t = t.key_by(t.k).cache()"
   ]
  },
  {
   "cell_type": "code",
   "execution_count": null,
   "metadata": {},
   "outputs": [],
   "source": [
    "cdf = t.aggregate(hl.agg.approx_cdf(t.idx, k=350))\n",
    "\n",
    "(avg, max) = compute_errors(cdf)\n",
    "print(f\"avg error: {avg}\")\n",
    "print(f\"max error: {max}\")\n",
    "print(f\"sample size: {len(cdf.values)}\")\n",
    "print(f\"space(MB): {len(cdf.values) * 4 / (2 ** 20)}\")"
   ]
  },
  {
   "cell_type": "code",
   "execution_count": null,
   "metadata": {},
   "outputs": [],
   "source": [
    "samp_size = 2000\n",
    "sample = t.aggregate(hl.agg.take(t.idx, samp_size))\n",
    "cdf = {'values': np.sort(sample), 'ranks': np.linspace(0, 1000000, samp_size)}\n",
    "(avg, max) = compute_errors(cdf)\n",
    "print(f\"avg error: {avg}\")\n",
    "print(f\"max error: {max}\")\n",
    "print(f\"sample size: {samp_size}\")"
   ]
  },
  {
   "cell_type": "code",
   "execution_count": null,
   "metadata": {
    "scrolled": true
   },
   "outputs": [],
   "source": [
    "from bokeh.models import HoverTool\n",
    "p = figure(\n",
    "    y_axis_label='Avg. Error',\n",
    "    y_axis_type='log',\n",
    "    x_axis_label='Space(MB)',\n",
    "    x_axis_type='log')\n",
    "kll_sizes = [10, 31, 100, 316, 1000, 3160, 10000]\n",
    "reps = 5\n",
    "cdfs = [[t.aggregate(hl.agg.approx_cdf(t.idx, size)) for i in range(reps)] for size in kll_sizes]\n",
    "kll_space = [len(cdf[0].values) * 4 / (2 ** 20) for cdf in cdfs]\n",
    "kll_avg_err = [np.mean([compute_errors(cdf[i])[0] for i in range(reps)]) for cdf in cdfs]\n",
    "p.circle(\n",
    "    x = kll_space,\n",
    "    y = kll_avg_err,\n",
    "    legend = 'KLL',\n",
    "    color= 'red',\n",
    "    size = 7)\n",
    "p.line(x = kll_space, y = kll_avg_err, color = 'red')\n",
    "mrl_space =   [.00044, .00085, .002, .015,  .035,  .222]\n",
    "mrl_avg_err = [.0148,  .01,    .004, .0005, .00026, .000027]\n",
    "p.circle(\n",
    "    x = mrl_space,\n",
    "    y = mrl_avg_err,\n",
    "    legend = 'MRL',\n",
    "    color='green',\n",
    "    size = 7)\n",
    "p.line(x = mrl_space, y = mrl_avg_err, color = 'green')\n",
    "p.add_tools(HoverTool(tooltips=[(\"size\", \"$x\"), (\"err\", \"$y\")], mode='vline'))\n",
    "show(p)"
   ]
  },
  {
   "cell_type": "code",
   "execution_count": null,
   "metadata": {},
   "outputs": [],
   "source": [
    "p = figure(\n",
    "    y_axis_label='sample size',\n",
    "    y_axis_type='log',\n",
    "    x_axis_label='1/error',\n",
    "    x_axis_type='log')\n",
    "sample_sizes = [100, 316, 1000, 3160, 10000, 31600, 100000]\n",
    "p.circle(\n",
    "    x = [1 / compute_errors({'values': np.sort(t.aggregate(hl.agg.take(t.idx, size))), 'ranks': np.linspace(0, 1000000, size)})[1] for size in sample_sizes],\n",
    "    y = sample_sizes,\n",
    "    legend = 'sampling',\n",
    "    size = 10)\n",
    "kll_sizes = [10, 31, 100, 316, 1000, 3160, 10000]\n",
    "cdfs = [t.aggregate(hl.agg.approx_cdf(t.idx, size)) for size in kll_sizes]\n",
    "p.circle(\n",
    "    x = [1 / compute_errors(cdf)[1] for cdf in cdfs],\n",
    "    y = [len(cdf.values) for cdf in cdfs],\n",
    "    legend = 'KLL',\n",
    "    color='green',\n",
    "    size = 10)\n",
    "show(p)"
   ]
  },
  {
   "cell_type": "code",
   "execution_count": null,
   "metadata": {},
   "outputs": [],
   "source": [
    "t = t = hl.utils.range_table(1000000, n_partitions=8)\n",
    "t = t.annotate(k = hl.rand_unif(0, 1))\n",
    "%timeit t.aggregate(hl.agg.approx_cdf(t.k))"
   ]
  },
  {
   "cell_type": "code",
   "execution_count": null,
   "metadata": {},
   "outputs": [],
   "source": [
    "t = t = hl.utils.range_table(1000000, n_partitions=8)\n",
    "t = t.annotate(k = hl.rand_unif(0, 1))\n",
    "%timeit t.aggregate(hl.agg.sum(t.k))"
   ]
  },
  {
   "cell_type": "code",
   "execution_count": null,
   "metadata": {},
   "outputs": [],
   "source": [
    "n = 1500000\n",
    "cn = [31504, 5691, 1899, 639, 217, 71, 28, 7, 3, 1]\n",
    "k = 8\n",
    "d = .0001\n",
    "c1 = np.sum([cn[l] * (2 ** (l - 1)) for l in range(len(cn))])\n",
    "c2 = np.sum([cn[l] * np.power((2 ** l) - (2 ** k), 2) for l in range(k + 1, len(cn))])\n",
    "c = c1 + c2\n",
    "b = (2 ** k) / 3\n",
    "e = b + np.sqrt(b * b - 2 * c / np.log(d))\n",
    "np.log(1 / d) * e / n"
   ]
  },
  {
   "cell_type": "code",
   "execution_count": null,
   "metadata": {},
   "outputs": [],
   "source": [
    "e = .0009479\n",
    "np.exp((-1 / 2) * np.power(e * n, 2) / (c +  e * n * b ))"
   ]
  },
  {
   "cell_type": "code",
   "execution_count": 2,
   "metadata": {},
   "outputs": [],
   "source": [
    "def compare(x1, y1, x2, y2):\n",
    "    return x1*y2 - x2*y1\n",
    "\n",
    "def f(min_x, max_x, x, y, e):\n",
    "    new_y = np.full_like(x, 0)\n",
    "    keep = np.full_like(x, False, dtype=np.bool_)\n",
    "    \n",
    "    e = e\n",
    "    fx = min_x\n",
    "    fy = 0\n",
    "    li = 0\n",
    "    ui = 0\n",
    "    ldx = x[0] - min_x\n",
    "    udx = ldx\n",
    "    ldy = y[1] - e\n",
    "    udy = y[0] + e\n",
    "    j = 1\n",
    "    # loop vars: li, ui, j, fx, fy, ldx, udx, ldy, udy\n",
    "    while ui < len(x) and li < len(x):\n",
    "        if j == len(x):\n",
    "            ub = 1\n",
    "            lb = 1\n",
    "            xj = max_x\n",
    "        else:     \n",
    "            ub = y[j] + e\n",
    "            lb = y[j+1] - e\n",
    "            xj = x[j]\n",
    "        dx = xj - fx\n",
    "        judy = ub - fy\n",
    "        jldy = lb - fy\n",
    "        if compare(ldx, ldy, dx, judy) < 0:\n",
    "            fx = x[li]\n",
    "            fy = y[li+1] - e\n",
    "            new_y[li] = fy\n",
    "            keep[li] = True\n",
    "            j = li + 1\n",
    "            if j >= len(x):\n",
    "                break\n",
    "            li = j\n",
    "            ldx = x[j] - fx\n",
    "            ldy = y[j+1] - e - fy\n",
    "            ui = j\n",
    "            udx = x[j] - fx\n",
    "            udy = y[j] + e - fy\n",
    "            j += 1\n",
    "            continue\n",
    "        elif compare(udx, udy, dx, jldy) > 0:\n",
    "            fx = x[ui]\n",
    "            fy = y[ui] + e\n",
    "            new_y[ui] = fy\n",
    "            keep[ui] = True\n",
    "            j = ui + 1\n",
    "            if j >= len(x):\n",
    "                break\n",
    "            li = j\n",
    "            ldx = x[j] - fx\n",
    "            ldy = y[j+1] - e - fy\n",
    "            ui = j\n",
    "            udx = x[j] - fx\n",
    "            udy = y[j] + e - fy\n",
    "            j += 1\n",
    "            continue\n",
    "        if j >= len(x):\n",
    "            break\n",
    "        if compare(udx, udy, dx, judy) < 0:\n",
    "            ui = j\n",
    "            udx = x[j] - fx\n",
    "            udy = y[j] + e - fy\n",
    "        if compare(ldx, ldy, dx, jldy) > 0:\n",
    "            li = j\n",
    "            ldx = x[j] - fx\n",
    "            ldy = y[j+1] - e - fy\n",
    "        j += 1\n",
    "    return new_y, keep"
   ]
  },
  {
   "cell_type": "code",
   "execution_count": null,
   "metadata": {},
   "outputs": [],
   "source": [
    "t = hl.utils.range_table(100000, n_partitions=8)\n",
    "t = t.annotate(k = hl.rand_gamma(9,.5))\n",
    "cdf = t.aggregate(hl.agg.approx_cdf(t.k, k=50))\n",
    "y = np.array(cdf.ranks[1:-1]) / cdf.ranks[-1]\n",
    "x = np.array(cdf.values[1:-1])\n",
    "min_x = cdf.values[0]\n",
    "max_x = cdf.values[-1]\n",
    "min_e = np.max(y[1:] - y[:-1]) / 2.0\n",
    "\n",
    "p = figure()\n",
    "c1 = p.circle(x=x, y=y[:-1]+min_e)\n",
    "c2 = p.circle(x=x, y=y[1:]-min_e, color='green')\n",
    "new_y, keep = f(min_x, max_x, x, y, min_e)\n",
    "c3 = p.circle(x=x[keep], y=new_y[keep], color='red')\n",
    "l = p.line(x=[cdf.values[0], *x[keep], cdf.values[-1]], y=[0, *new_y[keep], 1], line_width=2, color='black')\n",
    "\n",
    "p.add_tools(HoverTool(tooltips=[(\"index\", \"$index\"), (\"(x, y)\", \"($x, $y)\")]))\n",
    "\n",
    "def update(smoothing=min_e):\n",
    "    new_y, keep = f(min_x, max_x, x, y, smoothing)\n",
    "    new_data = {'x': [cdf.values[0], *x[keep], cdf.values[-1]], 'y': [0, *new_y[keep], 1]}\n",
    "    l.data_source.data = new_data\n",
    "    c1.data_source.data = {'x': x, 'y': y[:-1]+smoothing}\n",
    "    c2.data_source.data = {'x': x, 'y': y[1:]-smoothing}\n",
    "    c3.data_source.data = {'x': x[keep], 'y': new_y[keep]}\n",
    "    push_notebook(handle)\n",
    "\n",
    "handle = show(p, notebook_handle=True)\n",
    "interact(update, smoothing=(min_e, .05, .00001)), min_e"
   ]
  },
  {
   "cell_type": "code",
   "execution_count": 3,
   "metadata": {},
   "outputs": [
    {
     "name": "stderr",
     "output_type": "stream",
     "text": [
      "Initializing Spark and Hail with default parameters...\n",
      "Running on Apache Spark version 2.2.0\n",
      "SparkUI available at http://10.1.1.174:4040\n",
      "Welcome to\n",
      "     __  __     <>__\n",
      "    / /_/ /__  __/ /\n",
      "   / __  / _ `/ / /\n",
      "  /_/ /_/\\_,_/_/_/   version 0.2.12-7d0a46b5079b\n",
      "LOGGING: writing to /Users/pschulz/hail/hail/hail-20190412-0905-0.2.12-7d0a46b5079b.log\n"
     ]
    },
    {
     "data": {
      "text/html": [
       "\n",
       "<div class=\"bk-root\">\n",
       "    <div class=\"bk-plotdiv\" id=\"519b0096-836f-48b7-884e-38e51e9d1ae1\"></div>\n",
       "</div>"
      ]
     },
     "metadata": {},
     "output_type": "display_data"
    },
    {
     "data": {
      "application/javascript": [
       "(function(root) {\n",
       "  function embed_document(root) {\n",
       "    \n",
       "  var docs_json = {\"75c21145-e7a2-420c-9177-1b92cd0c01f9\":{\"roots\":{\"references\":[{\"attributes\":{\"data_source\":{\"id\":\"7083743d-4f0b-4634-a1ad-10892e54a6d7\",\"type\":\"ColumnDataSource\"},\"glyph\":{\"id\":\"7c1574f3-406f-467e-aeeb-30b66a856939\",\"type\":\"Line\"},\"hover_glyph\":null,\"muted_glyph\":null,\"nonselection_glyph\":{\"id\":\"dc17cb63-05b2-491f-bc9c-0dddc5ad151c\",\"type\":\"Line\"},\"selection_glyph\":null,\"view\":{\"id\":\"5408ec89-c59a-487c-a3fb-9e468018913f\",\"type\":\"CDSView\"}},\"id\":\"2e34e493-69fd-4d3a-ad8f-6494545d2f90\",\"type\":\"GlyphRenderer\"},{\"attributes\":{},\"id\":\"ea3a358c-d070-4ffb-8898-b92ddb315d88\",\"type\":\"PanTool\"},{\"attributes\":{},\"id\":\"6ce6dcc5-5f46-4daa-959d-940407f90383\",\"type\":\"WheelZoomTool\"},{\"attributes\":{\"data_source\":{\"id\":\"a53d9534-5a87-450d-bccb-d1d7a2f9c850\",\"type\":\"ColumnDataSource\"},\"glyph\":{\"id\":\"df6dcb66-37f9-4d72-abd3-bb720cd40808\",\"type\":\"Quad\"},\"hover_glyph\":null,\"muted_glyph\":null,\"nonselection_glyph\":{\"id\":\"afc863d0-b4f0-4149-bbc4-61aee733dc75\",\"type\":\"Quad\"},\"selection_glyph\":null,\"view\":{\"id\":\"c2219cc6-614b-45ab-aecf-220e498c396f\",\"type\":\"CDSView\"}},\"id\":\"58f848ab-d717-49db-9078-875dfe15c021\",\"type\":\"GlyphRenderer\"},{\"attributes\":{},\"id\":\"abed5257-436f-406b-95d6-9d73661101a9\",\"type\":\"BasicTickFormatter\"},{\"attributes\":{\"overlay\":{\"id\":\"372e8ea0-445c-4602-ba0c-22900994f7ba\",\"type\":\"BoxAnnotation\"}},\"id\":\"e60cfcbb-d7f5-472e-b9fd-c63f69798065\",\"type\":\"BoxZoomTool\"},{\"attributes\":{\"line_color\":\"green\",\"line_width\":2,\"x\":{\"field\":\"x\"},\"y\":{\"field\":\"y\"}},\"id\":\"7c1574f3-406f-467e-aeeb-30b66a856939\",\"type\":\"Line\"},{\"attributes\":{},\"id\":\"b2764a56-6884-463c-9f61-eb3f9239e5df\",\"type\":\"SaveTool\"},{\"attributes\":{},\"id\":\"c376e578-d968-4349-966b-a3dc202d258a\",\"type\":\"ResetTool\"},{\"attributes\":{\"plot\":{\"id\":\"67a8ec52-1c6b-4a4a-bba0-4a2ca67268f7\",\"subtype\":\"Figure\",\"type\":\"Plot\"},\"ticker\":{\"id\":\"41d2ff4e-15c3-490e-9024-d37c63a47110\",\"type\":\"BasicTicker\"}},\"id\":\"6e9abd69-a072-46d0-b6e4-56c4d10dce7b\",\"type\":\"Grid\"},{\"attributes\":{\"bottom_units\":\"screen\",\"fill_alpha\":{\"value\":0.5},\"fill_color\":{\"value\":\"lightgrey\"},\"left_units\":\"screen\",\"level\":\"overlay\",\"line_alpha\":{\"value\":1.0},\"line_color\":{\"value\":\"black\"},\"line_dash\":[4,4],\"line_width\":{\"value\":2},\"plot\":null,\"render_mode\":\"css\",\"right_units\":\"screen\",\"top_units\":\"screen\"},\"id\":\"372e8ea0-445c-4602-ba0c-22900994f7ba\",\"type\":\"BoxAnnotation\"},{\"attributes\":{\"callback\":null,\"end\":0.3},\"id\":\"be3dd27a-1c3c-41fd-9e7a-a473702e015d\",\"type\":\"Range1d\"},{\"attributes\":{},\"id\":\"a42d8751-ff0c-453c-8c3b-de0da9e475fc\",\"type\":\"HelpTool\"},{\"attributes\":{\"dimension\":1,\"plot\":{\"id\":\"67a8ec52-1c6b-4a4a-bba0-4a2ca67268f7\",\"subtype\":\"Figure\",\"type\":\"Plot\"},\"ticker\":{\"id\":\"16f2ab9c-eabd-4bb6-922a-16bc526b6482\",\"type\":\"BasicTicker\"}},\"id\":\"eac4a7a7-a8d8-4b90-91f0-eea7bb73da56\",\"type\":\"Grid\"},{\"attributes\":{\"bottom\":{\"value\":0},\"fill_color\":{\"value\":\"#1f77b4\"},\"left\":{\"field\":\"left\"},\"line_color\":{\"value\":\"#1f77b4\"},\"right\":{\"field\":\"right\"},\"top\":{\"field\":\"top\"}},\"id\":\"df6dcb66-37f9-4d72-abd3-bb720cd40808\",\"type\":\"Quad\"},{\"attributes\":{\"formatter\":{\"id\":\"a0c7df40-d1d1-47f2-b089-645cac59280c\",\"type\":\"BasicTickFormatter\"},\"plot\":{\"id\":\"67a8ec52-1c6b-4a4a-bba0-4a2ca67268f7\",\"subtype\":\"Figure\",\"type\":\"Plot\"},\"ticker\":{\"id\":\"41d2ff4e-15c3-490e-9024-d37c63a47110\",\"type\":\"BasicTicker\"}},\"id\":\"d942d09f-0192-4052-b057-0ad1219679dd\",\"type\":\"LinearAxis\"},{\"attributes\":{},\"id\":\"41d2ff4e-15c3-490e-9024-d37c63a47110\",\"type\":\"BasicTicker\"},{\"attributes\":{\"formatter\":{\"id\":\"abed5257-436f-406b-95d6-9d73661101a9\",\"type\":\"BasicTickFormatter\"},\"plot\":{\"id\":\"67a8ec52-1c6b-4a4a-bba0-4a2ca67268f7\",\"subtype\":\"Figure\",\"type\":\"Plot\"},\"ticker\":{\"id\":\"16f2ab9c-eabd-4bb6-922a-16bc526b6482\",\"type\":\"BasicTicker\"}},\"id\":\"cd7cbb45-5c36-4065-b292-c08e65b17873\",\"type\":\"LinearAxis\"},{\"attributes\":{},\"id\":\"14887775-4795-4b03-8199-fcbe673cb84b\",\"type\":\"LinearScale\"},{\"attributes\":{},\"id\":\"418d9db0-cf8f-47d4-8656-29757ba230cb\",\"type\":\"LinearScale\"},{\"attributes\":{\"bottom\":{\"value\":0},\"fill_alpha\":{\"value\":0.1},\"fill_color\":{\"value\":\"#1f77b4\"},\"left\":{\"field\":\"left\"},\"line_alpha\":{\"value\":0.1},\"line_color\":{\"value\":\"#1f77b4\"},\"right\":{\"field\":\"right\"},\"top\":{\"field\":\"top\"}},\"id\":\"afc863d0-b4f0-4149-bbc4-61aee733dc75\",\"type\":\"Quad\"},{\"attributes\":{\"plot\":null,\"text\":\"\"},\"id\":\"3662ed86-0fca-4e1f-95df-4d9150824735\",\"type\":\"Title\"},{\"attributes\":{\"source\":{\"id\":\"7083743d-4f0b-4634-a1ad-10892e54a6d7\",\"type\":\"ColumnDataSource\"}},\"id\":\"5408ec89-c59a-487c-a3fb-9e468018913f\",\"type\":\"CDSView\"},{\"attributes\":{},\"id\":\"16f2ab9c-eabd-4bb6-922a-16bc526b6482\",\"type\":\"BasicTicker\"},{\"attributes\":{\"callback\":null,\"column_names\":[\"x\",\"y\"],\"data\":{\"x\":{\"__ndarray__\":\"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\",\"dtype\":\"float64\",\"shape\":[1000]},\"y\":{\"__ndarray__\":\"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\",\"dtype\":\"float64\",\"shape\":[1000]}}},\"id\":\"7083743d-4f0b-4634-a1ad-10892e54a6d7\",\"type\":\"ColumnDataSource\"},{\"attributes\":{\"source\":{\"id\":\"a53d9534-5a87-450d-bccb-d1d7a2f9c850\",\"type\":\"ColumnDataSource\"}},\"id\":\"c2219cc6-614b-45ab-aecf-220e498c396f\",\"type\":\"CDSView\"},{\"attributes\":{\"line_alpha\":0.1,\"line_color\":\"#1f77b4\",\"line_width\":2,\"x\":{\"field\":\"x\"},\"y\":{\"field\":\"y\"}},\"id\":\"dc17cb63-05b2-491f-bc9c-0dddc5ad151c\",\"type\":\"Line\"},{\"attributes\":{\"below\":[{\"id\":\"d942d09f-0192-4052-b057-0ad1219679dd\",\"type\":\"LinearAxis\"}],\"left\":[{\"id\":\"cd7cbb45-5c36-4065-b292-c08e65b17873\",\"type\":\"LinearAxis\"}],\"renderers\":[{\"id\":\"d942d09f-0192-4052-b057-0ad1219679dd\",\"type\":\"LinearAxis\"},{\"id\":\"6e9abd69-a072-46d0-b6e4-56c4d10dce7b\",\"type\":\"Grid\"},{\"id\":\"cd7cbb45-5c36-4065-b292-c08e65b17873\",\"type\":\"LinearAxis\"},{\"id\":\"eac4a7a7-a8d8-4b90-91f0-eea7bb73da56\",\"type\":\"Grid\"},{\"id\":\"372e8ea0-445c-4602-ba0c-22900994f7ba\",\"type\":\"BoxAnnotation\"},{\"id\":\"58f848ab-d717-49db-9078-875dfe15c021\",\"type\":\"GlyphRenderer\"},{\"id\":\"2e34e493-69fd-4d3a-ad8f-6494545d2f90\",\"type\":\"GlyphRenderer\"}],\"title\":{\"id\":\"3662ed86-0fca-4e1f-95df-4d9150824735\",\"type\":\"Title\"},\"toolbar\":{\"id\":\"5b91cb75-93b3-4ce0-9cfa-a5759d9d77db\",\"type\":\"Toolbar\"},\"x_range\":{\"id\":\"c0b0744f-0a67-4640-8b57-8b1e0213640e\",\"type\":\"DataRange1d\"},\"x_scale\":{\"id\":\"14887775-4795-4b03-8199-fcbe673cb84b\",\"type\":\"LinearScale\"},\"y_range\":{\"id\":\"be3dd27a-1c3c-41fd-9e7a-a473702e015d\",\"type\":\"Range1d\"},\"y_scale\":{\"id\":\"418d9db0-cf8f-47d4-8656-29757ba230cb\",\"type\":\"LinearScale\"}},\"id\":\"67a8ec52-1c6b-4a4a-bba0-4a2ca67268f7\",\"subtype\":\"Figure\",\"type\":\"Plot\"},{\"attributes\":{\"active_drag\":\"auto\",\"active_inspect\":\"auto\",\"active_scroll\":\"auto\",\"active_tap\":\"auto\",\"tools\":[{\"id\":\"ea3a358c-d070-4ffb-8898-b92ddb315d88\",\"type\":\"PanTool\"},{\"id\":\"6ce6dcc5-5f46-4daa-959d-940407f90383\",\"type\":\"WheelZoomTool\"},{\"id\":\"e60cfcbb-d7f5-472e-b9fd-c63f69798065\",\"type\":\"BoxZoomTool\"},{\"id\":\"b2764a56-6884-463c-9f61-eb3f9239e5df\",\"type\":\"SaveTool\"},{\"id\":\"c376e578-d968-4349-966b-a3dc202d258a\",\"type\":\"ResetTool\"},{\"id\":\"a42d8751-ff0c-453c-8c3b-de0da9e475fc\",\"type\":\"HelpTool\"}]},\"id\":\"5b91cb75-93b3-4ce0-9cfa-a5759d9d77db\",\"type\":\"Toolbar\"},{\"attributes\":{},\"id\":\"a0c7df40-d1d1-47f2-b089-645cac59280c\",\"type\":\"BasicTickFormatter\"},{\"attributes\":{\"callback\":null,\"column_names\":[\"left\",\"right\",\"top\"],\"data\":{\"left\":[0.5091508205024401,1.1861088564217577,1.2686988605107785,1.268905785147822,1.3686587334710103,1.4492905109065275,1.563409632158687,1.6298343178504804,1.6934668195624865,1.739598917664057,1.751061977897802,1.7515307207259185,1.782979249417533,1.8026095008132705,1.8336808476548372,1.8653586160896722,1.90089635104137,1.925526298900281,1.9280282103192057,1.947697068113514,1.9535192884912036,1.993857959128605,2.002209807658012,2.0254360059051546,2.0479847980817514,2.063603290107515,2.0701224524635036,2.0815958964703394,2.0873048874255398,2.1130523090052287,2.142224943301975,2.142977677329148,2.1567365414357464,2.1646429493668644,2.1762722030425845,2.183959682050022,2.2019579961006253,2.203983747830021,2.222513430193272,2.2347724111525697,2.253874711612061,2.2649854825852334,2.2711332830896054,2.2784829007852805,2.2791462054644955,2.295132959786588,2.3132527113439942,2.315656546807427,2.332868517229462,2.339598333341712,2.343988549009477,2.357816162082612,2.360578002096501,2.3805639856019374,2.385498047403051,2.397835318189323,2.406071206395829,2.413257278429339,2.4174603766641782,2.4250113642386695,2.425912182678381,2.4469316367618834,2.457075601963082,2.459398041046011,2.4668822429308515,2.4767905239378383,2.4936446307639475,2.4952988873825284,2.4963637867348476,2.509066797044746,2.524185637406096,2.526799661853654,2.536254052534484,2.5389977190746738,2.555420689056237,2.5562119976813036,2.5588376483171373,2.5636092229365253,2.577548186006142,2.5823551116066934,2.604842452724445,2.607887060508803,2.609903673184193,2.614212348610275,2.615790464177061,2.6224505220555323,2.6337032636312174,2.6484407622674437,2.6531864806600103,2.656656462664654,2.663773845567024,2.6691121518789616,2.6698933378823964,2.6852576308789455,2.6957686735986672,2.696695043457389,2.701806054821413,2.708100408089026,2.7125190624405566,2.7196956821288176,2.7203138048629865,2.728994785002194,2.740267943089453,2.748173496676817,2.7520552133316354,2.7565712244177187,2.7671550011775996,2.7721403013349017,2.7735380161372576,2.776530496454484,2.7877468726633747,2.7961697020112695,2.7993453697300605,2.8059917324691566,2.8066066876545834,2.8143610004638115,2.814565136905128,2.827036640886036,2.8334897474664715,2.839696822196777,2.8429211987197367,2.8507921711153843,2.8595183217907207,2.8634038094076955,2.866673764363761,2.872655825043719,2.875980520405089,2.885572263536531,2.888428357857956,2.8984289694299106,2.901059431801144,2.901599981824581,2.9039862401788827,2.9147969989829448,2.9217722361082155,2.9235157752282186,2.9364341444537176,2.941563579739218,2.942115704983816,2.945204649678146,2.9457488878444535,2.952478528228669,2.9636013078686876,2.9661507770464395,2.9726876111104756,2.975413977443352,2.976605992636095,2.985096446479186,2.986941279801176,2.996950928920129,3.0025461357794603,3.008076566793443,3.0083340757569426,3.013938307299431,3.0189218033380696,3.02364028067199,3.0241705079289956,3.029860910937103,3.0419900906658586,3.0466025918853914,3.052471421968146,3.0565768512116525,3.060525773940674,3.0622677660429667,3.063856579496892,3.0644087828693958,3.077943072209891,3.080827567576399,3.0849139962336003,3.0900190378900296,3.0943316603251145,3.099676953992381,3.107811873457276,3.1152069696871116,3.116518467816818,3.118196248087735,3.120043773429321,3.1298449791668146,3.13325474875142,3.1378364541918335,3.1383325666807464,3.1496695843836293,3.152008775638349,3.155065409182513,3.159366185820462,3.164124621444881,3.1696019368351185,3.170632756448423,3.1713101454223187,3.1860889414570877,3.193873496520722,3.1947627064501307,3.198358813269624,3.1992834278987754,3.203119316037169,3.2074675010839875,3.2120104782739,3.215992021993032,3.2253759048723953,3.2272985695280063,3.232123478337023,3.2375653746802895,3.245738428927582,3.2465184572316015,3.2472065899240623,3.2513595439337815,3.2617265479995146,3.2620961974759375,3.2662992166628966,3.273544140764938,3.277533623878902,3.2787784275475556,3.280455675031948,3.285870731358009,3.2917554032553977,3.2956053298473096,3.2988917672785787,3.3062538680839992,3.3076362486199766,3.3083860759011703,3.3144805566188493,3.3186142606379616,3.3246699810202225,3.3269289375855773,3.3325693850323943,3.3348419261874307,3.3387163267613924,3.345449924074518,3.346396550671411,3.349415849312276,3.3591858837633164,3.3611913076004,3.367758128474013,3.3717958113187,3.3719042964980264,3.3791882797908226,3.379353516956982,3.3874020142605743,3.390041885766232,3.3968208338938806,3.399445217476654,3.403186124965957,3.4050340668911456,3.4137645586167533,3.4172803154131652,3.420498948527469,3.426736715188639,3.4270592885764253,3.4276860088330645,3.4389110701140058,3.4426980383156396,3.4437528963919664,3.4437675490360675,3.4486326655211665,3.4537216952807928,3.4572104391179197,3.4593805760662084,3.465745361038635,3.4685531985742997,3.4751278110441124,3.479107165343319,3.480032626182198,3.4840874125180727,3.493227344417181,3.4940146683534192,3.499798450370928,3.500684887004571,3.505117728408996,3.5121339017487596,3.514069105347408,3.5201015153356314,3.520297609442697,3.5241970518798023,3.5324268267731687,3.5361078424255017,3.5383822223530985,3.5387174198250655,3.544611207065018,3.548269672272726,3.554867881589507,3.5573400710821588,3.5601318425204447,3.5664252794460425,3.5711590739961943,3.5734315932592238,3.5738817340983027,3.577612078162228,3.5830834437415997,3.583530738403707,3.5931880819059026,3.5971155532069288,3.5996586673309925,3.6023485175026093,3.6046558116870555,3.6115109008733697,3.614836725273585,3.618392945565582,3.6225505236829383,3.625534793377819,3.6264599527378345,3.6328974972673516,3.634538680002241,3.6426861563994133,3.6461439265927247,3.6482731092888914,3.6542290992794237,3.655825375726198,3.66057081102444,3.662891981373038,3.668212049310088,3.673310536611315,3.676475988564643,3.6789600915881944,3.6807912153485516,3.6890601792229205,3.6902374389433246,3.69155111250222,3.6919705758521855,3.7039381458812706,3.7083102746776166,3.708919713970699,3.713092306441936,3.713764453674822,3.7173451491513685,3.7263250925808444,3.729045147979889,3.7334023740418156,3.7356947311054727,3.7433921354718858,3.745768821813629,3.7482263911876315,3.752689229169405,3.752910033024563,3.754760725144601,3.7626046972196474,3.7681958330702505,3.769205583830968,3.7715194552683204,3.781263019860564,3.7822049801451967,3.7836615193781897,3.787907781494734,3.7920832659250285,3.7941450748932057,3.80284616944538,3.8035034269462185,3.807622102348643,3.8158673340845892,3.81623309018593,3.81791379030137,3.82252400207097,3.8266500082844743,3.8302773947775997,3.832333727633789,3.8388677534643794,3.8410355183427183,3.842958325339066,3.8437727817547396,3.8480361024796053,3.8517951595247637,3.854803497777402,3.8576783041790694,3.85823562121475,3.867162360930192,3.875717101425724,3.8770406494605556,3.8793213586704556,3.884866506878098,3.8935245417093274,3.893890714041784,3.8960267440219205,3.8978880839369148,3.9021682773810213,3.904788331923783,3.9080427273950176,3.9163489320419993,3.9172167422801953,3.920170870094078,3.924394693905331,3.9267731707688585,3.92845627371677,3.934402720373438,3.935601945740796,3.941094155012187,3.946597863965348,3.94812039229191,3.9493689719083895,3.960041936648229,3.9605992483505705,3.9644543832380097,3.9674369377620624,3.9715638303001786,3.9766070559038806,3.9790195103721384,3.9837482722879822,3.983958264936028,3.9905714833789703,3.990796526942345,3.9942948088425485,4.001102239963713,4.006423803130171,4.007433901911817,4.017499179293965,4.017706760763713,4.019043945144129,4.021423896807339,4.026809246887685,4.0324892484960495,4.03402511172212,4.0395540014565094,4.044956174470307,4.046921546572285,4.049561523218345,4.049711832459478,4.056859129665516,4.061162587448424,4.062078102831491,4.070818525901813,4.071501656994229,4.076724783820474,4.077346464912207,4.08267546814408,4.085646495288823,4.0891426104900495,4.09455336981141,4.095407863673876,4.095728987736994,4.102685558594086,4.1048665117381145,4.110598604595834,4.112204830830729,4.121905901363037,4.121922427760151,4.126131640092563,4.131916963112233,4.133473108539034,4.136738515209143,4.137447364596757,4.14254645133394,4.148944350499012,4.151117107587251,4.157050890988634,4.157684331775977,4.160909479361101,4.166972271827504,4.16753798294024,4.174232107322314,4.177143817259535,4.178933879204181,4.180063909738366,4.18606512771236,4.19424342736719,4.196142027195527,4.1976634421217645,4.207665372680302,4.208847629479548,4.211654539549065,4.216236358894133,4.216885801289634,4.220891643434536,4.2234342450451905,4.22479749880373,4.229474879370306,4.239375366939582,4.239911629026984,4.2463438143087915,4.2518665797299935,4.254580591587819,4.255478535985581,4.2567618252190975,4.262371724358968,4.2693463349601295,4.273086438906171,4.275026299429142,4.278418035681981,4.284108797855808,4.28515583535902,4.287808375742471,4.296386516203077,4.299848987403516,4.300406887602022,4.3005531763304505,4.304218584513607,4.309585747630154,4.31355727083522,4.314376103450055,4.318317334738461,4.32457806278645,4.327870958307995,4.333035152276704,4.333915942559084,4.336805729464136,4.34486763134187,4.350917938153117,4.3519707170335655,4.3567906071466505,4.35880672680967,4.363150555720807,4.365664018431432,4.3726515352311255,4.375213158535361,4.377985856710991,4.386208555324169,4.387735346470209,4.3935172762687165,4.396787486645275,4.399261120383009,4.399949899133729,4.4023266245129395,4.405223144601921,4.411696831168562,4.417250195270887,4.423899345197126,4.424624042464475,4.4283547419587315,4.432476509207739,4.4356481792058355,4.442832504176471,4.444333475932537,4.449766111463075,4.454921647237032,4.457874782305826,4.460626914883717,4.465537740911077,4.467421519620459,4.472622451523426,4.4751482059044765,4.478844815560953,4.483654607676645,4.485964560482132,4.495204893463727,4.49740189048919,4.502075671564,4.50338042621698,4.504419880230483,4.508270792878196,4.514071063529809,4.519687950664946,4.5246581731921145,4.52601188728822,4.529263387085194,4.532928048071857,4.533337749649541,4.541225160800274,4.546979525712849,4.5538635605105755,4.5541394285813634,4.556019718867224,4.560869866725615,4.566079615777892,4.569127928495155,4.572962996196926,4.579898009331122,4.581633195846126,4.584416433926498,4.585053164507267,4.593117030952359,4.597946180138055,4.599104431114583,4.6070601913272,4.610006711671338,4.612052633291433,4.615390634599509,4.620294261513268,4.6250614984886855,4.633138814756622,4.633850594229475,4.636151480448981,4.643210178647944,4.644086898851541,4.646850602851367,4.65234580606125,4.656552811308161,4.6597420714989415,4.660873574926341,4.671533008985991,4.671879986328293,4.675359217182748,4.677811017972826,4.685367756068182,4.688390217567186,4.691825405177396,4.697039610087995,4.7066469838506,4.707245815360623,4.709337681510012,4.710783091571958,4.717281846269713,4.7232110685584585,4.724592926351814,4.727531143481593,4.735230004654644,4.742574031340007,4.7462323962136805,4.748051533967596,4.751243215296886,4.755180837294031,4.762497317899703,4.764625387270408,4.769149890040154,4.774373993854441,4.775348084793462,4.779474460935766,4.784108616369874,4.791788977814088,4.792127721685959,4.797208861857834,4.805042237083137,4.807241839415765,4.808245969192245,4.809982286180128,4.8152268235050615,4.823286453664035,4.827222140338102,4.830832485178184,4.836619529204733,4.839881574787474,4.845267174791756,4.849382814415855,4.852560497370939,4.856337145846988,4.86368069944865,4.864655698445033,4.873865726987015,4.874267557228615,4.877350626114192,4.882137592106853,4.885100984345413,4.895574111989074,4.898027939195055,4.899840047641222,4.905038801757531,4.90939045568256,4.9140966157504655,4.916394232554576,4.92168556125538,4.928436603715492,4.937968458719867,4.939153344655274,4.9425187715402075,4.947595510794419,4.947896722939299,4.950810193520033,4.95395163552131,4.9628809637551194,4.970364617142313,4.971077075496896,4.975297690657775,4.978197301505653,4.98588290315844,4.9892117557405395,4.989433017047195,4.99947326464431,5.003124574245594,5.006699328572479,5.008221531514495,5.013382912936415,5.01900933564431,5.027428286889165,5.02801223843246,5.033782119599215,5.042192638615409,5.0436678470872245,5.043747147489988,5.0502009417673674,5.055360656645157,5.059076027237824,5.064901997017333,5.0712977488525235,5.075901515180513,5.0792072514103275,5.086388452461911,5.09251244803585,5.093636805971937,5.094709949787986,5.100119666533152,5.108220554721595,5.116302989474084,5.117398766744484,5.119540813369409,5.130501622424796,5.132107792882814,5.141737864943549,5.146384881009164,5.155935985027716,5.157581783716387,5.157588790869609,5.159932734403495,5.166017726077622,5.167174127746732,5.170914695101602,5.1764991793632396,5.1884215817879005,5.19086746775153,5.192226008000512,5.199407256581407,5.204197453699939,5.207726501930448,5.219333161711159,5.220789282972064,5.227106764736528,5.231849295772569,5.236533692017374,5.237417701467072,5.23972732927548,5.250304947889166,5.260851994108251,5.261627147602078,5.2654939360126285,5.269636043398603,5.2764354922472165,5.277039027277811,5.278125819158183,5.288971727437884,5.293125284141769,5.299924104727978,5.31179370992347,5.315109441645238,5.3190938476384355,5.323749636493277,5.3253349183837475,5.3349581455613375,5.340141054213796,5.342248138111326,5.346682917151542,5.36093865237129,5.362939375062403,5.365670173890039,5.366629976506786,5.37876363248653,5.384824096510441,5.387188761827271,5.393884038770347,5.403136872625745,5.409247409887237,5.409779952129118,5.416736997274344,5.4255407219224745,5.4310892366337375,5.437786879462387,5.441624346247842,5.44536973247782,5.451016018382082,5.455670269490198,5.457829940897206,5.471822350995826,5.474668790972679,5.476863332720036,5.483474818604204,5.493551112443133,5.498108518419171,5.503158129942145,5.50930563054672,5.510957399464828,5.516075707655725,5.524632597458567,5.526977858535696,5.540435553547613,5.543112552934955,5.544092349583988,5.550419453519708,5.560747528501306,5.566037084210437,5.569884638028397,5.581645014612676,5.589533618034537,5.591886610815855,5.596480914103647,5.60218262783607,5.6077986596206415,5.61294689703949,5.615046206942093,5.623918853168276,5.641717151137531,5.65022262759582,5.652510467158422,5.653125569922111,5.655923538539982,5.662835910523589,5.666212784872376,5.6802205975360565,5.684745433941757,5.686968381033174,5.69625463730255,5.701293843760982,5.715493235733496,5.718923088758059,5.719831227691202,5.7238616240546625,5.745318292506985,5.748859313115584,5.750397605296263,5.762943132225066,5.764619736725891,5.765309140112265,5.769469217132437,5.784768211999554,5.787730356438281,5.795952153546096,5.79944891143133,5.807182571106585,5.811646034923981,5.824107562362418,5.826863410867092,5.837280869873508,5.851814220434785,5.851969076066537,5.859030800113685,5.86082662007338,5.87175191155333,5.880147483083062,5.8827796000882655,5.896796948866424,5.908502483878274,5.910093779493605,5.924786685514351,5.934256635552823,5.934657016450755,5.941184704909064,5.942813216258533,5.957121521926828,5.96800365919783,5.97039494510703,5.973174217028106,5.984222952366218,5.997292631694946,6.008311024430182,6.012693667158015,6.014135137611558,6.034793626527185,6.0394522320236526,6.040564613677388,6.05450027855071,6.060143619377815,6.065093026571026,6.068010170040081,6.0729402995204875,6.097229284285149,6.103635260937969,6.109628515916636,6.11890055488014,6.124132739886227,6.133152506119505,6.141181956997464,6.153217564415753,6.158554721532981,6.167312299885366,6.179195633449826,6.196382002060722,6.198318960726005,6.201043065175784,6.205041654513136,6.217058062051233,6.234011234409487,6.236767351924689,6.250740719039173,6.256770312506112,6.266428435811161,6.273395315096036,6.2755318494072405,6.303470615728582,6.314874555392003,6.3218439223001806,6.32843690788879,6.339953143069342,6.342835254172168,6.349422777273932,6.357084118994166,6.385408934269426,6.391650963079123,6.396109126072813,6.405605337529288,6.417438968139955,6.426824896725996,6.432336356975832,6.4429698376635836,6.459508532958003,6.4838359750397245,6.483967526498235,6.487316556658198,6.511158687453291,6.525259945943745,6.525443718213553,6.532005030701861,6.542872709152325,6.574923507658719,6.57927580250009,6.591936447701956,6.610726617079362,6.611868248246002,6.621262983501953,6.628899608432175,6.638050856094849,6.668675363524039,6.683190251997761,6.690464120342203,6.701648337393491,6.704453009574335,6.711368977662811,6.734996683117603,6.759753854510832,6.775978472530376,6.780398369659929,6.784634234754959,6.814923216687775,6.822861495456171,6.826500273408494,6.8385232987697675,6.855268462249761,6.87639397622245,6.897759689525132,6.903805138936206,6.9045839157711075,6.949861035648961,6.949940908773034,6.964989439928121,6.999810933153219,7.016254555694231,7.0257256233091105,7.047849161101932,7.04896718607402,7.065255939208222,7.103377224098148,7.1070515010596145,7.139394557136679,7.1451867209478515,7.1781516950187045,7.185148152536332,7.195954904817695,7.21356495625469,7.270164606384737,7.273513036990934,7.294527055877202,7.339993124283104,7.344812913499,7.357119442209046,7.394250608222741,7.409652374523991,7.436160423109059,7.4530960549670375,7.522595023505681,7.539712558638244,7.572912930194253,7.581482499023126,7.5951578860963895,7.6306741473652915,7.640232029756845,7.693522865661755,7.74636851572283,7.76043064012326,7.782114898843354,7.803357336992803,7.807985863641732,7.914338331153293,7.935197572818939,7.970569591409277,8.054436604083737,8.093522854598044,8.095108054338539,8.173240638021593,8.203660127143982,8.283053211516144,8.300489015360696,8.328892030693918,8.475060805430683,8.494464552454668,8.584805268095458,8.670818638366908,8.672820838504448,8.865339349034384,8.917762634117045,8.974205842442679,9.347709351004386,9.419813476885928,9.534108851549599,9.683528418933383,9.737278152254383,10.447571213308033],\"right\":[1.1861088564217577,1.2686988605107785,1.268905785147822,1.3686587334710103,1.4492905109065275,1.563409632158687,1.6298343178504804,1.6934668195624865,1.739598917664057,1.751061977897802,1.7515307207259185,1.782979249417533,1.8026095008132705,1.8336808476548372,1.8653586160896722,1.90089635104137,1.925526298900281,1.9280282103192057,1.947697068113514,1.9535192884912036,1.993857959128605,2.002209807658012,2.0254360059051546,2.0479847980817514,2.063603290107515,2.0701224524635036,2.0815958964703394,2.0873048874255398,2.1130523090052287,2.142224943301975,2.142977677329148,2.1567365414357464,2.1646429493668644,2.1762722030425845,2.183959682050022,2.2019579961006253,2.203983747830021,2.222513430193272,2.2347724111525697,2.253874711612061,2.2649854825852334,2.2711332830896054,2.2784829007852805,2.2791462054644955,2.295132959786588,2.3132527113439942,2.315656546807427,2.332868517229462,2.339598333341712,2.343988549009477,2.357816162082612,2.360578002096501,2.3805639856019374,2.385498047403051,2.397835318189323,2.406071206395829,2.413257278429339,2.4174603766641782,2.4250113642386695,2.425912182678381,2.4469316367618834,2.457075601963082,2.459398041046011,2.4668822429308515,2.4767905239378383,2.4936446307639475,2.4952988873825284,2.4963637867348476,2.509066797044746,2.524185637406096,2.526799661853654,2.536254052534484,2.5389977190746738,2.555420689056237,2.5562119976813036,2.5588376483171373,2.5636092229365253,2.577548186006142,2.5823551116066934,2.604842452724445,2.607887060508803,2.609903673184193,2.614212348610275,2.615790464177061,2.6224505220555323,2.6337032636312174,2.6484407622674437,2.6531864806600103,2.656656462664654,2.663773845567024,2.6691121518789616,2.6698933378823964,2.6852576308789455,2.6957686735986672,2.696695043457389,2.701806054821413,2.708100408089026,2.7125190624405566,2.7196956821288176,2.7203138048629865,2.728994785002194,2.740267943089453,2.748173496676817,2.7520552133316354,2.7565712244177187,2.7671550011775996,2.7721403013349017,2.7735380161372576,2.776530496454484,2.7877468726633747,2.7961697020112695,2.7993453697300605,2.8059917324691566,2.8066066876545834,2.8143610004638115,2.814565136905128,2.827036640886036,2.8334897474664715,2.839696822196777,2.8429211987197367,2.8507921711153843,2.8595183217907207,2.8634038094076955,2.866673764363761,2.872655825043719,2.875980520405089,2.885572263536531,2.888428357857956,2.8984289694299106,2.901059431801144,2.901599981824581,2.9039862401788827,2.9147969989829448,2.9217722361082155,2.9235157752282186,2.9364341444537176,2.941563579739218,2.942115704983816,2.945204649678146,2.9457488878444535,2.952478528228669,2.9636013078686876,2.9661507770464395,2.9726876111104756,2.975413977443352,2.976605992636095,2.985096446479186,2.986941279801176,2.996950928920129,3.0025461357794603,3.008076566793443,3.0083340757569426,3.013938307299431,3.0189218033380696,3.02364028067199,3.0241705079289956,3.029860910937103,3.0419900906658586,3.0466025918853914,3.052471421968146,3.0565768512116525,3.060525773940674,3.0622677660429667,3.063856579496892,3.0644087828693958,3.077943072209891,3.080827567576399,3.0849139962336003,3.0900190378900296,3.0943316603251145,3.099676953992381,3.107811873457276,3.1152069696871116,3.116518467816818,3.118196248087735,3.120043773429321,3.1298449791668146,3.13325474875142,3.1378364541918335,3.1383325666807464,3.1496695843836293,3.152008775638349,3.155065409182513,3.159366185820462,3.164124621444881,3.1696019368351185,3.170632756448423,3.1713101454223187,3.1860889414570877,3.193873496520722,3.1947627064501307,3.198358813269624,3.1992834278987754,3.203119316037169,3.2074675010839875,3.2120104782739,3.215992021993032,3.2253759048723953,3.2272985695280063,3.232123478337023,3.2375653746802895,3.245738428927582,3.2465184572316015,3.2472065899240623,3.2513595439337815,3.2617265479995146,3.2620961974759375,3.2662992166628966,3.273544140764938,3.277533623878902,3.2787784275475556,3.280455675031948,3.285870731358009,3.2917554032553977,3.2956053298473096,3.2988917672785787,3.3062538680839992,3.3076362486199766,3.3083860759011703,3.3144805566188493,3.3186142606379616,3.3246699810202225,3.3269289375855773,3.3325693850323943,3.3348419261874307,3.3387163267613924,3.345449924074518,3.346396550671411,3.349415849312276,3.3591858837633164,3.3611913076004,3.367758128474013,3.3717958113187,3.3719042964980264,3.3791882797908226,3.379353516956982,3.3874020142605743,3.390041885766232,3.3968208338938806,3.399445217476654,3.403186124965957,3.4050340668911456,3.4137645586167533,3.4172803154131652,3.420498948527469,3.426736715188639,3.4270592885764253,3.4276860088330645,3.4389110701140058,3.4426980383156396,3.4437528963919664,3.4437675490360675,3.4486326655211665,3.4537216952807928,3.4572104391179197,3.4593805760662084,3.465745361038635,3.4685531985742997,3.4751278110441124,3.479107165343319,3.480032626182198,3.4840874125180727,3.493227344417181,3.4940146683534192,3.499798450370928,3.500684887004571,3.505117728408996,3.5121339017487596,3.514069105347408,3.5201015153356314,3.520297609442697,3.5241970518798023,3.5324268267731687,3.5361078424255017,3.5383822223530985,3.5387174198250655,3.544611207065018,3.548269672272726,3.554867881589507,3.5573400710821588,3.5601318425204447,3.5664252794460425,3.5711590739961943,3.5734315932592238,3.5738817340983027,3.577612078162228,3.5830834437415997,3.583530738403707,3.5931880819059026,3.5971155532069288,3.5996586673309925,3.6023485175026093,3.6046558116870555,3.6115109008733697,3.614836725273585,3.618392945565582,3.6225505236829383,3.625534793377819,3.6264599527378345,3.6328974972673516,3.634538680002241,3.6426861563994133,3.6461439265927247,3.6482731092888914,3.6542290992794237,3.655825375726198,3.66057081102444,3.662891981373038,3.668212049310088,3.673310536611315,3.676475988564643,3.6789600915881944,3.6807912153485516,3.6890601792229205,3.6902374389433246,3.69155111250222,3.6919705758521855,3.7039381458812706,3.7083102746776166,3.708919713970699,3.713092306441936,3.713764453674822,3.7173451491513685,3.7263250925808444,3.729045147979889,3.7334023740418156,3.7356947311054727,3.7433921354718858,3.745768821813629,3.7482263911876315,3.752689229169405,3.752910033024563,3.754760725144601,3.7626046972196474,3.7681958330702505,3.769205583830968,3.7715194552683204,3.781263019860564,3.7822049801451967,3.7836615193781897,3.787907781494734,3.7920832659250285,3.7941450748932057,3.80284616944538,3.8035034269462185,3.807622102348643,3.8158673340845892,3.81623309018593,3.81791379030137,3.82252400207097,3.8266500082844743,3.8302773947775997,3.832333727633789,3.8388677534643794,3.8410355183427183,3.842958325339066,3.8437727817547396,3.8480361024796053,3.8517951595247637,3.854803497777402,3.8576783041790694,3.85823562121475,3.867162360930192,3.875717101425724,3.8770406494605556,3.8793213586704556,3.884866506878098,3.8935245417093274,3.893890714041784,3.8960267440219205,3.8978880839369148,3.9021682773810213,3.904788331923783,3.9080427273950176,3.9163489320419993,3.9172167422801953,3.920170870094078,3.924394693905331,3.9267731707688585,3.92845627371677,3.934402720373438,3.935601945740796,3.941094155012187,3.946597863965348,3.94812039229191,3.9493689719083895,3.960041936648229,3.9605992483505705,3.9644543832380097,3.9674369377620624,3.9715638303001786,3.9766070559038806,3.9790195103721384,3.9837482722879822,3.983958264936028,3.9905714833789703,3.990796526942345,3.9942948088425485,4.001102239963713,4.006423803130171,4.007433901911817,4.017499179293965,4.017706760763713,4.019043945144129,4.021423896807339,4.026809246887685,4.0324892484960495,4.03402511172212,4.0395540014565094,4.044956174470307,4.046921546572285,4.049561523218345,4.049711832459478,4.056859129665516,4.061162587448424,4.062078102831491,4.070818525901813,4.071501656994229,4.076724783820474,4.077346464912207,4.08267546814408,4.085646495288823,4.0891426104900495,4.09455336981141,4.095407863673876,4.095728987736994,4.102685558594086,4.1048665117381145,4.110598604595834,4.112204830830729,4.121905901363037,4.121922427760151,4.126131640092563,4.131916963112233,4.133473108539034,4.136738515209143,4.137447364596757,4.14254645133394,4.148944350499012,4.151117107587251,4.157050890988634,4.157684331775977,4.160909479361101,4.166972271827504,4.16753798294024,4.174232107322314,4.177143817259535,4.178933879204181,4.180063909738366,4.18606512771236,4.19424342736719,4.196142027195527,4.1976634421217645,4.207665372680302,4.208847629479548,4.211654539549065,4.216236358894133,4.216885801289634,4.220891643434536,4.2234342450451905,4.22479749880373,4.229474879370306,4.239375366939582,4.239911629026984,4.2463438143087915,4.2518665797299935,4.254580591587819,4.255478535985581,4.2567618252190975,4.262371724358968,4.2693463349601295,4.273086438906171,4.275026299429142,4.278418035681981,4.284108797855808,4.28515583535902,4.287808375742471,4.296386516203077,4.299848987403516,4.300406887602022,4.3005531763304505,4.304218584513607,4.309585747630154,4.31355727083522,4.314376103450055,4.318317334738461,4.32457806278645,4.327870958307995,4.333035152276704,4.333915942559084,4.336805729464136,4.34486763134187,4.350917938153117,4.3519707170335655,4.3567906071466505,4.35880672680967,4.363150555720807,4.365664018431432,4.3726515352311255,4.375213158535361,4.377985856710991,4.386208555324169,4.387735346470209,4.3935172762687165,4.396787486645275,4.399261120383009,4.399949899133729,4.4023266245129395,4.405223144601921,4.411696831168562,4.417250195270887,4.423899345197126,4.424624042464475,4.4283547419587315,4.432476509207739,4.4356481792058355,4.442832504176471,4.444333475932537,4.449766111463075,4.454921647237032,4.457874782305826,4.460626914883717,4.465537740911077,4.467421519620459,4.472622451523426,4.4751482059044765,4.478844815560953,4.483654607676645,4.485964560482132,4.495204893463727,4.49740189048919,4.502075671564,4.50338042621698,4.504419880230483,4.508270792878196,4.514071063529809,4.519687950664946,4.5246581731921145,4.52601188728822,4.529263387085194,4.532928048071857,4.533337749649541,4.541225160800274,4.546979525712849,4.5538635605105755,4.5541394285813634,4.556019718867224,4.560869866725615,4.566079615777892,4.569127928495155,4.572962996196926,4.579898009331122,4.581633195846126,4.584416433926498,4.585053164507267,4.593117030952359,4.597946180138055,4.599104431114583,4.6070601913272,4.610006711671338,4.612052633291433,4.615390634599509,4.620294261513268,4.6250614984886855,4.633138814756622,4.633850594229475,4.636151480448981,4.643210178647944,4.644086898851541,4.646850602851367,4.65234580606125,4.656552811308161,4.6597420714989415,4.660873574926341,4.671533008985991,4.671879986328293,4.675359217182748,4.677811017972826,4.685367756068182,4.688390217567186,4.691825405177396,4.697039610087995,4.7066469838506,4.707245815360623,4.709337681510012,4.710783091571958,4.717281846269713,4.7232110685584585,4.724592926351814,4.727531143481593,4.735230004654644,4.742574031340007,4.7462323962136805,4.748051533967596,4.751243215296886,4.755180837294031,4.762497317899703,4.764625387270408,4.769149890040154,4.774373993854441,4.775348084793462,4.779474460935766,4.784108616369874,4.791788977814088,4.792127721685959,4.797208861857834,4.805042237083137,4.807241839415765,4.808245969192245,4.809982286180128,4.8152268235050615,4.823286453664035,4.827222140338102,4.830832485178184,4.836619529204733,4.839881574787474,4.845267174791756,4.849382814415855,4.852560497370939,4.856337145846988,4.86368069944865,4.864655698445033,4.873865726987015,4.874267557228615,4.877350626114192,4.882137592106853,4.885100984345413,4.895574111989074,4.898027939195055,4.899840047641222,4.905038801757531,4.90939045568256,4.9140966157504655,4.916394232554576,4.92168556125538,4.928436603715492,4.937968458719867,4.939153344655274,4.9425187715402075,4.947595510794419,4.947896722939299,4.950810193520033,4.95395163552131,4.9628809637551194,4.970364617142313,4.971077075496896,4.975297690657775,4.978197301505653,4.98588290315844,4.9892117557405395,4.989433017047195,4.99947326464431,5.003124574245594,5.006699328572479,5.008221531514495,5.013382912936415,5.01900933564431,5.027428286889165,5.02801223843246,5.033782119599215,5.042192638615409,5.0436678470872245,5.043747147489988,5.0502009417673674,5.055360656645157,5.059076027237824,5.064901997017333,5.0712977488525235,5.075901515180513,5.0792072514103275,5.086388452461911,5.09251244803585,5.093636805971937,5.094709949787986,5.100119666533152,5.108220554721595,5.116302989474084,5.117398766744484,5.119540813369409,5.130501622424796,5.132107792882814,5.141737864943549,5.146384881009164,5.155935985027716,5.157581783716387,5.157588790869609,5.159932734403495,5.166017726077622,5.167174127746732,5.170914695101602,5.1764991793632396,5.1884215817879005,5.19086746775153,5.192226008000512,5.199407256581407,5.204197453699939,5.207726501930448,5.219333161711159,5.220789282972064,5.227106764736528,5.231849295772569,5.236533692017374,5.237417701467072,5.23972732927548,5.250304947889166,5.260851994108251,5.261627147602078,5.2654939360126285,5.269636043398603,5.2764354922472165,5.277039027277811,5.278125819158183,5.288971727437884,5.293125284141769,5.299924104727978,5.31179370992347,5.315109441645238,5.3190938476384355,5.323749636493277,5.3253349183837475,5.3349581455613375,5.340141054213796,5.342248138111326,5.346682917151542,5.36093865237129,5.362939375062403,5.365670173890039,5.366629976506786,5.37876363248653,5.384824096510441,5.387188761827271,5.393884038770347,5.403136872625745,5.409247409887237,5.409779952129118,5.416736997274344,5.4255407219224745,5.4310892366337375,5.437786879462387,5.441624346247842,5.44536973247782,5.451016018382082,5.455670269490198,5.457829940897206,5.471822350995826,5.474668790972679,5.476863332720036,5.483474818604204,5.493551112443133,5.498108518419171,5.503158129942145,5.50930563054672,5.510957399464828,5.516075707655725,5.524632597458567,5.526977858535696,5.540435553547613,5.543112552934955,5.544092349583988,5.550419453519708,5.560747528501306,5.566037084210437,5.569884638028397,5.581645014612676,5.589533618034537,5.591886610815855,5.596480914103647,5.60218262783607,5.6077986596206415,5.61294689703949,5.615046206942093,5.623918853168276,5.641717151137531,5.65022262759582,5.652510467158422,5.653125569922111,5.655923538539982,5.662835910523589,5.666212784872376,5.6802205975360565,5.684745433941757,5.686968381033174,5.69625463730255,5.701293843760982,5.715493235733496,5.718923088758059,5.719831227691202,5.7238616240546625,5.745318292506985,5.748859313115584,5.750397605296263,5.762943132225066,5.764619736725891,5.765309140112265,5.769469217132437,5.784768211999554,5.787730356438281,5.795952153546096,5.79944891143133,5.807182571106585,5.811646034923981,5.824107562362418,5.826863410867092,5.837280869873508,5.851814220434785,5.851969076066537,5.859030800113685,5.86082662007338,5.87175191155333,5.880147483083062,5.8827796000882655,5.896796948866424,5.908502483878274,5.910093779493605,5.924786685514351,5.934256635552823,5.934657016450755,5.941184704909064,5.942813216258533,5.957121521926828,5.96800365919783,5.97039494510703,5.973174217028106,5.984222952366218,5.997292631694946,6.008311024430182,6.012693667158015,6.014135137611558,6.034793626527185,6.0394522320236526,6.040564613677388,6.05450027855071,6.060143619377815,6.065093026571026,6.068010170040081,6.0729402995204875,6.097229284285149,6.103635260937969,6.109628515916636,6.11890055488014,6.124132739886227,6.133152506119505,6.141181956997464,6.153217564415753,6.158554721532981,6.167312299885366,6.179195633449826,6.196382002060722,6.198318960726005,6.201043065175784,6.205041654513136,6.217058062051233,6.234011234409487,6.236767351924689,6.250740719039173,6.256770312506112,6.266428435811161,6.273395315096036,6.2755318494072405,6.303470615728582,6.314874555392003,6.3218439223001806,6.32843690788879,6.339953143069342,6.342835254172168,6.349422777273932,6.357084118994166,6.385408934269426,6.391650963079123,6.396109126072813,6.405605337529288,6.417438968139955,6.426824896725996,6.432336356975832,6.4429698376635836,6.459508532958003,6.4838359750397245,6.483967526498235,6.487316556658198,6.511158687453291,6.525259945943745,6.525443718213553,6.532005030701861,6.542872709152325,6.574923507658719,6.57927580250009,6.591936447701956,6.610726617079362,6.611868248246002,6.621262983501953,6.628899608432175,6.638050856094849,6.668675363524039,6.683190251997761,6.690464120342203,6.701648337393491,6.704453009574335,6.711368977662811,6.734996683117603,6.759753854510832,6.775978472530376,6.780398369659929,6.784634234754959,6.814923216687775,6.822861495456171,6.826500273408494,6.8385232987697675,6.855268462249761,6.87639397622245,6.897759689525132,6.903805138936206,6.9045839157711075,6.949861035648961,6.949940908773034,6.964989439928121,6.999810933153219,7.016254555694231,7.0257256233091105,7.047849161101932,7.04896718607402,7.065255939208222,7.103377224098148,7.1070515010596145,7.139394557136679,7.1451867209478515,7.1781516950187045,7.185148152536332,7.195954904817695,7.21356495625469,7.270164606384737,7.273513036990934,7.294527055877202,7.339993124283104,7.344812913499,7.357119442209046,7.394250608222741,7.409652374523991,7.436160423109059,7.4530960549670375,7.522595023505681,7.539712558638244,7.572912930194253,7.581482499023126,7.5951578860963895,7.6306741473652915,7.640232029756845,7.693522865661755,7.74636851572283,7.76043064012326,7.782114898843354,7.803357336992803,7.807985863641732,7.914338331153293,7.935197572818939,7.970569591409277,8.054436604083737,8.093522854598044,8.095108054338539,8.173240638021593,8.203660127143982,8.283053211516144,8.300489015360696,8.328892030693918,8.475060805430683,8.494464552454668,8.584805268095458,8.670818638366908,8.672820838504448,8.865339349034384,8.917762634117045,8.974205842442679,9.347709351004386,9.419813476885928,9.534108851549599,9.683528418933383,9.737278152254383,10.447571213308033,15.190820980326698],\"top\":{\"__ndarray__\":\"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\",\"dtype\":\"float64\",\"shape\":[978]}}},\"id\":\"a53d9534-5a87-450d-bccb-d1d7a2f9c850\",\"type\":\"ColumnDataSource\"},{\"attributes\":{\"callback\":null},\"id\":\"c0b0744f-0a67-4640-8b57-8b1e0213640e\",\"type\":\"DataRange1d\"}],\"root_ids\":[\"67a8ec52-1c6b-4a4a-bba0-4a2ca67268f7\"]},\"title\":\"Bokeh Application\",\"version\":\"0.12.13\"}};\n",
       "  var render_items = [{\"docid\":\"75c21145-e7a2-420c-9177-1b92cd0c01f9\",\"elementid\":\"519b0096-836f-48b7-884e-38e51e9d1ae1\",\"modelid\":\"67a8ec52-1c6b-4a4a-bba0-4a2ca67268f7\",\"notebook_comms_target\":\"4422a036-8e7c-4cc0-808d-f515e444cd0b\"}];\n",
       "  root.Bokeh.embed.embed_items_notebook(docs_json, render_items);\n",
       "\n",
       "  }\n",
       "  if (root.Bokeh !== undefined) {\n",
       "    embed_document(root);\n",
       "  } else {\n",
       "    var attempts = 0;\n",
       "    var timer = setInterval(function(root) {\n",
       "      if (root.Bokeh !== undefined) {\n",
       "        embed_document(root);\n",
       "        clearInterval(timer);\n",
       "      }\n",
       "      attempts++;\n",
       "      if (attempts > 100) {\n",
       "        console.log(\"Bokeh: ERROR: Unable to run BokehJS code because BokehJS library is missing\")\n",
       "        clearInterval(timer);\n",
       "      }\n",
       "    }, 10, root)\n",
       "  }\n",
       "})(window);"
      ],
      "application/vnd.bokehjs_exec.v0+json": ""
     },
     "metadata": {
      "application/vnd.bokehjs_exec.v0+json": {
       "id": "67a8ec52-1c6b-4a4a-bba0-4a2ca67268f7"
      }
     },
     "output_type": "display_data"
    },
    {
     "data": {
      "application/vnd.jupyter.widget-view+json": {
       "model_id": "8e0c2eebc89e4f8a9ba10ca0e13873fe",
       "version_major": 2,
       "version_minor": 0
      },
      "text/plain": [
       "interactive(children=(FloatSlider(value=0.00085, description='smoothing', max=0.004, min=0.0005120000000000124…"
      ]
     },
     "metadata": {},
     "output_type": "display_data"
    },
    {
     "data": {
      "text/plain": [
       "<function __main__.update(smoothing=0.00085)>"
      ]
     },
     "execution_count": 3,
     "metadata": {},
     "output_type": "execute_result"
    }
   ],
   "source": [
    "t = hl.utils.range_table(1000000, n_partitions=8)\n",
    "t = t.annotate(k = hl.rand_gamma(9,.5))\n",
    "cdf = t.aggregate(hl.agg.approx_cdf(t.k, k=350))\n",
    "y = np.array(cdf.ranks[1:-1]) / cdf.ranks[-1]\n",
    "x = np.array(cdf.values[1:-1])\n",
    "min_x = cdf.values[0]\n",
    "max_x = cdf.values[-1]\n",
    "min_e = np.max(y[1:] - y[:-1]) / 2.0\n",
    "\n",
    "p = figure(y_range=(0, .3))\n",
    "new_y, keep = f(min_x, max_x, x, y, min_e)\n",
    "slopes = np.diff([0, *new_y[keep], 1]) / np.diff([cdf.values[0], *x[keep], cdf.values[-1]])\n",
    "q = p.quad(left=[cdf.values[0], *x[keep]], right=[*x[keep], cdf.values[-1]], bottom=0, top=slopes)\n",
    "x_d = np.linspace(0, 15, 1000)\n",
    "p.line(x=x_d, y=gamma.pdf(x_d, 9, scale=.5), color='green', line_width=2)\n",
    "\n",
    "def update(smoothing=.00085):\n",
    "    new_y, keep = f(min_x, max_x, x, y, smoothing)\n",
    "    slopes = np.diff([0, *new_y[keep], 1]) / np.diff([cdf.values[0], *x[keep], cdf.values[-1]])\n",
    "    new_data = {'left': [cdf.values[0], *x[keep]], 'right': [*x[keep], cdf.values[-1]], 'bottom': np.full(len(slopes), 0), 'top': slopes}\n",
    "    q.data_source.data = new_data\n",
    "    push_notebook(handle)\n",
    "\n",
    "handle = show(p, notebook_handle=True)\n",
    "interact(update, smoothing=(min_e, .004, .00001))"
   ]
  },
  {
   "cell_type": "code",
   "execution_count": null,
   "metadata": {},
   "outputs": [],
   "source": [
    "compute_errors(cdf)"
   ]
  },
  {
   "cell_type": "code",
   "execution_count": 4,
   "metadata": {},
   "outputs": [
    {
     "data": {
      "text/plain": [
       "[494763, 7030, 2350, 782, 275, 86, 38, 14, 5, 3, 0]"
      ]
     },
     "execution_count": 4,
     "metadata": {},
     "output_type": "execute_result"
    }
   ],
   "source": [
    "cdf._compaction_counts"
   ]
  },
  {
   "cell_type": "code",
   "execution_count": null,
   "metadata": {},
   "outputs": [],
   "source": []
  }
 ],
 "metadata": {
  "kernelspec": {
   "display_name": "Python 3",
   "language": "python",
   "name": "python3"
  },
  "language_info": {
   "codemirror_mode": {
    "name": "ipython",
    "version": 3
   },
   "file_extension": ".py",
   "mimetype": "text/x-python",
   "name": "python",
   "nbconvert_exporter": "python",
   "pygments_lexer": "ipython3",
   "version": "3.6.7"
  }
 },
 "nbformat": 4,
 "nbformat_minor": 2
}
